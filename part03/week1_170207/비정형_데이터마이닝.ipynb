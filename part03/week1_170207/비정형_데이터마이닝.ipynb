{
 "cells": [
  {
   "cell_type": "markdown",
   "metadata": {},
   "source": [
    "# 제 4장 비정형 데이터마이닝"
   ]
  },
  {
   "cell_type": "markdown",
   "metadata": {},
   "source": [
    "## 제1 절 텍스트 마이닝\n",
    "\n",
    "- 텍스트 마이닝은 텍스트(text)를 이용한 데이터 마이닝이라고 할 수 있음.\n",
    "- 텍스트를 사용하여 패턴이나 관계를 추출하고 그 안에서 의미 있는 정보나 가치를 발굴하여 해석하는 일련의 과정"
   ]
  },
  {
   "cell_type": "markdown",
   "metadata": {},
   "source": [
    "### 1. 텍스트 마이닝의 기능\n",
    "\n",
    "- 텍스트 마이닝의 4가지 기능\n",
    "    1. 문서 요약\n",
    "    2. 문서 분류\n",
    "    3. 문서 군집\n",
    "    4. 특성 추출"
   ]
  },
  {
   "cell_type": "markdown",
   "metadata": {},
   "source": [
    "### 2. 텍스트 마이닝의 기본 프로세스\n",
    "\n",
    "- R에서 텍스트 마이닝을 수행하는데 필요한 패키지인 tm 패키지 설치"
   ]
  },
  {
   "cell_type": "code",
   "execution_count": 1,
   "metadata": {
    "collapsed": false
   },
   "outputs": [
    {
     "name": "stderr",
     "output_type": "stream",
     "text": [
      "also installing the dependencies 'NLP', 'slam'\n",
      "\n"
     ]
    },
    {
     "name": "stdout",
     "output_type": "stream",
     "text": [
      "package 'NLP' successfully unpacked and MD5 sums checked\n",
      "package 'slam' successfully unpacked and MD5 sums checked\n",
      "package 'tm' successfully unpacked and MD5 sums checked\n",
      "\n",
      "The downloaded binary packages are in\n",
      "\tC:\\Users\\Y.G JI\\AppData\\Local\\Temp\\Rtmp8St9I7\\downloaded_packages\n"
     ]
    }
   ],
   "source": [
    "install.packages(\"tm\",  repo=\"http://cran.nexr.com\")"
   ]
  },
  {
   "cell_type": "code",
   "execution_count": 1,
   "metadata": {
    "collapsed": false
   },
   "outputs": [
    {
     "name": "stderr",
     "output_type": "stream",
     "text": [
      "Warning message:\n",
      ": package 'tm' was built under R version 3.3.2Loading required package: NLP\n",
      "Warning message:\n",
      ": package 'NLP' was built under R version 3.3.2"
     ]
    }
   ],
   "source": [
    "library( tm )"
   ]
  },
  {
   "cell_type": "markdown",
   "metadata": {},
   "source": [
    "#### 가. 데이터 수집\n",
    "\n",
    "- 트위터에서 텍스트 데이터 수집\n",
    "\n",
    "![](data_01.jpg)\n",
    "\n",
    "![](data_02.jpg)"
   ]
  },
  {
   "cell_type": "code",
   "execution_count": 3,
   "metadata": {
    "collapsed": false
   },
   "outputs": [
    {
     "name": "stderr",
     "output_type": "stream",
     "text": [
      "also installing the dependencies 'bit', 'curl', 'openssl', 'bit64', 'rjson', 'httr'\n",
      "\n"
     ]
    },
    {
     "name": "stdout",
     "output_type": "stream",
     "text": [
      "package 'bit' successfully unpacked and MD5 sums checked\n",
      "package 'curl' successfully unpacked and MD5 sums checked\n",
      "package 'openssl' successfully unpacked and MD5 sums checked\n",
      "package 'bit64' successfully unpacked and MD5 sums checked\n",
      "package 'rjson' successfully unpacked and MD5 sums checked\n",
      "package 'httr' successfully unpacked and MD5 sums checked\n",
      "package 'twitteR' successfully unpacked and MD5 sums checked\n",
      "\n",
      "The downloaded binary packages are in\n",
      "\tC:\\Users\\Y.G JI\\AppData\\Local\\Temp\\Rtmp8St9I7\\downloaded_packages\n"
     ]
    }
   ],
   "source": [
    "install.packages(\"twitteR\",  repo=\"http://cran.nexr.com\")"
   ]
  },
  {
   "cell_type": "code",
   "execution_count": 2,
   "metadata": {
    "collapsed": false
   },
   "outputs": [
    {
     "name": "stderr",
     "output_type": "stream",
     "text": [
      "Warning message:\n",
      ": package 'twitteR' was built under R version 3.3.2"
     ]
    }
   ],
   "source": [
    "library(twitteR)"
   ]
  },
  {
   "cell_type": "code",
   "execution_count": 3,
   "metadata": {
    "collapsed": false
   },
   "outputs": [
    {
     "name": "stdout",
     "output_type": "stream",
     "text": [
      "[1] \"Using direct authentication\"\n"
     ]
    }
   ],
   "source": [
    "api_key <- \"RKCbEl0xGqfSdw1SCioFpHQmb\"\n",
    "api_secret <- \"Aeps3VNrrykBNYL33BLGOby5XXXVwuHTvhkmhHTE42LEnCfB5V\"\n",
    "access_token <- \"829270499800776704-VyJ78FDns7XjnHQEewQe9sYWKkDHjR1\"\n",
    "access_token_secret <- \"qyGyPMisIOPXtW00ezONqwkmiYDmI3bcTLG8alc41iH8N\"\n",
    "\n",
    "setup_twitter_oauth(api_key, api_secret, access_token, access_token_secret  )"
   ]
  },
  {
   "cell_type": "markdown",
   "metadata": {},
   "source": [
    "- [예제 1]  다음 데이터는 R에서 수집한 트위터 메시지로, 2014년 1월 1일 이후의 메시지 중 bigdata라는 단어가 등장한 트위터 메시지"
   ]
  },
  {
   "cell_type": "code",
   "execution_count": 78,
   "metadata": {
    "collapsed": false
   },
   "outputs": [],
   "source": [
    "keyword <- \"bigdata\"\n",
    "bigdata.tw <- searchTwitter( keyword, since='2017-02-01', n=1000, lang='en' )"
   ]
  },
  {
   "cell_type": "code",
   "execution_count": 79,
   "metadata": {
    "collapsed": false
   },
   "outputs": [
    {
     "data": {
      "text/plain": [
       "[1] \"jminguezc: 6 Best Linux Distributions For Programming. #BigData #DataScience #Programming #Linux #Python #RStats… https://t.co/3DN7slkZSv\""
      ]
     },
     "execution_count": 79,
     "metadata": {},
     "output_type": "execute_result"
    },
    {
     "data": {
      "text/plain": [
       "[1] \"VanRijmenam: Why retailers must think beyond traditional engagement strategies - by @DataMentors https://t.co/JPXVC2ifax #BigData\""
      ]
     },
     "execution_count": 79,
     "metadata": {},
     "output_type": "execute_result"
    },
    {
     "data": {
      "text/plain": [
       "[1] \"rishu_12: RT @AINewsletter: Top #Montreal The DeepLearning eBook: https://t.co/O0SygcbvGw via @KirkDBorne #General https://t.co/BcFxVVlhzs\""
      ]
     },
     "execution_count": 79,
     "metadata": {},
     "output_type": "execute_result"
    }
   ],
   "source": [
    "bigdata.tw[[1]]\n",
    "bigdata.tw[[2]]\n",
    "bigdata.tw[[3]]"
   ]
  },
  {
   "cell_type": "markdown",
   "metadata": {},
   "source": [
    "- 트위터 내용을 이용해 스크린 네임 정보와 •트위터 내용 가져오기"
   ]
  },
  {
   "cell_type": "code",
   "execution_count": 80,
   "metadata": {
    "collapsed": false
   },
   "outputs": [
    {
     "data": {
      "text/html": [
       "\"jminguezc\""
      ],
      "text/latex": [
       "\"jminguezc\""
      ],
      "text/markdown": [
       "\"jminguezc\""
      ],
      "text/plain": [
       "[1] \"jminguezc\""
      ]
     },
     "execution_count": 80,
     "metadata": {},
     "output_type": "execute_result"
    }
   ],
   "source": [
    "tweet <- bigdata.tw[[1]]\n",
    "tweet$getScreenName()"
   ]
  },
  {
   "cell_type": "code",
   "execution_count": 81,
   "metadata": {
    "collapsed": false
   },
   "outputs": [
    {
     "data": {
      "text/html": [
       "\"6 Best Linux Distributions For Programming. #BigData #DataScience #Programming #Linux #Python #RStats… https://t.co/3DN7slkZSv\""
      ],
      "text/latex": [
       "\"6 Best Linux Distributions For Programming. #BigData #DataScience #Programming #Linux #Python #RStats… https://t.co/3DN7slkZSv\""
      ],
      "text/markdown": [
       "\"6 Best Linux Distributions For Programming. #BigData #DataScience #Programming #Linux #Python #RStats… https://t.co/3DN7slkZSv\""
      ],
      "text/plain": [
       "[1] \"6 Best Linux Distributions For Programming. #BigData #DataScience #Programming #Linux #Python #RStats… https://t.co/3DN7slkZSv\""
      ]
     },
     "execution_count": 81,
     "metadata": {},
     "output_type": "execute_result"
    }
   ],
   "source": [
    "tweet$getText()"
   ]
  },
  {
   "cell_type": "markdown",
   "metadata": {},
   "source": [
    "- list형태로 되어 있는 bigdata.tw을 data.frame형태로 변환"
   ]
  },
  {
   "cell_type": "code",
   "execution_count": 82,
   "metadata": {
    "collapsed": false
   },
   "outputs": [
    {
     "data": {
      "text/html": [
       "\"list\""
      ],
      "text/latex": [
       "\"list\""
      ],
      "text/markdown": [
       "\"list\""
      ],
      "text/plain": [
       "[1] \"list\""
      ]
     },
     "execution_count": 82,
     "metadata": {},
     "output_type": "execute_result"
    },
    {
     "data": {
      "text/html": [
       "\"data.frame\""
      ],
      "text/latex": [
       "\"data.frame\""
      ],
      "text/markdown": [
       "\"data.frame\""
      ],
      "text/plain": [
       "[1] \"data.frame\""
      ]
     },
     "execution_count": 82,
     "metadata": {},
     "output_type": "execute_result"
    },
    {
     "data": {
      "text/html": [
       "<ol class=list-inline>\n",
       "\t<li>\"6 Best Linux Distributions For Programming. #BigData #DataScience #Programming #Linux #Python #RStats… https://t.co/3DN7slkZSv\"</li>\n",
       "\t<li>\"Why retailers must think beyond traditional engagement strategies - by @DataMentors https://t.co/JPXVC2ifax #BigData\"</li>\n",
       "\t<li>\"RT @AINewsletter: Top #Montreal The DeepLearning eBook: https://t.co/O0SygcbvGw via @KirkDBorne #General https://t.co/BcFxVVlhzs\"</li>\n",
       "\t<li>\"RT @marcusborba: 15 #Python and R Data Visualization Charts. #BigData #DataScience #DataViz via @gp_pulipaka\n",
       "https://t.co/SNxHOqSLGX https:…\"</li>\n",
       "\t<li>\"How Big Data is Advancing Women’s Health https://t.co/O9azTROiDc 🗣#Opines on #BigData\"</li>\n",
       "</ol>\n"
      ],
      "text/latex": [
       "\\begin{enumerate*}\n",
       "\\item \"6 Best Linux Distributions For Programming. #BigData #DataScience #Programming #Linux #Python #RStats… https://t.co/3DN7slkZSv\"\n",
       "\\item \"Why retailers must think beyond traditional engagement strategies - by @DataMentors https://t.co/JPXVC2ifax #BigData\"\n",
       "\\item \"RT @AINewsletter: Top #Montreal The DeepLearning eBook: https://t.co/O0SygcbvGw via @KirkDBorne #General https://t.co/BcFxVVlhzs\"\n",
       "\\item \"RT @marcusborba: 15 #Python and R Data Visualization Charts. #BigData #DataScience #DataViz via @gp_pulipaka\n",
       "https://t.co/SNxHOqSLGX https:…\"\n",
       "\\item \"How Big Data is Advancing Women’s Health https://t.co/O9azTROiDc 🗣#Opines on #BigData\"\n",
       "\\end{enumerate*}\n"
      ],
      "text/markdown": [
       "1. \"6 Best Linux Distributions For Programming. #BigData #DataScience #Programming #Linux #Python #RStats… https://t.co/3DN7slkZSv\"\n",
       "2. \"Why retailers must think beyond traditional engagement strategies - by @DataMentors https://t.co/JPXVC2ifax #BigData\"\n",
       "3. \"RT @AINewsletter: Top #Montreal The DeepLearning eBook: https://t.co/O0SygcbvGw via @KirkDBorne #General https://t.co/BcFxVVlhzs\"\n",
       "4. \"RT @marcusborba: 15 #Python and R Data Visualization Charts. #BigData #DataScience #DataViz via @gp_pulipaka\n",
       "https://t.co/SNxHOqSLGX https:…\"\n",
       "5. \"How Big Data is Advancing Women’s Health https://t.co/O9azTROiDc 🗣#Opines on #BigData\"\n",
       "\n",
       "\n"
      ],
      "text/plain": [
       "[1] \"6 Best Linux Distributions For Programming. #BigData #DataScience #Programming #Linux #Python #RStats… https://t.co/3DN7slkZSv\"               \n",
       "[2] \"Why retailers must think beyond traditional engagement strategies - by @DataMentors https://t.co/JPXVC2ifax #BigData\"                          \n",
       "[3] \"RT @AINewsletter: Top #Montreal The DeepLearning eBook: https://t.co/O0SygcbvGw via @KirkDBorne #General https://t.co/BcFxVVlhzs\"              \n",
       "[4] \"RT @marcusborba: 15 #Python and R Data Visualization Charts. #BigData #DataScience #DataViz via @gp_pulipaka\\nhttps://t.co/SNxHOqSLGX https:…\"\n",
       "[5] \"How Big Data is Advancing Women’s Health https://t.co/O9azTROiDc <ed><U+00A0><U+00BD><ed><U+00B7><U+00A3>#Opines on #BigData\"                 "
      ]
     },
     "execution_count": 82,
     "metadata": {},
     "output_type": "execute_result"
    }
   ],
   "source": [
    "class(bigdata.tw)\n",
    "\n",
    "bigdata.df <- twListToDF( bigdata.tw )\n",
    "\n",
    "class(bigdata.df)\n",
    "\n",
    "bigdata.text <- bigdata.df$text\n",
    "head( bigdata.text, n=5 )"
   ]
  },
  {
   "cell_type": "markdown",
   "metadata": {},
   "source": [
    "#### 나. 데이터  전처리 및 가공\n",
    "\n",
    "- 유의하게 사용되지 않는 부분을 제거\n",
    "- 분석에 용이하도록 변경 과정"
   ]
  },
  {
   "cell_type": "markdown",
   "metadata": {},
   "source": [
    "##### 1) Corpus 생성 ( 말뭉치 생성)\n",
    "\n",
    "- 텍스트 마이닝에서 문서를 관리하느 기본구조를 Corpus라고 함.\n",
    "- 이는 텍스트 문서들의 집합을 의미"
   ]
  },
  {
   "cell_type": "markdown",
   "metadata": {},
   "source": [
    "- [예제 2] tm 패키지안에 있는 데이터을 읽어오자."
   ]
  },
  {
   "cell_type": "code",
   "execution_count": 9,
   "metadata": {
    "collapsed": false
   },
   "outputs": [
    {
     "data": {
      "text/html": [
       "\"C:/Anaconda2/R/library/tm/texts/txt\""
      ],
      "text/latex": [
       "\"C:/Anaconda2/R/library/tm/texts/txt\""
      ],
      "text/markdown": [
       "\"C:/Anaconda2/R/library/tm/texts/txt\""
      ],
      "text/plain": [
       "[1] \"C:/Anaconda2/R/library/tm/texts/txt\""
      ]
     },
     "execution_count": 9,
     "metadata": {},
     "output_type": "execute_result"
    }
   ],
   "source": [
    "txt <- system.file( 'texts', 'txt', package='tm' )\n",
    "txt"
   ]
  },
  {
   "cell_type": "code",
   "execution_count": 10,
   "metadata": {
    "collapsed": false
   },
   "outputs": [
    {
     "data": {
      "text/plain": [
       "<<VCorpus>>\n",
       "Metadata:  corpus specific: 0, document level (indexed): 0\n",
       "Content:  documents: 5"
      ]
     },
     "execution_count": 10,
     "metadata": {},
     "output_type": "execute_result"
    }
   ],
   "source": [
    "ovid <- Corpus(  DirSource(txt),  readerControl=list(language='lat')  )\n",
    "ovid"
   ]
  },
  {
   "cell_type": "code",
   "execution_count": 11,
   "metadata": {
    "collapsed": false
   },
   "outputs": [
    {
     "data": {
      "text/plain": [
       "<<PlainTextDocument>>\n",
       "Metadata:  7\n",
       "Content:  chars: 676"
      ]
     },
     "execution_count": 11,
     "metadata": {},
     "output_type": "execute_result"
    }
   ],
   "source": [
    "ovid[[1]]"
   ]
  },
  {
   "cell_type": "markdown",
   "metadata": {},
   "source": [
    "- reader종류를 확인해보고 텍스트 이외에도 Word, PDF, CSV 등의 다양한 문서형식을 읽어올 수 있음."
   ]
  },
  {
   "cell_type": "code",
   "execution_count": 12,
   "metadata": {
    "collapsed": false
   },
   "outputs": [
    {
     "data": {
      "text/html": [
       "<ol class=list-inline>\n",
       "\t<li>\"readDOC\"</li>\n",
       "\t<li>\"readPDF\"</li>\n",
       "\t<li>\"readPlain\"</li>\n",
       "\t<li>\"readRCV1\"</li>\n",
       "\t<li>\"readRCV1asPlain\"</li>\n",
       "\t<li>\"readReut21578XML\"</li>\n",
       "\t<li>\"readReut21578XMLasPlain\"</li>\n",
       "\t<li>\"readTabular\"</li>\n",
       "\t<li>\"readTagged\"</li>\n",
       "\t<li>\"readXML\"</li>\n",
       "</ol>\n"
      ],
      "text/latex": [
       "\\begin{enumerate*}\n",
       "\\item \"readDOC\"\n",
       "\\item \"readPDF\"\n",
       "\\item \"readPlain\"\n",
       "\\item \"readRCV1\"\n",
       "\\item \"readRCV1asPlain\"\n",
       "\\item \"readReut21578XML\"\n",
       "\\item \"readReut21578XMLasPlain\"\n",
       "\\item \"readTabular\"\n",
       "\\item \"readTagged\"\n",
       "\\item \"readXML\"\n",
       "\\end{enumerate*}\n"
      ],
      "text/markdown": [
       "1. \"readDOC\"\n",
       "2. \"readPDF\"\n",
       "3. \"readPlain\"\n",
       "4. \"readRCV1\"\n",
       "5. \"readRCV1asPlain\"\n",
       "6. \"readReut21578XML\"\n",
       "7. \"readReut21578XMLasPlain\"\n",
       "8. \"readTabular\"\n",
       "9. \"readTagged\"\n",
       "10. \"readXML\"\n",
       "\n",
       "\n"
      ],
      "text/plain": [
       " [1] \"readDOC\"                 \"readPDF\"                \n",
       " [3] \"readPlain\"               \"readRCV1\"               \n",
       " [5] \"readRCV1asPlain\"         \"readReut21578XML\"       \n",
       " [7] \"readReut21578XMLasPlain\" \"readTabular\"            \n",
       " [9] \"readTagged\"              \"readXML\"                "
      ]
     },
     "execution_count": 12,
     "metadata": {},
     "output_type": "execute_result"
    }
   ],
   "source": [
    "getReaders()"
   ]
  },
  {
   "cell_type": "markdown",
   "metadata": {},
   "source": [
    "- 트위터에서 읽어온 bigdata.text을 corpus 형태로 변환하자"
   ]
  },
  {
   "cell_type": "code",
   "execution_count": 83,
   "metadata": {
    "collapsed": false
   },
   "outputs": [
    {
     "data": {
      "text/plain": [
       "<<VCorpus>>\n",
       "Metadata:  corpus specific: 0, document level (indexed): 0\n",
       "Content:  documents: 1000"
      ]
     },
     "execution_count": 83,
     "metadata": {},
     "output_type": "execute_result"
    }
   ],
   "source": [
    "my.corpus <- Corpus( VectorSource(bigdata.text) )\n",
    "my.corpus"
   ]
  },
  {
   "cell_type": "code",
   "execution_count": 84,
   "metadata": {
    "collapsed": false
   },
   "outputs": [
    {
     "data": {
      "text/html": [
       "\"6 Best Linux Distributions For Programming. #BigData #DataScience #Programming #Linux #Python #RStats… https://t.co/3DN7slkZSv\""
      ],
      "text/latex": [
       "\"6 Best Linux Distributions For Programming. #BigData #DataScience #Programming #Linux #Python #RStats… https://t.co/3DN7slkZSv\""
      ],
      "text/markdown": [
       "\"6 Best Linux Distributions For Programming. #BigData #DataScience #Programming #Linux #Python #RStats… https://t.co/3DN7slkZSv\""
      ],
      "text/plain": [
       "[1] \"6 Best Linux Distributions For Programming. #BigData #DataScience #Programming #Linux #Python #RStats… https://t.co/3DN7slkZSv\""
      ]
     },
     "execution_count": 84,
     "metadata": {},
     "output_type": "execute_result"
    }
   ],
   "source": [
    "my.corpus[[1]]$content"
   ]
  },
  {
   "cell_type": "code",
   "execution_count": 85,
   "metadata": {
    "collapsed": false
   },
   "outputs": [
    {
     "data": {
      "text/plain": [
       "<<PlainTextDocument>>\n",
       "Metadata:  7\n",
       "Content:  chars: 126"
      ]
     },
     "execution_count": 85,
     "metadata": {},
     "output_type": "execute_result"
    }
   ],
   "source": [
    "my.corpus[[1]]"
   ]
  },
  {
   "cell_type": "markdown",
   "metadata": {},
   "source": [
    "##### 2)  tm_map() 함수의 적용\n",
    "\n",
    "- Corpus의 형식의 데이터들의 변형을 위한 tm_map()함수가 제공"
   ]
  },
  {
   "cell_type": "code",
   "execution_count": 86,
   "metadata": {
    "collapsed": false
   },
   "outputs": [
    {
     "data": {
      "text/html": [
       "\"6 Best Linux Distributions For Programming. #BigData #DataScience #Programming #Linux #Python #RStats… https://t.co/3DN7slkZSv\""
      ],
      "text/latex": [
       "\"6 Best Linux Distributions For Programming. #BigData #DataScience #Programming #Linux #Python #RStats… https://t.co/3DN7slkZSv\""
      ],
      "text/markdown": [
       "\"6 Best Linux Distributions For Programming. #BigData #DataScience #Programming #Linux #Python #RStats… https://t.co/3DN7slkZSv\""
      ],
      "text/plain": [
       "[1] \"6 Best Linux Distributions For Programming. #BigData #DataScience #Programming #Linux #Python #RStats… https://t.co/3DN7slkZSv\""
      ]
     },
     "execution_count": 86,
     "metadata": {},
     "output_type": "execute_result"
    }
   ],
   "source": [
    "my.corpus.new <- tm_map( my.corpus, stripWhitespace )\n",
    "my.corpus.new[[1]]$content"
   ]
  },
  {
   "cell_type": "markdown",
   "metadata": {},
   "source": [
    "- 특정 패턴을 가지는 단어를 제거하거나 다른 단어로 대체"
   ]
  },
  {
   "cell_type": "code",
   "execution_count": 87,
   "metadata": {
    "collapsed": false
   },
   "outputs": [
    {
     "data": {
      "text/html": [
       "\"6 Best Linux Distributions For Programming. #BigData #DataScience #Programming #Linux #Python #RStats… https://t.co/3DN7slkZSv\""
      ],
      "text/latex": [
       "\"6 Best Linux Distributions For Programming. #BigData #DataScience #Programming #Linux #Python #RStats… https://t.co/3DN7slkZSv\""
      ],
      "text/markdown": [
       "\"6 Best Linux Distributions For Programming. #BigData #DataScience #Programming #Linux #Python #RStats… https://t.co/3DN7slkZSv\""
      ],
      "text/plain": [
       "[1] \"6 Best Linux Distributions For Programming. #BigData #DataScience #Programming #Linux #Python #RStats… https://t.co/3DN7slkZSv\""
      ]
     },
     "execution_count": 87,
     "metadata": {},
     "output_type": "execute_result"
    }
   ],
   "source": [
    "my.corpus.new <- tm_map( my.corpus.new, content_transformer(gsub),  pattern='@\\\\S*', replacement='' )\n",
    "my.corpus.new[[1]]$content"
   ]
  },
  {
   "cell_type": "code",
   "execution_count": 88,
   "metadata": {
    "collapsed": false
   },
   "outputs": [
    {
     "data": {
      "text/html": [
       "\"6 Best Linux Distributions For Programming. #BigData #DataScience #Programming #Linux #Python #RStats… \""
      ],
      "text/latex": [
       "\"6 Best Linux Distributions For Programming. #BigData #DataScience #Programming #Linux #Python #RStats… \""
      ],
      "text/markdown": [
       "\"6 Best Linux Distributions For Programming. #BigData #DataScience #Programming #Linux #Python #RStats… \""
      ],
      "text/plain": [
       "[1] \"6 Best Linux Distributions For Programming. #BigData #DataScience #Programming #Linux #Python #RStats… \""
      ]
     },
     "execution_count": 88,
     "metadata": {},
     "output_type": "execute_result"
    }
   ],
   "source": [
    "my.corpus.new <- tm_map( my.corpus.new, content_transformer(gsub),  pattern='http\\\\S*', replacement='' )\n",
    "my.corpus.new[[1]]$content"
   ]
  },
  {
   "cell_type": "markdown",
   "metadata": {},
   "source": [
    "- 문장 부호 및 구두점 제거"
   ]
  },
  {
   "cell_type": "code",
   "execution_count": 89,
   "metadata": {
    "collapsed": false
   },
   "outputs": [
    {
     "data": {
      "text/html": [
       "\"6 Best Linux Distributions For Programming BigData DataScience Programming Linux Python RStats \""
      ],
      "text/latex": [
       "\"6 Best Linux Distributions For Programming BigData DataScience Programming Linux Python RStats \""
      ],
      "text/markdown": [
       "\"6 Best Linux Distributions For Programming BigData DataScience Programming Linux Python RStats \""
      ],
      "text/plain": [
       "[1] \"6 Best Linux Distributions For Programming BigData DataScience Programming Linux Python RStats \""
      ]
     },
     "execution_count": 89,
     "metadata": {},
     "output_type": "execute_result"
    }
   ],
   "source": [
    "my.corpus.new <- tm_map( my.corpus.new, removePunctuation )\n",
    "my.corpus.new[[1]]$content"
   ]
  },
  {
   "cell_type": "markdown",
   "metadata": {},
   "source": [
    "- 대문자를 소문자로 변환"
   ]
  },
  {
   "cell_type": "code",
   "execution_count": 90,
   "metadata": {
    "collapsed": false
   },
   "outputs": [
    {
     "data": {
      "text/html": [
       "\"6 best linux distributions for programming bigdata datascience programming linux python rstats \""
      ],
      "text/latex": [
       "\"6 best linux distributions for programming bigdata datascience programming linux python rstats \""
      ],
      "text/markdown": [
       "\"6 best linux distributions for programming bigdata datascience programming linux python rstats \""
      ],
      "text/plain": [
       "[1] \"6 best linux distributions for programming bigdata datascience programming linux python rstats \""
      ]
     },
     "execution_count": 90,
     "metadata": {},
     "output_type": "execute_result"
    }
   ],
   "source": [
    "my.corpus.new <- tm_map( my.corpus.new, content_transformer(tolower)  )\n",
    "my.corpus.new[[1]]$content"
   ]
  },
  {
   "cell_type": "markdown",
   "metadata": {},
   "source": [
    "- 분석에 필요없는 특정 단어를 제거,  stop word라고 하며  불용어라고 함."
   ]
  },
  {
   "cell_type": "code",
   "execution_count": 91,
   "metadata": {
    "collapsed": false
   },
   "outputs": [
    {
     "data": {
      "text/html": [
       "<ol class=list-inline>\n",
       "\t<li>\"i\"</li>\n",
       "\t<li>\"me\"</li>\n",
       "\t<li>\"my\"</li>\n",
       "\t<li>\"myself\"</li>\n",
       "\t<li>\"we\"</li>\n",
       "\t<li>\"our\"</li>\n",
       "\t<li>\"ours\"</li>\n",
       "\t<li>\"ourselves\"</li>\n",
       "\t<li>\"you\"</li>\n",
       "\t<li>\"your\"</li>\n",
       "\t<li>\"yours\"</li>\n",
       "\t<li>\"yourself\"</li>\n",
       "\t<li>\"yourselves\"</li>\n",
       "\t<li>\"he\"</li>\n",
       "\t<li>\"him\"</li>\n",
       "\t<li>\"his\"</li>\n",
       "\t<li>\"himself\"</li>\n",
       "\t<li>\"she\"</li>\n",
       "\t<li>\"her\"</li>\n",
       "\t<li>\"hers\"</li>\n",
       "\t<li>\"herself\"</li>\n",
       "\t<li>\"it\"</li>\n",
       "\t<li>\"its\"</li>\n",
       "\t<li>\"itself\"</li>\n",
       "\t<li>\"they\"</li>\n",
       "\t<li>\"them\"</li>\n",
       "\t<li>\"their\"</li>\n",
       "\t<li>\"theirs\"</li>\n",
       "\t<li>\"themselves\"</li>\n",
       "\t<li>\"what\"</li>\n",
       "\t<li>\"which\"</li>\n",
       "\t<li>\"who\"</li>\n",
       "\t<li>\"whom\"</li>\n",
       "\t<li>\"this\"</li>\n",
       "\t<li>\"that\"</li>\n",
       "\t<li>\"these\"</li>\n",
       "\t<li>\"those\"</li>\n",
       "\t<li>\"am\"</li>\n",
       "\t<li>\"is\"</li>\n",
       "\t<li>\"are\"</li>\n",
       "\t<li>\"was\"</li>\n",
       "\t<li>\"were\"</li>\n",
       "\t<li>\"be\"</li>\n",
       "\t<li>\"been\"</li>\n",
       "\t<li>\"being\"</li>\n",
       "\t<li>\"have\"</li>\n",
       "\t<li>\"has\"</li>\n",
       "\t<li>\"had\"</li>\n",
       "\t<li>\"having\"</li>\n",
       "\t<li>\"do\"</li>\n",
       "\t<li>\"does\"</li>\n",
       "\t<li>\"did\"</li>\n",
       "\t<li>\"doing\"</li>\n",
       "\t<li>\"would\"</li>\n",
       "\t<li>\"should\"</li>\n",
       "\t<li>\"could\"</li>\n",
       "\t<li>\"ought\"</li>\n",
       "\t<li>\"i'm\"</li>\n",
       "\t<li>\"you're\"</li>\n",
       "\t<li>\"he's\"</li>\n",
       "\t<li>\"she's\"</li>\n",
       "\t<li>\"it's\"</li>\n",
       "\t<li>\"we're\"</li>\n",
       "\t<li>\"they're\"</li>\n",
       "\t<li>\"i've\"</li>\n",
       "\t<li>\"you've\"</li>\n",
       "\t<li>\"we've\"</li>\n",
       "\t<li>\"they've\"</li>\n",
       "\t<li>\"i'd\"</li>\n",
       "\t<li>\"you'd\"</li>\n",
       "\t<li>\"he'd\"</li>\n",
       "\t<li>\"she'd\"</li>\n",
       "\t<li>\"we'd\"</li>\n",
       "\t<li>\"they'd\"</li>\n",
       "\t<li>\"i'll\"</li>\n",
       "\t<li>\"you'll\"</li>\n",
       "\t<li>\"he'll\"</li>\n",
       "\t<li>\"she'll\"</li>\n",
       "\t<li>\"we'll\"</li>\n",
       "\t<li>\"they'll\"</li>\n",
       "\t<li>\"isn't\"</li>\n",
       "\t<li>\"aren't\"</li>\n",
       "\t<li>\"wasn't\"</li>\n",
       "\t<li>\"weren't\"</li>\n",
       "\t<li>\"hasn't\"</li>\n",
       "\t<li>\"haven't\"</li>\n",
       "\t<li>\"hadn't\"</li>\n",
       "\t<li>\"doesn't\"</li>\n",
       "\t<li>\"don't\"</li>\n",
       "\t<li>\"didn't\"</li>\n",
       "\t<li>\"won't\"</li>\n",
       "\t<li>\"wouldn't\"</li>\n",
       "\t<li>\"shan't\"</li>\n",
       "\t<li>\"shouldn't\"</li>\n",
       "\t<li>\"can't\"</li>\n",
       "\t<li>\"cannot\"</li>\n",
       "\t<li>\"couldn't\"</li>\n",
       "\t<li>\"mustn't\"</li>\n",
       "\t<li>\"let's\"</li>\n",
       "\t<li>\"that's\"</li>\n",
       "\t<li>\"who's\"</li>\n",
       "\t<li>\"what's\"</li>\n",
       "\t<li>\"here's\"</li>\n",
       "\t<li>\"there's\"</li>\n",
       "\t<li>\"when's\"</li>\n",
       "\t<li>\"where's\"</li>\n",
       "\t<li>\"why's\"</li>\n",
       "\t<li>\"how's\"</li>\n",
       "\t<li>\"a\"</li>\n",
       "\t<li>\"an\"</li>\n",
       "\t<li>\"the\"</li>\n",
       "\t<li>\"and\"</li>\n",
       "\t<li>\"but\"</li>\n",
       "\t<li>\"if\"</li>\n",
       "\t<li>\"or\"</li>\n",
       "\t<li>\"because\"</li>\n",
       "\t<li>\"as\"</li>\n",
       "\t<li>\"until\"</li>\n",
       "\t<li>\"while\"</li>\n",
       "\t<li>\"of\"</li>\n",
       "\t<li>\"at\"</li>\n",
       "\t<li>\"by\"</li>\n",
       "\t<li>\"for\"</li>\n",
       "\t<li>\"with\"</li>\n",
       "\t<li>\"about\"</li>\n",
       "\t<li>\"against\"</li>\n",
       "\t<li>\"between\"</li>\n",
       "\t<li>\"into\"</li>\n",
       "\t<li>\"through\"</li>\n",
       "\t<li>\"during\"</li>\n",
       "\t<li>\"before\"</li>\n",
       "\t<li>\"after\"</li>\n",
       "\t<li>\"above\"</li>\n",
       "\t<li>\"below\"</li>\n",
       "\t<li>\"to\"</li>\n",
       "\t<li>\"from\"</li>\n",
       "\t<li>\"up\"</li>\n",
       "\t<li>\"down\"</li>\n",
       "\t<li>\"in\"</li>\n",
       "\t<li>\"out\"</li>\n",
       "\t<li>\"on\"</li>\n",
       "\t<li>\"off\"</li>\n",
       "\t<li>\"over\"</li>\n",
       "\t<li>\"under\"</li>\n",
       "\t<li>\"again\"</li>\n",
       "\t<li>\"further\"</li>\n",
       "\t<li>\"then\"</li>\n",
       "\t<li>\"once\"</li>\n",
       "\t<li>\"here\"</li>\n",
       "\t<li>\"there\"</li>\n",
       "\t<li>\"when\"</li>\n",
       "\t<li>\"where\"</li>\n",
       "\t<li>\"why\"</li>\n",
       "\t<li>\"how\"</li>\n",
       "\t<li>\"all\"</li>\n",
       "\t<li>\"any\"</li>\n",
       "\t<li>\"both\"</li>\n",
       "\t<li>\"each\"</li>\n",
       "\t<li>\"few\"</li>\n",
       "\t<li>\"more\"</li>\n",
       "\t<li>\"most\"</li>\n",
       "\t<li>\"other\"</li>\n",
       "\t<li>\"some\"</li>\n",
       "\t<li>\"such\"</li>\n",
       "\t<li>\"no\"</li>\n",
       "\t<li>\"nor\"</li>\n",
       "\t<li>\"not\"</li>\n",
       "\t<li>\"only\"</li>\n",
       "\t<li>\"own\"</li>\n",
       "\t<li>\"same\"</li>\n",
       "\t<li>\"so\"</li>\n",
       "\t<li>\"than\"</li>\n",
       "\t<li>\"too\"</li>\n",
       "\t<li>\"very\"</li>\n",
       "</ol>\n"
      ],
      "text/latex": [
       "\\begin{enumerate*}\n",
       "\\item \"i\"\n",
       "\\item \"me\"\n",
       "\\item \"my\"\n",
       "\\item \"myself\"\n",
       "\\item \"we\"\n",
       "\\item \"our\"\n",
       "\\item \"ours\"\n",
       "\\item \"ourselves\"\n",
       "\\item \"you\"\n",
       "\\item \"your\"\n",
       "\\item \"yours\"\n",
       "\\item \"yourself\"\n",
       "\\item \"yourselves\"\n",
       "\\item \"he\"\n",
       "\\item \"him\"\n",
       "\\item \"his\"\n",
       "\\item \"himself\"\n",
       "\\item \"she\"\n",
       "\\item \"her\"\n",
       "\\item \"hers\"\n",
       "\\item \"herself\"\n",
       "\\item \"it\"\n",
       "\\item \"its\"\n",
       "\\item \"itself\"\n",
       "\\item \"they\"\n",
       "\\item \"them\"\n",
       "\\item \"their\"\n",
       "\\item \"theirs\"\n",
       "\\item \"themselves\"\n",
       "\\item \"what\"\n",
       "\\item \"which\"\n",
       "\\item \"who\"\n",
       "\\item \"whom\"\n",
       "\\item \"this\"\n",
       "\\item \"that\"\n",
       "\\item \"these\"\n",
       "\\item \"those\"\n",
       "\\item \"am\"\n",
       "\\item \"is\"\n",
       "\\item \"are\"\n",
       "\\item \"was\"\n",
       "\\item \"were\"\n",
       "\\item \"be\"\n",
       "\\item \"been\"\n",
       "\\item \"being\"\n",
       "\\item \"have\"\n",
       "\\item \"has\"\n",
       "\\item \"had\"\n",
       "\\item \"having\"\n",
       "\\item \"do\"\n",
       "\\item \"does\"\n",
       "\\item \"did\"\n",
       "\\item \"doing\"\n",
       "\\item \"would\"\n",
       "\\item \"should\"\n",
       "\\item \"could\"\n",
       "\\item \"ought\"\n",
       "\\item \"i'm\"\n",
       "\\item \"you're\"\n",
       "\\item \"he's\"\n",
       "\\item \"she's\"\n",
       "\\item \"it's\"\n",
       "\\item \"we're\"\n",
       "\\item \"they're\"\n",
       "\\item \"i've\"\n",
       "\\item \"you've\"\n",
       "\\item \"we've\"\n",
       "\\item \"they've\"\n",
       "\\item \"i'd\"\n",
       "\\item \"you'd\"\n",
       "\\item \"he'd\"\n",
       "\\item \"she'd\"\n",
       "\\item \"we'd\"\n",
       "\\item \"they'd\"\n",
       "\\item \"i'll\"\n",
       "\\item \"you'll\"\n",
       "\\item \"he'll\"\n",
       "\\item \"she'll\"\n",
       "\\item \"we'll\"\n",
       "\\item \"they'll\"\n",
       "\\item \"isn't\"\n",
       "\\item \"aren't\"\n",
       "\\item \"wasn't\"\n",
       "\\item \"weren't\"\n",
       "\\item \"hasn't\"\n",
       "\\item \"haven't\"\n",
       "\\item \"hadn't\"\n",
       "\\item \"doesn't\"\n",
       "\\item \"don't\"\n",
       "\\item \"didn't\"\n",
       "\\item \"won't\"\n",
       "\\item \"wouldn't\"\n",
       "\\item \"shan't\"\n",
       "\\item \"shouldn't\"\n",
       "\\item \"can't\"\n",
       "\\item \"cannot\"\n",
       "\\item \"couldn't\"\n",
       "\\item \"mustn't\"\n",
       "\\item \"let's\"\n",
       "\\item \"that's\"\n",
       "\\item \"who's\"\n",
       "\\item \"what's\"\n",
       "\\item \"here's\"\n",
       "\\item \"there's\"\n",
       "\\item \"when's\"\n",
       "\\item \"where's\"\n",
       "\\item \"why's\"\n",
       "\\item \"how's\"\n",
       "\\item \"a\"\n",
       "\\item \"an\"\n",
       "\\item \"the\"\n",
       "\\item \"and\"\n",
       "\\item \"but\"\n",
       "\\item \"if\"\n",
       "\\item \"or\"\n",
       "\\item \"because\"\n",
       "\\item \"as\"\n",
       "\\item \"until\"\n",
       "\\item \"while\"\n",
       "\\item \"of\"\n",
       "\\item \"at\"\n",
       "\\item \"by\"\n",
       "\\item \"for\"\n",
       "\\item \"with\"\n",
       "\\item \"about\"\n",
       "\\item \"against\"\n",
       "\\item \"between\"\n",
       "\\item \"into\"\n",
       "\\item \"through\"\n",
       "\\item \"during\"\n",
       "\\item \"before\"\n",
       "\\item \"after\"\n",
       "\\item \"above\"\n",
       "\\item \"below\"\n",
       "\\item \"to\"\n",
       "\\item \"from\"\n",
       "\\item \"up\"\n",
       "\\item \"down\"\n",
       "\\item \"in\"\n",
       "\\item \"out\"\n",
       "\\item \"on\"\n",
       "\\item \"off\"\n",
       "\\item \"over\"\n",
       "\\item \"under\"\n",
       "\\item \"again\"\n",
       "\\item \"further\"\n",
       "\\item \"then\"\n",
       "\\item \"once\"\n",
       "\\item \"here\"\n",
       "\\item \"there\"\n",
       "\\item \"when\"\n",
       "\\item \"where\"\n",
       "\\item \"why\"\n",
       "\\item \"how\"\n",
       "\\item \"all\"\n",
       "\\item \"any\"\n",
       "\\item \"both\"\n",
       "\\item \"each\"\n",
       "\\item \"few\"\n",
       "\\item \"more\"\n",
       "\\item \"most\"\n",
       "\\item \"other\"\n",
       "\\item \"some\"\n",
       "\\item \"such\"\n",
       "\\item \"no\"\n",
       "\\item \"nor\"\n",
       "\\item \"not\"\n",
       "\\item \"only\"\n",
       "\\item \"own\"\n",
       "\\item \"same\"\n",
       "\\item \"so\"\n",
       "\\item \"than\"\n",
       "\\item \"too\"\n",
       "\\item \"very\"\n",
       "\\end{enumerate*}\n"
      ],
      "text/markdown": [
       "1. \"i\"\n",
       "2. \"me\"\n",
       "3. \"my\"\n",
       "4. \"myself\"\n",
       "5. \"we\"\n",
       "6. \"our\"\n",
       "7. \"ours\"\n",
       "8. \"ourselves\"\n",
       "9. \"you\"\n",
       "10. \"your\"\n",
       "11. \"yours\"\n",
       "12. \"yourself\"\n",
       "13. \"yourselves\"\n",
       "14. \"he\"\n",
       "15. \"him\"\n",
       "16. \"his\"\n",
       "17. \"himself\"\n",
       "18. \"she\"\n",
       "19. \"her\"\n",
       "20. \"hers\"\n",
       "21. \"herself\"\n",
       "22. \"it\"\n",
       "23. \"its\"\n",
       "24. \"itself\"\n",
       "25. \"they\"\n",
       "26. \"them\"\n",
       "27. \"their\"\n",
       "28. \"theirs\"\n",
       "29. \"themselves\"\n",
       "30. \"what\"\n",
       "31. \"which\"\n",
       "32. \"who\"\n",
       "33. \"whom\"\n",
       "34. \"this\"\n",
       "35. \"that\"\n",
       "36. \"these\"\n",
       "37. \"those\"\n",
       "38. \"am\"\n",
       "39. \"is\"\n",
       "40. \"are\"\n",
       "41. \"was\"\n",
       "42. \"were\"\n",
       "43. \"be\"\n",
       "44. \"been\"\n",
       "45. \"being\"\n",
       "46. \"have\"\n",
       "47. \"has\"\n",
       "48. \"had\"\n",
       "49. \"having\"\n",
       "50. \"do\"\n",
       "51. \"does\"\n",
       "52. \"did\"\n",
       "53. \"doing\"\n",
       "54. \"would\"\n",
       "55. \"should\"\n",
       "56. \"could\"\n",
       "57. \"ought\"\n",
       "58. \"i'm\"\n",
       "59. \"you're\"\n",
       "60. \"he's\"\n",
       "61. \"she's\"\n",
       "62. \"it's\"\n",
       "63. \"we're\"\n",
       "64. \"they're\"\n",
       "65. \"i've\"\n",
       "66. \"you've\"\n",
       "67. \"we've\"\n",
       "68. \"they've\"\n",
       "69. \"i'd\"\n",
       "70. \"you'd\"\n",
       "71. \"he'd\"\n",
       "72. \"she'd\"\n",
       "73. \"we'd\"\n",
       "74. \"they'd\"\n",
       "75. \"i'll\"\n",
       "76. \"you'll\"\n",
       "77. \"he'll\"\n",
       "78. \"she'll\"\n",
       "79. \"we'll\"\n",
       "80. \"they'll\"\n",
       "81. \"isn't\"\n",
       "82. \"aren't\"\n",
       "83. \"wasn't\"\n",
       "84. \"weren't\"\n",
       "85. \"hasn't\"\n",
       "86. \"haven't\"\n",
       "87. \"hadn't\"\n",
       "88. \"doesn't\"\n",
       "89. \"don't\"\n",
       "90. \"didn't\"\n",
       "91. \"won't\"\n",
       "92. \"wouldn't\"\n",
       "93. \"shan't\"\n",
       "94. \"shouldn't\"\n",
       "95. \"can't\"\n",
       "96. \"cannot\"\n",
       "97. \"couldn't\"\n",
       "98. \"mustn't\"\n",
       "99. \"let's\"\n",
       "100. \"that's\"\n",
       "101. \"who's\"\n",
       "102. \"what's\"\n",
       "103. \"here's\"\n",
       "104. \"there's\"\n",
       "105. \"when's\"\n",
       "106. \"where's\"\n",
       "107. \"why's\"\n",
       "108. \"how's\"\n",
       "109. \"a\"\n",
       "110. \"an\"\n",
       "111. \"the\"\n",
       "112. \"and\"\n",
       "113. \"but\"\n",
       "114. \"if\"\n",
       "115. \"or\"\n",
       "116. \"because\"\n",
       "117. \"as\"\n",
       "118. \"until\"\n",
       "119. \"while\"\n",
       "120. \"of\"\n",
       "121. \"at\"\n",
       "122. \"by\"\n",
       "123. \"for\"\n",
       "124. \"with\"\n",
       "125. \"about\"\n",
       "126. \"against\"\n",
       "127. \"between\"\n",
       "128. \"into\"\n",
       "129. \"through\"\n",
       "130. \"during\"\n",
       "131. \"before\"\n",
       "132. \"after\"\n",
       "133. \"above\"\n",
       "134. \"below\"\n",
       "135. \"to\"\n",
       "136. \"from\"\n",
       "137. \"up\"\n",
       "138. \"down\"\n",
       "139. \"in\"\n",
       "140. \"out\"\n",
       "141. \"on\"\n",
       "142. \"off\"\n",
       "143. \"over\"\n",
       "144. \"under\"\n",
       "145. \"again\"\n",
       "146. \"further\"\n",
       "147. \"then\"\n",
       "148. \"once\"\n",
       "149. \"here\"\n",
       "150. \"there\"\n",
       "151. \"when\"\n",
       "152. \"where\"\n",
       "153. \"why\"\n",
       "154. \"how\"\n",
       "155. \"all\"\n",
       "156. \"any\"\n",
       "157. \"both\"\n",
       "158. \"each\"\n",
       "159. \"few\"\n",
       "160. \"more\"\n",
       "161. \"most\"\n",
       "162. \"other\"\n",
       "163. \"some\"\n",
       "164. \"such\"\n",
       "165. \"no\"\n",
       "166. \"nor\"\n",
       "167. \"not\"\n",
       "168. \"only\"\n",
       "169. \"own\"\n",
       "170. \"same\"\n",
       "171. \"so\"\n",
       "172. \"than\"\n",
       "173. \"too\"\n",
       "174. \"very\"\n",
       "\n",
       "\n"
      ],
      "text/plain": [
       "  [1] \"i\"          \"me\"         \"my\"         \"myself\"     \"we\"        \n",
       "  [6] \"our\"        \"ours\"       \"ourselves\"  \"you\"        \"your\"      \n",
       " [11] \"yours\"      \"yourself\"   \"yourselves\" \"he\"         \"him\"       \n",
       " [16] \"his\"        \"himself\"    \"she\"        \"her\"        \"hers\"      \n",
       " [21] \"herself\"    \"it\"         \"its\"        \"itself\"     \"they\"      \n",
       " [26] \"them\"       \"their\"      \"theirs\"     \"themselves\" \"what\"      \n",
       " [31] \"which\"      \"who\"        \"whom\"       \"this\"       \"that\"      \n",
       " [36] \"these\"      \"those\"      \"am\"         \"is\"         \"are\"       \n",
       " [41] \"was\"        \"were\"       \"be\"         \"been\"       \"being\"     \n",
       " [46] \"have\"       \"has\"        \"had\"        \"having\"     \"do\"        \n",
       " [51] \"does\"       \"did\"        \"doing\"      \"would\"      \"should\"    \n",
       " [56] \"could\"      \"ought\"      \"i'm\"        \"you're\"     \"he's\"      \n",
       " [61] \"she's\"      \"it's\"       \"we're\"      \"they're\"    \"i've\"      \n",
       " [66] \"you've\"     \"we've\"      \"they've\"    \"i'd\"        \"you'd\"     \n",
       " [71] \"he'd\"       \"she'd\"      \"we'd\"       \"they'd\"     \"i'll\"      \n",
       " [76] \"you'll\"     \"he'll\"      \"she'll\"     \"we'll\"      \"they'll\"   \n",
       " [81] \"isn't\"      \"aren't\"     \"wasn't\"     \"weren't\"    \"hasn't\"    \n",
       " [86] \"haven't\"    \"hadn't\"     \"doesn't\"    \"don't\"      \"didn't\"    \n",
       " [91] \"won't\"      \"wouldn't\"   \"shan't\"     \"shouldn't\"  \"can't\"     \n",
       " [96] \"cannot\"     \"couldn't\"   \"mustn't\"    \"let's\"      \"that's\"    \n",
       "[101] \"who's\"      \"what's\"     \"here's\"     \"there's\"    \"when's\"    \n",
       "[106] \"where's\"    \"why's\"      \"how's\"      \"a\"          \"an\"        \n",
       "[111] \"the\"        \"and\"        \"but\"        \"if\"         \"or\"        \n",
       "[116] \"because\"    \"as\"         \"until\"      \"while\"      \"of\"        \n",
       "[121] \"at\"         \"by\"         \"for\"        \"with\"       \"about\"     \n",
       "[126] \"against\"    \"between\"    \"into\"       \"through\"    \"during\"    \n",
       "[131] \"before\"     \"after\"      \"above\"      \"below\"      \"to\"        \n",
       "[136] \"from\"       \"up\"         \"down\"       \"in\"         \"out\"       \n",
       "[141] \"on\"         \"off\"        \"over\"       \"under\"      \"again\"     \n",
       "[146] \"further\"    \"then\"       \"once\"       \"here\"       \"there\"     \n",
       "[151] \"when\"       \"where\"      \"why\"        \"how\"        \"all\"       \n",
       "[156] \"any\"        \"both\"       \"each\"       \"few\"        \"more\"      \n",
       "[161] \"most\"       \"other\"      \"some\"       \"such\"       \"no\"        \n",
       "[166] \"nor\"        \"not\"        \"only\"       \"own\"        \"same\"      \n",
       "[171] \"so\"         \"than\"       \"too\"        \"very\"      "
      ]
     },
     "execution_count": 91,
     "metadata": {},
     "output_type": "execute_result"
    }
   ],
   "source": [
    "stopwords('en')"
   ]
  },
  {
   "cell_type": "code",
   "execution_count": 92,
   "metadata": {
    "collapsed": false
   },
   "outputs": [
    {
     "data": {
      "text/html": [
       "\"6 best linux distributions  programming bigdata datascience programming linux python rstats \""
      ],
      "text/latex": [
       "\"6 best linux distributions  programming bigdata datascience programming linux python rstats \""
      ],
      "text/markdown": [
       "\"6 best linux distributions  programming bigdata datascience programming linux python rstats \""
      ],
      "text/plain": [
       "[1] \"6 best linux distributions  programming bigdata datascience programming linux python rstats \""
      ]
     },
     "execution_count": 92,
     "metadata": {},
     "output_type": "execute_result"
    }
   ],
   "source": [
    "my.corpus.new <- tm_map( my.corpus.new, removeWords, stopwords('en') )\n",
    "my.corpus.new[[1]]$content"
   ]
  },
  {
   "cell_type": "markdown",
   "metadata": {},
   "source": [
    "- 기본적인 stop word 이외에 분석에 있어 의미가 없는 단어를 추가해서 제거할 수 있음"
   ]
  },
  {
   "cell_type": "code",
   "execution_count": 93,
   "metadata": {
    "collapsed": false
   },
   "outputs": [
    {
     "data": {
      "text/html": [
       "\"6 best linux distributions  programming bigdata datascience programming linux python rstats \""
      ],
      "text/latex": [
       "\"6 best linux distributions  programming bigdata datascience programming linux python rstats \""
      ],
      "text/markdown": [
       "\"6 best linux distributions  programming bigdata datascience programming linux python rstats \""
      ],
      "text/plain": [
       "[1] \"6 best linux distributions  programming bigdata datascience programming linux python rstats \""
      ]
     },
     "execution_count": 93,
     "metadata": {},
     "output_type": "execute_result"
    }
   ],
   "source": [
    "mystopword <- c( stopwords('en'), 'rt', 'via', 'even' )\n",
    "my.corpus.new <- tm_map( my.corpus.new, removeWords, mystopword )\n",
    "my.corpus.new[[1]]$content"
   ]
  },
  {
   "cell_type": "markdown",
   "metadata": {},
   "source": [
    "- 트위터에서는  RT 라는 단어는  Re-Twitter의 줄임말로  등장 빈도가 높지만 분석에는 의미가 없음."
   ]
  },
  {
   "cell_type": "markdown",
   "metadata": {},
   "source": [
    "#### 나. 자연어 처리\n",
    "\n",
    "##### 1) stemming\n",
    "\n",
    "- 과거형, 현재형, 미래형 동사 등을 현재형으로 변경,\n",
    "- 공통 어간을 가지는 단어를 묶음 처리"
   ]
  },
  {
   "cell_type": "code",
   "execution_count": 24,
   "metadata": {
    "collapsed": false
   },
   "outputs": [
    {
     "name": "stdout",
     "output_type": "stream",
     "text": [
      "package 'SnowballC' successfully unpacked and MD5 sums checked\n",
      "\n",
      "The downloaded binary packages are in\n",
      "\tC:\\Users\\Y.G JI\\AppData\\Local\\Temp\\Rtmpkjsrvb\\downloaded_packages\n"
     ]
    }
   ],
   "source": [
    "install.packages(\"SnowballC\" ,  repo=\"http://cran.nexr.com\")"
   ]
  },
  {
   "cell_type": "code",
   "execution_count": 94,
   "metadata": {
    "collapsed": false
   },
   "outputs": [],
   "source": [
    "library(SnowballC)"
   ]
  },
  {
   "cell_type": "code",
   "execution_count": 116,
   "metadata": {
    "collapsed": false
   },
   "outputs": [
    {
     "data": {
      "text/html": [
       "\"6 best linux distribut  program bigdata datasci program linux python rstat\""
      ],
      "text/latex": [
       "\"6 best linux distribut  program bigdata datasci program linux python rstat\""
      ],
      "text/markdown": [
       "\"6 best linux distribut  program bigdata datasci program linux python rstat\""
      ],
      "text/plain": [
       "[1] \"6 best linux distribut  program bigdata datasci program linux python rstat\""
      ]
     },
     "execution_count": 116,
     "metadata": {},
     "output_type": "execute_result"
    }
   ],
   "source": [
    "dic.corpus <- my.corpus.new \n",
    "my.corpus.new  <- tm_map( my.corpus.new, stemDocument )\n",
    "my.corpus.new[[1]]$content"
   ]
  },
  {
   "cell_type": "markdown",
   "metadata": {},
   "source": [
    "- stemDocument()함수는 공통어간으로 변환해주어 단어가 완전하지 못함.\n",
    "- stemCompletion()함수를 사용하고, stemCompletion를 잘못하면 모든 값이 NA가 되기 때문에 이를 방지하기 위해서 아래와 같은 함수를 만들고 처리함."
   ]
  },
  {
   "cell_type": "code",
   "execution_count": 31,
   "metadata": {
    "collapsed": false
   },
   "outputs": [
    {
     "data": {
      "text/html": [
       "\"comes comes comes comes first comes role comes bigdata comes iot comes sdn comes\""
      ],
      "text/latex": [
       "\"comes comes comes comes first comes role comes bigdata comes iot comes sdn comes\""
      ],
      "text/markdown": [
       "\"comes comes comes comes first comes role comes bigdata comes iot comes sdn comes\""
      ],
      "text/plain": [
       "[1] \"comes comes comes comes first comes role comes bigdata comes iot comes sdn comes\""
      ]
     },
     "execution_count": 31,
     "metadata": {},
     "output_type": "execute_result"
    }
   ],
   "source": [
    "stemCompletion_mod <- function(x, dict) {\n",
    "     PlainTextDocument(stripWhitespace(paste(stemCompletion(unlist(strsplit(as.character(x),\" \")),dictionary=dict, type=\"first\"),sep=\"\", collapse=\" \")))\n",
    "}\n",
    "\n",
    "my.corpus.new <- dic.corpus\n",
    "my.corpus.new  <- lapply(my.corpus.new, stemCompletion_mod, dict=dic.corpus )\n",
    "my.corpus.new[[1]]$content"
   ]
  },
  {
   "cell_type": "markdown",
   "metadata": {
    "collapsed": true
   },
   "source": [
    "##### 2) 한글처리\n",
    "\n",
    "- KoNLP 라는 패키지를 사용해서 처리함."
   ]
  },
  {
   "cell_type": "code",
   "execution_count": 33,
   "metadata": {
    "collapsed": false
   },
   "outputs": [
    {
     "name": "stderr",
     "output_type": "stream",
     "text": [
      "also installing the dependencies 'DBI', 'memoise', 'Rcpp', 'plogr', 'whisker', 'rstudioapi', 'git2r', 'withr', 'stringr', 'hash', 'tau', 'Sejong', 'RSQLite', 'devtools'\n",
      "\n"
     ]
    },
    {
     "name": "stdout",
     "output_type": "stream",
     "text": [
      "package 'DBI' successfully unpacked and MD5 sums checked\n",
      "package 'memoise' successfully unpacked and MD5 sums checked\n",
      "package 'Rcpp' successfully unpacked and MD5 sums checked\n",
      "package 'plogr' successfully unpacked and MD5 sums checked\n",
      "package 'whisker' successfully unpacked and MD5 sums checked\n",
      "package 'rstudioapi' successfully unpacked and MD5 sums checked\n",
      "package 'git2r' successfully unpacked and MD5 sums checked\n",
      "package 'withr' successfully unpacked and MD5 sums checked\n",
      "package 'stringr' successfully unpacked and MD5 sums checked\n",
      "package 'hash' successfully unpacked and MD5 sums checked\n",
      "package 'tau' successfully unpacked and MD5 sums checked\n",
      "package 'Sejong' successfully unpacked and MD5 sums checked\n",
      "package 'RSQLite' successfully unpacked and MD5 sums checked\n",
      "package 'devtools' successfully unpacked and MD5 sums checked\n",
      "package 'KoNLP' successfully unpacked and MD5 sums checked\n",
      "\n",
      "The downloaded binary packages are in\n",
      "\tC:\\Users\\Y.G JI\\AppData\\Local\\Temp\\Rtmpkjsrvb\\downloaded_packages\n"
     ]
    }
   ],
   "source": [
    "install.packages(\"KoNLP\" ,  repo=\"http://cran.nexr.com\")"
   ]
  },
  {
   "cell_type": "code",
   "execution_count": 26,
   "metadata": {
    "collapsed": false
   },
   "outputs": [
    {
     "name": "stderr",
     "output_type": "stream",
     "text": [
      "Warning message:\n",
      ": package 'KoNLP' was built under R version 3.3.2Checking user defined dictionary!\n",
      "\n"
     ]
    }
   ],
   "source": [
    "library(KoNLP)"
   ]
  },
  {
   "cell_type": "code",
   "execution_count": 27,
   "metadata": {
    "collapsed": false
   },
   "outputs": [
    {
     "name": "stdout",
     "output_type": "stream",
     "text": [
      "Backup was just finished!\n"
     ]
    },
    {
     "name": "stderr",
     "output_type": "stream",
     "text": [
      "Downloading package from url: https://github.com/haven-jeon/NIADic/releases/download/0.0.1/NIADic_0.0.1.tar.gz\n",
      "Installing NIADic\n"
     ]
    },
    {
     "ename": "ERROR",
     "evalue": "Error in if (download_method_secure()) {: TRUE/FALSE가 필요한 곳에 값이 없습니다\n",
     "output_type": "error",
     "traceback": [
      "Error in if (download_method_secure()) {: TRUE/FALSE가 필요한 곳에 값이 없습니다\n"
     ]
    },
    {
     "ename": "ERROR",
     "evalue": "Error in tryCatch({: can't install NIADic package!\n Please refer 'https://github.com/haven-jeon/NIADic' to install.\n",
     "output_type": "error",
     "traceback": [
      "Error in tryCatch({: can't install NIADic package!\n Please refer 'https://github.com/haven-jeon/NIADic' to install.\n"
     ]
    }
   ],
   "source": [
    "useSejongDic()"
   ]
  },
  {
   "cell_type": "code",
   "execution_count": 2,
   "metadata": {
    "collapsed": false
   },
   "outputs": [
    {
     "name": "stdout",
     "output_type": "stream",
     "text": [
      "package 'rJava' successfully unpacked and MD5 sums checked\n",
      "\n",
      "The downloaded binary packages are in\n",
      "\tC:\\Users\\Y.G JI\\AppData\\Local\\Temp\\Rtmp2d5HTj\\downloaded_packages\n"
     ]
    }
   ],
   "source": [
    "install.packages(\"rJava\" ,  repo=\"http://cran.nexr.com\")"
   ]
  },
  {
   "cell_type": "code",
   "execution_count": 28,
   "metadata": {
    "collapsed": false
   },
   "outputs": [
    {
     "name": "stderr",
     "output_type": "stream",
     "text": [
      "Warning message:\n",
      ": package 'rJava' was built under R version 3.3.2"
     ]
    }
   ],
   "source": [
    "library(rJava)"
   ]
  },
  {
   "cell_type": "code",
   "execution_count": 29,
   "metadata": {
    "collapsed": false
   },
   "outputs": [],
   "source": [
    "Sys.setenv( JAVA_HOME='D:/DOWNLOAD/JAVA/jdk7' )"
   ]
  },
  {
   "cell_type": "code",
   "execution_count": null,
   "metadata": {
    "collapsed": true
   },
   "outputs": [],
   "source": [
    "extractNoun( '연습을 해보고자 한다. 명사가 잘 추출되는지 보자. 빨간색으로 글씨를 쓰고 있다.')"
   ]
  },
  {
   "cell_type": "markdown",
   "metadata": {
    "collapsed": true
   },
   "source": [
    "#### 라. TDM 구축\n",
    "\n",
    "- 전처리된 텍스트 데이터에서 각 문서와 단어간의 사용 여부를 이용해 만들어진 matrix가 TDM( Term-Document Matrix )임.\n",
    "- TDM에서 단어의 빈도수를 보면 문서의 특성을 알 수 있음."
   ]
  },
  {
   "cell_type": "markdown",
   "metadata": {},
   "source": [
    "##### 1) 모든 단어\n",
    "\n",
    "- TermDocumentMatrix()함수를 실행하면, 행은 각 단어를 나타내고, 열은 트워터 메시지(문서)를 나타냄"
   ]
  },
  {
   "cell_type": "code",
   "execution_count": 154,
   "metadata": {
    "collapsed": false
   },
   "outputs": [],
   "source": [
    "my.TDM <- TermDocumentMatrix( my.corpus.new )"
   ]
  },
  {
   "cell_type": "code",
   "execution_count": 155,
   "metadata": {
    "collapsed": false
   },
   "outputs": [
    {
     "data": {
      "text/html": [
       "<ol class=list-inline>\n",
       "\t<li>1344</li>\n",
       "\t<li>1000</li>\n",
       "</ol>\n"
      ],
      "text/latex": [
       "\\begin{enumerate*}\n",
       "\\item 1344\n",
       "\\item 1000\n",
       "\\end{enumerate*}\n"
      ],
      "text/markdown": [
       "1. 1344\n",
       "2. 1000\n",
       "\n",
       "\n"
      ],
      "text/plain": [
       "[1] 1344 1000"
      ]
     },
     "execution_count": 155,
     "metadata": {},
     "output_type": "execute_result"
    }
   ],
   "source": [
    "dim(my.TDM)"
   ]
  },
  {
   "cell_type": "code",
   "execution_count": 156,
   "metadata": {
    "collapsed": false
   },
   "outputs": [
    {
     "data": {
      "text/html": [
       "<table>\n",
       "<thead><tr><th></th><th scope=col>1</th><th scope=col>2</th><th scope=col>3</th><th scope=col>4</th><th scope=col>5</th><th scope=col>6</th><th scope=col>7</th><th scope=col>8</th><th scope=col>9</th><th scope=col>10</th></tr></thead>\n",
       "<tbody>\n",
       "\t<tr><th scope=row>airlin</th><td>0</td><td>0</td><td>0</td><td>0</td><td>0</td><td>0</td><td>0</td><td>0</td><td>0</td><td>0</td></tr>\n",
       "\t<tr><th scope=row>alarm</th><td>0</td><td>0</td><td>0</td><td>0</td><td>0</td><td>0</td><td>0</td><td>0</td><td>0</td><td>0</td></tr>\n",
       "\t<tr><th scope=row>albert</th><td>0</td><td>0</td><td>0</td><td>0</td><td>0</td><td>0</td><td>0</td><td>0</td><td>0</td><td>0</td></tr>\n",
       "\t<tr><th scope=row>alert</th><td>0</td><td>0</td><td>0</td><td>0</td><td>0</td><td>0</td><td>0</td><td>0</td><td>0</td><td>0</td></tr>\n",
       "\t<tr><th scope=row>alevergara78</th><td>0</td><td>0</td><td>0</td><td>0</td><td>0</td><td>0</td><td>0</td><td>0</td><td>0</td><td>0</td></tr>\n",
       "\t<tr><th scope=row>algorith</th><td>0</td><td>0</td><td>0</td><td>0</td><td>0</td><td>0</td><td>0</td><td>0</td><td>0</td><td>0</td></tr>\n",
       "</tbody>\n",
       "</table>\n"
      ],
      "text/latex": [
       "\\begin{tabular}{r|llllllllll}\n",
       "  & 1 & 2 & 3 & 4 & 5 & 6 & 7 & 8 & 9 & 10\\\\\n",
       "\\hline\n",
       "\tairlin & 0 & 0 & 0 & 0 & 0 & 0 & 0 & 0 & 0 & 0\\\\\n",
       "\talarm & 0 & 0 & 0 & 0 & 0 & 0 & 0 & 0 & 0 & 0\\\\\n",
       "\talbert & 0 & 0 & 0 & 0 & 0 & 0 & 0 & 0 & 0 & 0\\\\\n",
       "\talert & 0 & 0 & 0 & 0 & 0 & 0 & 0 & 0 & 0 & 0\\\\\n",
       "\talevergara78 & 0 & 0 & 0 & 0 & 0 & 0 & 0 & 0 & 0 & 0\\\\\n",
       "\talgorith & 0 & 0 & 0 & 0 & 0 & 0 & 0 & 0 & 0 & 0\\\\\n",
       "\\end{tabular}\n"
      ],
      "text/markdown": [
       "1. 0\n",
       "2. 0\n",
       "3. 0\n",
       "4. 0\n",
       "5. 0\n",
       "6. 0\n",
       "7. 0\n",
       "8. 0\n",
       "9. 0\n",
       "10. 0\n",
       "11. 0\n",
       "12. 0\n",
       "13. 0\n",
       "14. 0\n",
       "15. 0\n",
       "16. 0\n",
       "17. 0\n",
       "18. 0\n",
       "19. 0\n",
       "20. 0\n",
       "21. 0\n",
       "22. 0\n",
       "23. 0\n",
       "24. 0\n",
       "25. 0\n",
       "26. 0\n",
       "27. 0\n",
       "28. 0\n",
       "29. 0\n",
       "30. 0\n",
       "31. 0\n",
       "32. 0\n",
       "33. 0\n",
       "34. 0\n",
       "35. 0\n",
       "36. 0\n",
       "37. 0\n",
       "38. 0\n",
       "39. 0\n",
       "40. 0\n",
       "41. 0\n",
       "42. 0\n",
       "43. 0\n",
       "44. 0\n",
       "45. 0\n",
       "46. 0\n",
       "47. 0\n",
       "48. 0\n",
       "49. 0\n",
       "50. 0\n",
       "51. 0\n",
       "52. 0\n",
       "53. 0\n",
       "54. 0\n",
       "55. 0\n",
       "56. 0\n",
       "57. 0\n",
       "58. 0\n",
       "59. 0\n",
       "60. 0\n",
       "\n",
       "\n"
      ],
      "text/plain": [
       "              Docs\n",
       "Terms          1 2 3 4 5 6 7 8 9 10\n",
       "  airlin       0 0 0 0 0 0 0 0 0  0\n",
       "  alarm        0 0 0 0 0 0 0 0 0  0\n",
       "  albert       0 0 0 0 0 0 0 0 0  0\n",
       "  alert        0 0 0 0 0 0 0 0 0  0\n",
       "  alevergara78 0 0 0 0 0 0 0 0 0  0\n",
       "  algorith     0 0 0 0 0 0 0 0 0  0"
      ]
     },
     "execution_count": 156,
     "metadata": {},
     "output_type": "execute_result"
    }
   ],
   "source": [
    "as.matrix( my.TDM[55:60, 1:10] )"
   ]
  },
  {
   "cell_type": "markdown",
   "metadata": {
    "collapsed": true
   },
   "source": [
    "##### 2) 단어 사전( dictionary )\n",
    "\n",
    "- 단어 사전은 텍스트마이닝에서 분석에 사용하고자 하는 단어들의 집합\n",
    "- 관심있는 단어들만을 추가해서 사전을 만들고 결과를 보자."
   ]
  },
  {
   "cell_type": "code",
   "execution_count": 157,
   "metadata": {
    "collapsed": true
   },
   "outputs": [],
   "source": [
    "myDict <- c('bigdata', 'data', 'big', 'amp', 'use', 'new',  'analyst', 'cloud', 'company', 'privacy', 'analytics', 'business', 'hadoop', 'datascience', 'iot' )\n",
    "my.TDM2 <- TermDocumentMatrix( my.corpus.new,  control=list( dictionary=myDict ) )"
   ]
  },
  {
   "cell_type": "code",
   "execution_count": 158,
   "metadata": {
    "collapsed": false
   },
   "outputs": [
    {
     "data": {
      "text/html": [
       "<ol class=list-inline>\n",
       "\t<li>15</li>\n",
       "\t<li>1000</li>\n",
       "</ol>\n"
      ],
      "text/latex": [
       "\\begin{enumerate*}\n",
       "\\item 15\n",
       "\\item 1000\n",
       "\\end{enumerate*}\n"
      ],
      "text/markdown": [
       "1. 15\n",
       "2. 1000\n",
       "\n",
       "\n"
      ],
      "text/plain": [
       "[1]   15 1000"
      ]
     },
     "execution_count": 158,
     "metadata": {},
     "output_type": "execute_result"
    },
    {
     "data": {
      "text/html": [
       "<table>\n",
       "<thead><tr><th></th><th scope=col>1</th><th scope=col>2</th><th scope=col>3</th><th scope=col>4</th><th scope=col>5</th><th scope=col>6</th><th scope=col>7</th><th scope=col>8</th><th scope=col>9</th><th scope=col>10</th></tr></thead>\n",
       "<tbody>\n",
       "\t<tr><th scope=row>amp</th><td>0</td><td>0</td><td>0</td><td>0</td><td>0</td><td>0</td><td>0</td><td>0</td><td>0</td><td>0</td></tr>\n",
       "\t<tr><th scope=row>analyst</th><td>0</td><td>0</td><td>0</td><td>0</td><td>0</td><td>0</td><td>0</td><td>0</td><td>0</td><td>0</td></tr>\n",
       "\t<tr><th scope=row>analytics</th><td>0</td><td>0</td><td>0</td><td>0</td><td>0</td><td>0</td><td>0</td><td>0</td><td>0</td><td>0</td></tr>\n",
       "\t<tr><th scope=row>big</th><td>0</td><td>0</td><td>0</td><td>0</td><td>1</td><td>0</td><td>0</td><td>0</td><td>1</td><td>0</td></tr>\n",
       "\t<tr><th scope=row>bigdata</th><td>1</td><td>1</td><td>0</td><td>1</td><td>1</td><td>1</td><td>1</td><td>1</td><td>1</td><td>1</td></tr>\n",
       "\t<tr><th scope=row>business</th><td>0</td><td>0</td><td>0</td><td>0</td><td>0</td><td>0</td><td>0</td><td>0</td><td>0</td><td>0</td></tr>\n",
       "\t<tr><th scope=row>cloud</th><td>0</td><td>0</td><td>0</td><td>0</td><td>0</td><td>0</td><td>0</td><td>0</td><td>0</td><td>0</td></tr>\n",
       "\t<tr><th scope=row>company</th><td>0</td><td>0</td><td>0</td><td>0</td><td>0</td><td>0</td><td>0</td><td>0</td><td>0</td><td>0</td></tr>\n",
       "\t<tr><th scope=row>data</th><td>0</td><td>0</td><td>0</td><td>1</td><td>1</td><td>0</td><td>0</td><td>0</td><td>1</td><td>0</td></tr>\n",
       "\t<tr><th scope=row>datascience</th><td>0</td><td>0</td><td>0</td><td>0</td><td>0</td><td>0</td><td>0</td><td>0</td><td>0</td><td>0</td></tr>\n",
       "\t<tr><th scope=row>hadoop</th><td>0</td><td>0</td><td>0</td><td>0</td><td>0</td><td>0</td><td>0</td><td>0</td><td>0</td><td>0</td></tr>\n",
       "\t<tr><th scope=row>iot</th><td>0</td><td>0</td><td>0</td><td>0</td><td>0</td><td>0</td><td>0</td><td>0</td><td>0</td><td>0</td></tr>\n",
       "\t<tr><th scope=row>new</th><td>0</td><td>0</td><td>0</td><td>0</td><td>0</td><td>0</td><td>0</td><td>0</td><td>0</td><td>0</td></tr>\n",
       "\t<tr><th scope=row>privacy</th><td>0</td><td>0</td><td>0</td><td>0</td><td>0</td><td>0</td><td>0</td><td>0</td><td>0</td><td>0</td></tr>\n",
       "\t<tr><th scope=row>use</th><td>0</td><td>0</td><td>0</td><td>0</td><td>0</td><td>0</td><td>0</td><td>0</td><td>0</td><td>0</td></tr>\n",
       "</tbody>\n",
       "</table>\n"
      ],
      "text/latex": [
       "\\begin{tabular}{r|llllllllll}\n",
       "  & 1 & 2 & 3 & 4 & 5 & 6 & 7 & 8 & 9 & 10\\\\\n",
       "\\hline\n",
       "\tamp & 0 & 0 & 0 & 0 & 0 & 0 & 0 & 0 & 0 & 0\\\\\n",
       "\tanalyst & 0 & 0 & 0 & 0 & 0 & 0 & 0 & 0 & 0 & 0\\\\\n",
       "\tanalytics & 0 & 0 & 0 & 0 & 0 & 0 & 0 & 0 & 0 & 0\\\\\n",
       "\tbig & 0 & 0 & 0 & 0 & 1 & 0 & 0 & 0 & 1 & 0\\\\\n",
       "\tbigdata & 1 & 1 & 0 & 1 & 1 & 1 & 1 & 1 & 1 & 1\\\\\n",
       "\tbusiness & 0 & 0 & 0 & 0 & 0 & 0 & 0 & 0 & 0 & 0\\\\\n",
       "\tcloud & 0 & 0 & 0 & 0 & 0 & 0 & 0 & 0 & 0 & 0\\\\\n",
       "\tcompany & 0 & 0 & 0 & 0 & 0 & 0 & 0 & 0 & 0 & 0\\\\\n",
       "\tdata & 0 & 0 & 0 & 1 & 1 & 0 & 0 & 0 & 1 & 0\\\\\n",
       "\tdatascience & 0 & 0 & 0 & 0 & 0 & 0 & 0 & 0 & 0 & 0\\\\\n",
       "\thadoop & 0 & 0 & 0 & 0 & 0 & 0 & 0 & 0 & 0 & 0\\\\\n",
       "\tiot & 0 & 0 & 0 & 0 & 0 & 0 & 0 & 0 & 0 & 0\\\\\n",
       "\tnew & 0 & 0 & 0 & 0 & 0 & 0 & 0 & 0 & 0 & 0\\\\\n",
       "\tprivacy & 0 & 0 & 0 & 0 & 0 & 0 & 0 & 0 & 0 & 0\\\\\n",
       "\tuse & 0 & 0 & 0 & 0 & 0 & 0 & 0 & 0 & 0 & 0\\\\\n",
       "\\end{tabular}\n"
      ],
      "text/markdown": [
       "1. 0\n",
       "2. 0\n",
       "3. 0\n",
       "4. 0\n",
       "5. 1\n",
       "6. 0\n",
       "7. 0\n",
       "8. 0\n",
       "9. 0\n",
       "10. 0\n",
       "11. 0\n",
       "12. 0\n",
       "13. 0\n",
       "14. 0\n",
       "15. 0\n",
       "16. 0\n",
       "17. 0\n",
       "18. 0\n",
       "19. 0\n",
       "20. 1\n",
       "21. 0\n",
       "22. 0\n",
       "23. 0\n",
       "24. 0\n",
       "25. 0\n",
       "26. 0\n",
       "27. 0\n",
       "28. 0\n",
       "29. 0\n",
       "30. 0\n",
       "31. 0\n",
       "32. 0\n",
       "33. 0\n",
       "34. 0\n",
       "35. 0\n",
       "36. 0\n",
       "37. 0\n",
       "38. 0\n",
       "39. 0\n",
       "40. 0\n",
       "41. 0\n",
       "42. 0\n",
       "43. 0\n",
       "44. 0\n",
       "45. 0\n",
       "46. 0\n",
       "47. 0\n",
       "48. 0\n",
       "49. 0\n",
       "50. 1\n",
       "51. 0\n",
       "52. 0\n",
       "53. 0\n",
       "54. 1\n",
       "55. 0\n",
       "56. 0\n",
       "57. 0\n",
       "58. 0\n",
       "59. 0\n",
       "60. 0\n",
       "61. 0\n",
       "62. 0\n",
       "63. 0\n",
       "64. 1\n",
       "65. 1\n",
       "66. 0\n",
       "67. 0\n",
       "68. 0\n",
       "69. 1\n",
       "70. 0\n",
       "71. 0\n",
       "72. 0\n",
       "73. 0\n",
       "74. 0\n",
       "75. 0\n",
       "76. 0\n",
       "77. 0\n",
       "78. 0\n",
       "79. 0\n",
       "80. 1\n",
       "81. 0\n",
       "82. 0\n",
       "83. 0\n",
       "84. 0\n",
       "85. 0\n",
       "86. 0\n",
       "87. 0\n",
       "88. 0\n",
       "89. 0\n",
       "90. 0\n",
       "91. 0\n",
       "92. 0\n",
       "93. 0\n",
       "94. 0\n",
       "95. 1\n",
       "96. 0\n",
       "97. 0\n",
       "98. 0\n",
       "99. 0\n",
       "100. 0\n",
       "101. 0\n",
       "102. 0\n",
       "103. 0\n",
       "104. 0\n",
       "105. 0\n",
       "106. 0\n",
       "107. 0\n",
       "108. 0\n",
       "109. 0\n",
       "110. 1\n",
       "111. 0\n",
       "112. 0\n",
       "113. 0\n",
       "114. 0\n",
       "115. 0\n",
       "116. 0\n",
       "117. 0\n",
       "118. 0\n",
       "119. 0\n",
       "120. 0\n",
       "121. 0\n",
       "122. 0\n",
       "123. 0\n",
       "124. 1\n",
       "125. 1\n",
       "126. 0\n",
       "127. 0\n",
       "128. 0\n",
       "129. 1\n",
       "130. 0\n",
       "131. 0\n",
       "132. 0\n",
       "133. 0\n",
       "134. 0\n",
       "135. 0\n",
       "136. 0\n",
       "137. 0\n",
       "138. 0\n",
       "139. 0\n",
       "140. 1\n",
       "141. 0\n",
       "142. 0\n",
       "143. 0\n",
       "144. 0\n",
       "145. 0\n",
       "146. 0\n",
       "147. 0\n",
       "148. 0\n",
       "149. 0\n",
       "150. 0\n",
       "\n",
       "\n"
      ],
      "text/plain": [
       "             Docs\n",
       "Terms         1 2 3 4 5 6 7 8 9 10\n",
       "  amp         0 0 0 0 0 0 0 0 0  0\n",
       "  analyst     0 0 0 0 0 0 0 0 0  0\n",
       "  analytics   0 0 0 0 0 0 0 0 0  0\n",
       "  big         0 0 0 0 1 0 0 0 1  0\n",
       "  bigdata     1 1 0 1 1 1 1 1 1  1\n",
       "  business    0 0 0 0 0 0 0 0 0  0\n",
       "  cloud       0 0 0 0 0 0 0 0 0  0\n",
       "  company     0 0 0 0 0 0 0 0 0  0\n",
       "  data        0 0 0 1 1 0 0 0 1  0\n",
       "  datascience 0 0 0 0 0 0 0 0 0  0\n",
       "  hadoop      0 0 0 0 0 0 0 0 0  0\n",
       "  iot         0 0 0 0 0 0 0 0 0  0\n",
       "  new         0 0 0 0 0 0 0 0 0  0\n",
       "  privacy     0 0 0 0 0 0 0 0 0  0\n",
       "  use         0 0 0 0 0 0 0 0 0  0"
      ]
     },
     "execution_count": 158,
     "metadata": {},
     "output_type": "execute_result"
    }
   ],
   "source": [
    "dim(my.TDM2)\n",
    "as.matrix(  my.TDM2[ , 1:10 ] )"
   ]
  },
  {
   "cell_type": "markdown",
   "metadata": {},
   "source": [
    "#### 마. 분석 및 시각화\n",
    "\n",
    "##### 1) Association\n",
    "\n",
    "- 특정 단어와의 연관성에 따라서 단어를 조회할 수 있으며, findAssocs()함수를 통해서  연관성이 있는 단어를 찾음."
   ]
  },
  {
   "cell_type": "code",
   "execution_count": 165,
   "metadata": {
    "collapsed": false
   },
   "outputs": [
    {
     "data": {
      "text/html": [
       "<strong>$iot</strong> = <dl class=dl-horizontal>\n",
       "\t<dt>devop</dt>\n",
       "\t\t<dd>0.3</dd>\n",
       "\t<dt>m2m</dt>\n",
       "\t\t<dd>0.3</dd>\n",
       "\t<dt>fantast</dt>\n",
       "\t\t<dd>0.28</dd>\n",
       "\t<dt>track</dt>\n",
       "\t\t<dd>0.28</dd>\n",
       "\t<dt>digitaltr</dt>\n",
       "\t\t<dd>0.27</dd>\n",
       "\t<dt>apm</dt>\n",
       "\t\t<dd>0.26</dd>\n",
       "\t<dt>blockchain</dt>\n",
       "\t\t<dd>0.26</dd>\n",
       "</dl>\n"
      ],
      "text/latex": [
       "\\textbf{\\$iot} = \\begin{description*}\n",
       "\\item[devop] 0.3\n",
       "\\item[m2m] 0.3\n",
       "\\item[fantast] 0.28\n",
       "\\item[track] 0.28\n",
       "\\item[digitaltr] 0.27\n",
       "\\item[apm] 0.26\n",
       "\\item[blockchain] 0.26\n",
       "\\end{description*}\n"
      ],
      "text/markdown": [
       "**$iot** = devop\n",
       ":   0.3m2m\n",
       ":   0.3fantast\n",
       ":   0.28track\n",
       ":   0.28digitaltr\n",
       ":   0.27apm\n",
       ":   0.26blockchain\n",
       ":   0.26\n",
       "\n"
      ],
      "text/plain": [
       "$iot\n",
       "     devop        m2m    fantast      track  digitaltr        apm blockchain \n",
       "      0.30       0.30       0.28       0.28       0.27       0.26       0.26 \n"
      ]
     },
     "execution_count": 165,
     "metadata": {},
     "output_type": "execute_result"
    }
   ],
   "source": [
    "findAssocs( my.TDM, 'iot', 0.25 )"
   ]
  },
  {
   "cell_type": "markdown",
   "metadata": {
    "collapsed": true
   },
   "source": [
    "- 상관분석 패키지인 arules 패키지의 apriori()함수를 이용해 연관분석을 위한 데이터 변환이 가능함."
   ]
  },
  {
   "cell_type": "code",
   "execution_count": 51,
   "metadata": {
    "collapsed": false
   },
   "outputs": [
    {
     "name": "stdout",
     "output_type": "stream",
     "text": [
      "package 'arules' successfully unpacked and MD5 sums checked\n",
      "\n",
      "The downloaded binary packages are in\n",
      "\tC:\\Users\\Y.G JI\\AppData\\Local\\Temp\\Rtmp67f15o\\downloaded_packages\n"
     ]
    }
   ],
   "source": [
    "install.packages(\"arules\" ,  repo=\"http://cran.nexr.com\")"
   ]
  },
  {
   "cell_type": "code",
   "execution_count": 144,
   "metadata": {
    "collapsed": false
   },
   "outputs": [],
   "source": [
    "library(arules)"
   ]
  },
  {
   "cell_type": "code",
   "execution_count": 145,
   "metadata": {
    "collapsed": false
   },
   "outputs": [
    {
     "ename": "ERROR",
     "evalue": "Error in as(my.TDM, \"transactions\"): no method or default for coercing \"TermDocumentMatrix\" to \"transactions\"\n",
     "output_type": "error",
     "traceback": [
      "Error in as(my.TDM, \"transactions\"): no method or default for coercing \"TermDocumentMatrix\" to \"transactions\"\n"
     ]
    },
    {
     "ename": "ERROR",
     "evalue": "Error in .class1(object): 객체 'transcation_m'를 찾을 수 없습니다\n",
     "output_type": "error",
     "traceback": [
      "Error in .class1(object): 객체 'transcation_m'를 찾을 수 없습니다\n"
     ]
    }
   ],
   "source": [
    "transcation_m <- as( my.TDM, \"transactions\" ) \n",
    "rules.all <- apriori( transcation_m, parameter=list(supp=0.01, conf=0.5) )"
   ]
  },
  {
   "cell_type": "markdown",
   "metadata": {},
   "source": [
    "##### 2) 워드 클라우드"
   ]
  },
  {
   "cell_type": "code",
   "execution_count": 55,
   "metadata": {
    "collapsed": false
   },
   "outputs": [
    {
     "name": "stdout",
     "output_type": "stream",
     "text": [
      "package 'wordcloud' successfully unpacked and MD5 sums checked\n",
      "\n",
      "The downloaded binary packages are in\n",
      "\tC:\\Users\\Y.G JI\\AppData\\Local\\Temp\\Rtmp67f15o\\downloaded_packages\n"
     ]
    }
   ],
   "source": [
    "install.packages(\"wordcloud\" ,  repo=\"http://cran.nexr.com\")"
   ]
  },
  {
   "cell_type": "code",
   "execution_count": 146,
   "metadata": {
    "collapsed": false
   },
   "outputs": [],
   "source": [
    "library(wordcloud)"
   ]
  },
  {
   "cell_type": "code",
   "execution_count": 166,
   "metadata": {
    "collapsed": false
   },
   "outputs": [
    {
     "data": {
      "text/html": [
       "<dl class=dl-horizontal>\n",
       "\t<dt>bigdata</dt>\n",
       "\t\t<dd>938</dd>\n",
       "\t<dt>iot</dt>\n",
       "\t\t<dd>283</dd>\n",
       "\t<dt>data</dt>\n",
       "\t\t<dd>275</dd>\n",
       "\t<dt>analyt</dt>\n",
       "\t\t<dd>197</dd>\n",
       "\t<dt>big</dt>\n",
       "\t\t<dd>133</dd>\n",
       "\t<dt>machinelearn</dt>\n",
       "\t\t<dd>131</dd>\n",
       "\t<dt>datasci</dt>\n",
       "\t\t<dd>127</dd>\n",
       "\t<dt>blockchain</dt>\n",
       "\t\t<dd>126</dd>\n",
       "\t<dt>fintech</dt>\n",
       "\t\t<dd>126</dd>\n",
       "\t<dt>makeyourownlan</dt>\n",
       "\t\t<dd>113</dd>\n",
       "\t<dt>cloud</dt>\n",
       "\t\t<dd>93</dd>\n",
       "\t<dt>amp</dt>\n",
       "\t\t<dd>80</dd>\n",
       "\t<dt>artificialintellig</dt>\n",
       "\t\t<dd>77</dd>\n",
       "\t<dt>busi</dt>\n",
       "\t\t<dd>77</dd>\n",
       "\t<dt>defstar5</dt>\n",
       "\t\t<dd>75</dd>\n",
       "</dl>\n"
      ],
      "text/latex": [
       "\\begin{description*}\n",
       "\\item[bigdata] 938\n",
       "\\item[iot] 283\n",
       "\\item[data] 275\n",
       "\\item[analyt] 197\n",
       "\\item[big] 133\n",
       "\\item[machinelearn] 131\n",
       "\\item[datasci] 127\n",
       "\\item[blockchain] 126\n",
       "\\item[fintech] 126\n",
       "\\item[makeyourownlan] 113\n",
       "\\item[cloud] 93\n",
       "\\item[amp] 80\n",
       "\\item[artificialintellig] 77\n",
       "\\item[busi] 77\n",
       "\\item[defstar5] 75\n",
       "\\end{description*}\n"
      ],
      "text/markdown": [
       "bigdata\n",
       ":   938iot\n",
       ":   283data\n",
       ":   275analyt\n",
       ":   197big\n",
       ":   133machinelearn\n",
       ":   131datasci\n",
       ":   127blockchain\n",
       ":   126fintech\n",
       ":   126makeyourownlan\n",
       ":   113cloud\n",
       ":   93amp\n",
       ":   80artificialintellig\n",
       ":   77busi\n",
       ":   77defstar5\n",
       ":   75\n",
       "\n"
      ],
      "text/plain": [
       "           bigdata                iot               data             analyt \n",
       "               938                283                275                197 \n",
       "               big       machinelearn            datasci         blockchain \n",
       "               133                131                127                126 \n",
       "           fintech     makeyourownlan              cloud                amp \n",
       "               126                113                 93                 80 \n",
       "artificialintellig               busi           defstar5 \n",
       "                77                 77                 75 "
      ]
     },
     "execution_count": 166,
     "metadata": {},
     "output_type": "execute_result"
    }
   ],
   "source": [
    "my.TDM.m <- as.matrix(my.TDM)\n",
    "term.freq <- sort( rowSums(my.TDM.m), decreasing=T ) \n",
    "head( term.freq, 15 )"
   ]
  },
  {
   "cell_type": "code",
   "execution_count": 167,
   "metadata": {
    "collapsed": false
   },
   "outputs": [
    {
     "data": {
      "application/pdf": "[encoded data removed]",
      "image/jpeg": "[encoded data removed]",
      "image/png": "[encoded data removed]",
      "text/plain": [
       "plot without title"
      ]
     },
     "metadata": {
      "image/svg+xml": {
       "isolated": true
      }
     },
     "output_type": "display_data"
    }
   ],
   "source": [
    "wordcloud( word=names(term.freq), freq=term.freq, min.freq=15, random.order=F, color=brewer.pal(8, 'Dark2') )"
   ]
  },
  {
   "cell_type": "markdown",
   "metadata": {},
   "source": [
    "##### 3) 감성분석"
   ]
  },
  {
   "cell_type": "code",
   "execution_count": 168,
   "metadata": {
    "collapsed": false
   },
   "outputs": [
    {
     "name": "stderr",
     "output_type": "stream",
     "text": [
      "Warning message:\n",
      "In doRppAPICall(\"search/tweets\", n, params = params, retryOnRateLimit = retryOnRateLimit, : 1500 tweets were requested but the API can only return 130"
     ]
    }
   ],
   "source": [
    "hilton.tweets <- searchTwitter('@hilton', n=1500)"
   ]
  },
  {
   "cell_type": "code",
   "execution_count": 169,
   "metadata": {
    "collapsed": false
   },
   "outputs": [
    {
     "data": {
      "text/html": [
       "130"
      ],
      "text/latex": [
       "130"
      ],
      "text/markdown": [
       "130"
      ],
      "text/plain": [
       "[1] 130"
      ]
     },
     "execution_count": 169,
     "metadata": {},
     "output_type": "execute_result"
    }
   ],
   "source": [
    "length( hilton.tweets )"
   ]
  },
  {
   "cell_type": "code",
   "execution_count": 171,
   "metadata": {
    "collapsed": false
   },
   "outputs": [
    {
     "data": {
      "text/plain": [
       "[1] \"meghanmcinnls: RT @BrandBastion: \\\"Responding to reviews is a simple and great way to retain customers.\\\" - @leediaz24 of @hilton #SMSSummit\""
      ]
     },
     "execution_count": 171,
     "metadata": {},
     "output_type": "execute_result"
    },
    {
     "data": {
      "text/plain": [
       "[1] \"BusinessWire: @BCVSocial @hilton @TapastryHilton Thanks for sharing!\""
      ]
     },
     "execution_count": 171,
     "metadata": {},
     "output_type": "execute_result"
    }
   ],
   "source": [
    "hilton.tweets[[1]]\n",
    "hilton.tweets[[2]]"
   ]
  },
  {
   "cell_type": "markdown",
   "metadata": {},
   "source": [
    "- 긍정/부정 단어 사전을 만듬."
   ]
  },
  {
   "cell_type": "code",
   "execution_count": 175,
   "metadata": {
    "collapsed": true
   },
   "outputs": [],
   "source": [
    "pos.word <- scan( \"https://gist.githubusercontent.com/mkulakowski2/4289437/raw/1bb4d7f9ee82150f339f09b5b1a0e6823d633958/positive-words.txt\"\n",
    "                 , what='character', comment.char=';' )\n",
    "neg.word <- scan( \"https://gist.githubusercontent.com/mkulakowski2/4289441/raw/dad8b64b307cd6df8068a379079becbb3f91101a/negative-words.txt\"\n",
    "                 , what='character', comment.char=';' )"
   ]
  },
  {
   "cell_type": "code",
   "execution_count": 176,
   "metadata": {
    "collapsed": false
   },
   "outputs": [],
   "source": [
    "pos.word <- c(pos.word, 'upgrade' )\n",
    "neg.word <- c(neg.word, 'wtf', 'wait', 'waiting', 'epicfail', 'mechanical' )"
   ]
  },
  {
   "cell_type": "code",
   "execution_count": 177,
   "metadata": {
    "collapsed": true
   },
   "outputs": [],
   "source": [
    "score.sentiment = function(sentences, pos.words, neg.words, .progress='none')\n",
    "{\n",
    "\trequire(plyr)\n",
    "\trequire(stringr)\n",
    "\t\n",
    "\t# we got a vector of sentences. plyr will handle a list or a vector as an \"l\" for us\n",
    "\t# we want a simple array of scores back, so we use \"l\" + \"a\" + \"ply\" = laply:\n",
    "\tscores = laply(sentences, function(sentence, pos.words, neg.words) {\n",
    "\t\t\n",
    "\t\t# clean up sentences with R's regex-driven global substitute, gsub():\n",
    "\t\tsentence = gsub('[[:punct:]]', '', sentence)\n",
    "\t\tsentence = gsub('[[:cntrl:]]', '', sentence)\n",
    "\t\tsentence = gsub('\\\\d+', '', sentence)\n",
    "\t\t# and convert to lower case:\n",
    "\t\tsentence = tolower(sentence)\n",
    "\n",
    "\t\t# split into words. str_split is in the stringr package\n",
    "\t\tword.list = str_split(sentence, '\\\\s+')\n",
    "\t\t# sometimes a list() is one level of hierarchy too much\n",
    "\t\twords = unlist(word.list)\n",
    "\n",
    "\t\t# compare our words to the dictionaries of positive & negative terms\n",
    "\t\tpos.matches = match(words, pos.words)\n",
    "\t\tneg.matches = match(words, neg.words)\n",
    "\t\n",
    "\t\t# match() returns the position of the matched term or NA\n",
    "\t\t# we just want a TRUE/FALSE:\n",
    "\t\tpos.matches = !is.na(pos.matches)\n",
    "\t\tneg.matches = !is.na(neg.matches)\n",
    "\n",
    "\t\t# and conveniently enough, TRUE/FALSE will be treated as 1/0 by sum():\n",
    "\t\tscore = sum(pos.matches) - sum(neg.matches)\n",
    "\n",
    "\t\treturn(score)\n",
    "\t}, pos.words, neg.words, .progress=.progress )\n",
    "\n",
    "\tscores.df = data.frame(score=scores, text=sentences)\n",
    "\treturn(scores.df)\n",
    "}"
   ]
  },
  {
   "cell_type": "code",
   "execution_count": 181,
   "metadata": {
    "collapsed": false
   },
   "outputs": [
    {
     "data": {
      "text/html": [
       "<table>\n",
       "<thead><tr><th></th><th scope=col>score</th><th scope=col>text</th></tr></thead>\n",
       "<tbody>\n",
       "\t<tr><th scope=row>1</th><td>1</td><td>I love you</td></tr>\n",
       "\t<tr><th scope=row>2</th><td>-1</td><td>I hate you</td></tr>\n",
       "\t<tr><th scope=row>3</th><td>1</td><td>What a wonderful day!</td></tr>\n",
       "\t<tr><th scope=row>4</th><td>2</td><td>I love you. I like you.</td></tr>\n",
       "</tbody>\n",
       "</table>\n"
      ],
      "text/latex": [
       "\\begin{tabular}{r|ll}\n",
       "  & score & text\\\\\n",
       "\\hline\n",
       "\t1 & 1 & I love you\\\\\n",
       "\t2 & -1 & I hate you\\\\\n",
       "\t3 & 1 & What a wonderful day!\\\\\n",
       "\t4 & 2 & I love you. I like you.\\\\\n",
       "\\end{tabular}\n"
      ],
      "text/plain": [
       "  score                    text\n",
       "1     1              I love you\n",
       "2    -1              I hate you\n",
       "3     1   What a wonderful day!\n",
       "4     2 I love you. I like you."
      ]
     },
     "execution_count": 181,
     "metadata": {},
     "output_type": "execute_result"
    }
   ],
   "source": [
    "sample <- c('I love you', 'I hate you', 'What a wonderful day!', 'I love you. I like you.' )\n",
    "result <- score.sentiment ( sample, pos.word, neg.word)\n",
    "result"
   ]
  },
  {
   "cell_type": "code",
   "execution_count": null,
   "metadata": {
    "collapsed": true
   },
   "outputs": [],
   "source": []
  }
 ],
 "metadata": {
  "kernelspec": {
   "display_name": "R",
   "language": "R",
   "name": "ir"
  },
  "language_info": {
   "codemirror_mode": "r",
   "file_extension": ".r",
   "mimetype": "text/x-r-source",
   "name": "R",
   "pygments_lexer": "r",
   "version": "3.3.1"
  }
 },
 "nbformat": 4,
 "nbformat_minor": 0
}

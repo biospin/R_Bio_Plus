{
 "cells": [
  {
   "cell_type": "markdown",
   "metadata": {},
   "source": [
    "# 제 4장 비정형 데이터마이닝"
   ]
  },
  {
   "cell_type": "markdown",
   "metadata": {},
   "source": [
    "## 제1 절 텍스트 마이닝\n",
    "\n",
    "- 텍스트 마이닝은 텍스트(text)를 이용한 데이터 마이닝이라고 할 수 있음.\n",
    "- 텍스트를 사용하여 패턴이나 관계를 추출하고 그 안에서 의미 있는 정보나 가치를 발굴하여 해석하는 일련의 과정"
   ]
  },
  {
   "cell_type": "markdown",
   "metadata": {},
   "source": [
    "### 1. 텍스트 마이닝의 기능\n",
    "\n",
    "- 텍스트 마이닝의 4가지 기능\n",
    "    1. 문서 요약\n",
    "    2. 문서 분류\n",
    "    3. 문서 군집\n",
    "    4. 특성 추출"
   ]
  },
  {
   "cell_type": "markdown",
   "metadata": {},
   "source": [
    "### 2. 텍스트 마이닝의 기본 프로세스\n",
    "\n",
    "- R에서 텍스트 마이닝을 수행하는데 필요한 패키지인 tm 패키지 설치"
   ]
  },
  {
   "cell_type": "code",
   "execution_count": 1,
   "metadata": {
    "collapsed": false
   },
   "outputs": [
    {
     "name": "stderr",
     "output_type": "stream",
     "text": [
      "also installing the dependencies 'NLP', 'slam'\n",
      "\n"
     ]
    },
    {
     "name": "stdout",
     "output_type": "stream",
     "text": [
      "package 'NLP' successfully unpacked and MD5 sums checked\n",
      "package 'slam' successfully unpacked and MD5 sums checked\n",
      "package 'tm' successfully unpacked and MD5 sums checked\n",
      "\n",
      "The downloaded binary packages are in\n",
      "\tC:\\Users\\Y.G JI\\AppData\\Local\\Temp\\Rtmp8St9I7\\downloaded_packages\n"
     ]
    }
   ],
   "source": [
    "install.packages(\"tm\",  repo=\"http://cran.nexr.com\")"
   ]
  },
  {
   "cell_type": "code",
   "execution_count": 2,
   "metadata": {
    "collapsed": false
   },
   "outputs": [
    {
     "name": "stderr",
     "output_type": "stream",
     "text": [
      "Warning message:\n",
      ": package 'tm' was built under R version 3.3.2Loading required package: NLP\n",
      "Warning message:\n",
      ": package 'NLP' was built under R version 3.3.2"
     ]
    }
   ],
   "source": [
    "library( tm )"
   ]
  },
  {
   "cell_type": "markdown",
   "metadata": {},
   "source": [
    "#### 가. 데이터 수집\n",
    "\n",
    "- 트위터에서 텍스트 데이터 수집\n",
    "\n",
    "![](data_01.jpg)\n",
    "\n",
    "![](data_02.jpg)"
   ]
  },
  {
   "cell_type": "code",
   "execution_count": 3,
   "metadata": {
    "collapsed": false
   },
   "outputs": [
    {
     "name": "stderr",
     "output_type": "stream",
     "text": [
      "also installing the dependencies 'bit', 'curl', 'openssl', 'bit64', 'rjson', 'httr'\n",
      "\n"
     ]
    },
    {
     "name": "stdout",
     "output_type": "stream",
     "text": [
      "package 'bit' successfully unpacked and MD5 sums checked\n",
      "package 'curl' successfully unpacked and MD5 sums checked\n",
      "package 'openssl' successfully unpacked and MD5 sums checked\n",
      "package 'bit64' successfully unpacked and MD5 sums checked\n",
      "package 'rjson' successfully unpacked and MD5 sums checked\n",
      "package 'httr' successfully unpacked and MD5 sums checked\n",
      "package 'twitteR' successfully unpacked and MD5 sums checked\n",
      "\n",
      "The downloaded binary packages are in\n",
      "\tC:\\Users\\Y.G JI\\AppData\\Local\\Temp\\Rtmp8St9I7\\downloaded_packages\n"
     ]
    }
   ],
   "source": [
    "install.packages(\"twitteR\",  repo=\"http://cran.nexr.com\")"
   ]
  },
  {
   "cell_type": "code",
   "execution_count": 3,
   "metadata": {
    "collapsed": false
   },
   "outputs": [
    {
     "name": "stderr",
     "output_type": "stream",
     "text": [
      "Warning message:\n",
      ": package 'twitteR' was built under R version 3.3.2"
     ]
    }
   ],
   "source": [
    "library(twitteR)"
   ]
  },
  {
   "cell_type": "code",
   "execution_count": 4,
   "metadata": {
    "collapsed": false
   },
   "outputs": [
    {
     "name": "stdout",
     "output_type": "stream",
     "text": [
      "[1] \"Using direct authentication\"\n"
     ]
    }
   ],
   "source": [
    "api_key <- \"RKCbEl0xGqfSdw1SCioFpHQmb\"\n",
    "api_secret <- \"Aeps3VNrrykBNYL33BLGOby5XXXVwuHTvhkmhHTE42LEnCfB5V\"\n",
    "access_token <- \"829270499800776704-VyJ78FDns7XjnHQEewQe9sYWKkDHjR1\"\n",
    "access_token_secret <- \"qyGyPMisIOPXtW00ezONqwkmiYDmI3bcTLG8alc41iH8N\"\n",
    "\n",
    "setup_twitter_oauth(api_key, api_secret, access_token, access_token_secret  )"
   ]
  },
  {
   "cell_type": "markdown",
   "metadata": {},
   "source": [
    "- [예제 1]  다음 데이터는 R에서 수집한 트위터 메시지로, 2014년 1월 1일 이후의 메시지 중 bigdata라는 단어가 등장한 트위터 메시지"
   ]
  },
  {
   "cell_type": "code",
   "execution_count": 5,
   "metadata": {
    "collapsed": false
   },
   "outputs": [],
   "source": [
    "keyword <- \"bigdata\"\n",
    "bigdata.tw <- searchTwitter( keyword, since='2017-02-01', n=100, lang='en' )"
   ]
  },
  {
   "cell_type": "code",
   "execution_count": 6,
   "metadata": {
    "collapsed": false
   },
   "outputs": [
    {
     "data": {
      "text/plain": [
       "[1] \"DigiNomadNation: RT @faststreamtech: Which Comes First: The Role of #BigData and #IoT in #SDN\\nhttps://t.co/0Mpq0E9IGm https://t.co/PBBfLQSfGp\""
      ]
     },
     "execution_count": 6,
     "metadata": {},
     "output_type": "execute_result"
    },
    {
     "data": {
      "text/plain": [
       "[1] \"OttLegalRebels: Why #bigdata can't predict the next armed conflict - https://t.co/rBnW2bK758 #DataAnalytics #Datavisualization #dataviz #analytics\""
      ]
     },
     "execution_count": 6,
     "metadata": {},
     "output_type": "execute_result"
    },
    {
     "data": {
      "text/plain": [
       "[1] \"DigiNomadNation: RT @startupshireme: Where Are The Hardware #Startups ? https://t.co/8T1FAr3Bal #growthhacking #tech #startup #entrepreneur #cloud #it #bigd…\""
      ]
     },
     "execution_count": 6,
     "metadata": {},
     "output_type": "execute_result"
    }
   ],
   "source": [
    "bigdata.tw[[1]]\n",
    "bigdata.tw[[2]]\n",
    "bigdata.tw[[3]]"
   ]
  },
  {
   "cell_type": "markdown",
   "metadata": {},
   "source": [
    "- 트위터 내용을 이용해 스크린 네임 정보와 •트위터 내용 가져오기"
   ]
  },
  {
   "cell_type": "code",
   "execution_count": 7,
   "metadata": {
    "collapsed": false
   },
   "outputs": [
    {
     "data": {
      "text/html": [
       "\"DigiNomadNation\""
      ],
      "text/latex": [
       "\"DigiNomadNation\""
      ],
      "text/markdown": [
       "\"DigiNomadNation\""
      ],
      "text/plain": [
       "[1] \"DigiNomadNation\""
      ]
     },
     "execution_count": 7,
     "metadata": {},
     "output_type": "execute_result"
    }
   ],
   "source": [
    "tweet <- bigdata.tw[[1]]\n",
    "tweet$getScreenName()"
   ]
  },
  {
   "cell_type": "code",
   "execution_count": 8,
   "metadata": {
    "collapsed": false
   },
   "outputs": [
    {
     "data": {
      "text/html": [
       "\"RT @faststreamtech: Which Comes First: The Role of #BigData and #IoT in #SDN\n",
       "https://t.co/0Mpq0E9IGm https://t.co/PBBfLQSfGp\""
      ],
      "text/latex": [
       "\"RT @faststreamtech: Which Comes First: The Role of #BigData and #IoT in #SDN\n",
       "https://t.co/0Mpq0E9IGm https://t.co/PBBfLQSfGp\""
      ],
      "text/markdown": [
       "\"RT @faststreamtech: Which Comes First: The Role of #BigData and #IoT in #SDN\n",
       "https://t.co/0Mpq0E9IGm https://t.co/PBBfLQSfGp\""
      ],
      "text/plain": [
       "[1] \"RT @faststreamtech: Which Comes First: The Role of #BigData and #IoT in #SDN\\nhttps://t.co/0Mpq0E9IGm https://t.co/PBBfLQSfGp\""
      ]
     },
     "execution_count": 8,
     "metadata": {},
     "output_type": "execute_result"
    }
   ],
   "source": [
    "tweet$getText()"
   ]
  },
  {
   "cell_type": "markdown",
   "metadata": {},
   "source": [
    "- list형태로 되어 있는 bigdata.tw을 data.frame형태로 변환"
   ]
  },
  {
   "cell_type": "code",
   "execution_count": 9,
   "metadata": {
    "collapsed": false
   },
   "outputs": [
    {
     "data": {
      "text/html": [
       "\"list\""
      ],
      "text/latex": [
       "\"list\""
      ],
      "text/markdown": [
       "\"list\""
      ],
      "text/plain": [
       "[1] \"list\""
      ]
     },
     "execution_count": 9,
     "metadata": {},
     "output_type": "execute_result"
    },
    {
     "data": {
      "text/html": [
       "\"data.frame\""
      ],
      "text/latex": [
       "\"data.frame\""
      ],
      "text/markdown": [
       "\"data.frame\""
      ],
      "text/plain": [
       "[1] \"data.frame\""
      ]
     },
     "execution_count": 9,
     "metadata": {},
     "output_type": "execute_result"
    },
    {
     "data": {
      "text/html": [
       "<ol class=list-inline>\n",
       "\t<li>\"RT @faststreamtech: Which Comes First: The Role of #BigData and #IoT in #SDN\n",
       "https://t.co/0Mpq0E9IGm https://t.co/PBBfLQSfGp\"</li>\n",
       "\t<li>\"Why #bigdata can't predict the next armed conflict - https://t.co/rBnW2bK758 #DataAnalytics #Datavisualization #dataviz #analytics\"</li>\n",
       "\t<li>\"RT @startupshireme: Where Are The Hardware #Startups ? https://t.co/8T1FAr3Bal #growthhacking #tech #startup #entrepreneur #cloud #it #bigd…\"</li>\n",
       "\t<li>\"RT CloudExpo: Diamond Sponsor \\\"Coming Up\\\"\n",
       "\n",
       "NYC June 6-8\n",
       "Silicon Valley Nov 1-3\n",
       "\n",
       "#BigData #DevOps #Monitoring #SDN … https://t.co/2b2zqE2oDf\"</li>\n",
       "\t<li>\"RT @datagenius: The latest All Things Data! https://t.co/k40TJy1dOR Thanks to @Recruit4Data @sundarmail @daraghobrien #bigdata #digitaltran…\"</li>\n",
       "</ol>\n"
      ],
      "text/latex": [
       "\\begin{enumerate*}\n",
       "\\item \"RT @faststreamtech: Which Comes First: The Role of #BigData and #IoT in #SDN\n",
       "https://t.co/0Mpq0E9IGm https://t.co/PBBfLQSfGp\"\n",
       "\\item \"Why #bigdata can't predict the next armed conflict - https://t.co/rBnW2bK758 #DataAnalytics #Datavisualization #dataviz #analytics\"\n",
       "\\item \"RT @startupshireme: Where Are The Hardware #Startups ? https://t.co/8T1FAr3Bal #growthhacking #tech #startup #entrepreneur #cloud #it #bigd…\"\n",
       "\\item \"RT CloudExpo: Diamond Sponsor \\\"Coming Up\\\"\n",
       "\n",
       "NYC June 6-8\n",
       "Silicon Valley Nov 1-3\n",
       "\n",
       "#BigData #DevOps #Monitoring #SDN … https://t.co/2b2zqE2oDf\"\n",
       "\\item \"RT @datagenius: The latest All Things Data! https://t.co/k40TJy1dOR Thanks to @Recruit4Data @sundarmail @daraghobrien #bigdata #digitaltran…\"\n",
       "\\end{enumerate*}\n"
      ],
      "text/markdown": [
       "1. \"RT @faststreamtech: Which Comes First: The Role of #BigData and #IoT in #SDN\n",
       "https://t.co/0Mpq0E9IGm https://t.co/PBBfLQSfGp\"\n",
       "2. \"Why #bigdata can't predict the next armed conflict - https://t.co/rBnW2bK758 #DataAnalytics #Datavisualization #dataviz #analytics\"\n",
       "3. \"RT @startupshireme: Where Are The Hardware #Startups ? https://t.co/8T1FAr3Bal #growthhacking #tech #startup #entrepreneur #cloud #it #bigd…\"\n",
       "4. \"RT CloudExpo: Diamond Sponsor \\\"Coming Up\\\"\n",
       "\n",
       "NYC June 6-8\n",
       "Silicon Valley Nov 1-3\n",
       "\n",
       "#BigData #DevOps #Monitoring #SDN … https://t.co/2b2zqE2oDf\"\n",
       "5. \"RT @datagenius: The latest All Things Data! https://t.co/k40TJy1dOR Thanks to @Recruit4Data @sundarmail @daraghobrien #bigdata #digitaltran…\"\n",
       "\n",
       "\n"
      ],
      "text/plain": [
       "[1] \"RT @faststreamtech: Which Comes First: The Role of #BigData and #IoT in #SDN\\nhttps://t.co/0Mpq0E9IGm https://t.co/PBBfLQSfGp\"                      \n",
       "[2] \"Why #bigdata can't predict the next armed conflict - https://t.co/rBnW2bK758 #DataAnalytics #Datavisualization #dataviz #analytics\"                 \n",
       "[3] \"RT @startupshireme: Where Are The Hardware #Startups ? https://t.co/8T1FAr3Bal #growthhacking #tech #startup #entrepreneur #cloud #it #bigd…\"      \n",
       "[4] \"RT CloudExpo: Diamond Sponsor \\\"Coming Up\\\"\\n\\nNYC June 6-8\\nSilicon Valley Nov 1-3\\n\\n#BigData #DevOps #Monitoring #SDN … https://t.co/2b2zqE2oDf\"\n",
       "[5] \"RT @datagenius: The latest All Things Data! https://t.co/k40TJy1dOR Thanks to @Recruit4Data @sundarmail @daraghobrien #bigdata #digitaltran…\"      "
      ]
     },
     "execution_count": 9,
     "metadata": {},
     "output_type": "execute_result"
    }
   ],
   "source": [
    "class(bigdata.tw)\n",
    "\n",
    "bigdata.df <- twListToDF( bigdata.tw )\n",
    "\n",
    "class(bigdata.df)\n",
    "\n",
    "bigdata.text <- bigdata.df$text\n",
    "head( bigdata.text, n=5 )"
   ]
  },
  {
   "cell_type": "markdown",
   "metadata": {},
   "source": [
    "#### 나. 데이터  전처리 및 가공\n",
    "\n",
    "- 유의하게 사용되지 않는 부분을 제거\n",
    "- 분석에 용이하도록 변경 과정"
   ]
  },
  {
   "cell_type": "markdown",
   "metadata": {},
   "source": [
    "##### 1) Corpus 생성 ( 말뭉치 생성)\n",
    "\n",
    "- 텍스트 마이닝에서 문서를 관리하느 기본구조를 Corpus라고 함.\n",
    "- 이는 텍스트 문서들의 집합을 의미"
   ]
  },
  {
   "cell_type": "markdown",
   "metadata": {},
   "source": [
    "- [예제 2] tm 패키지안에 있는 데이터을 읽어오자."
   ]
  },
  {
   "cell_type": "code",
   "execution_count": 10,
   "metadata": {
    "collapsed": false
   },
   "outputs": [
    {
     "data": {
      "text/html": [
       "\"C:/Anaconda2/R/library/tm/texts/txt\""
      ],
      "text/latex": [
       "\"C:/Anaconda2/R/library/tm/texts/txt\""
      ],
      "text/markdown": [
       "\"C:/Anaconda2/R/library/tm/texts/txt\""
      ],
      "text/plain": [
       "[1] \"C:/Anaconda2/R/library/tm/texts/txt\""
      ]
     },
     "execution_count": 10,
     "metadata": {},
     "output_type": "execute_result"
    }
   ],
   "source": [
    "txt <- system.file( 'texts', 'txt', package='tm' )\n",
    "txt"
   ]
  },
  {
   "cell_type": "code",
   "execution_count": 11,
   "metadata": {
    "collapsed": false
   },
   "outputs": [
    {
     "data": {
      "text/plain": [
       "<<VCorpus>>\n",
       "Metadata:  corpus specific: 0, document level (indexed): 0\n",
       "Content:  documents: 5"
      ]
     },
     "execution_count": 11,
     "metadata": {},
     "output_type": "execute_result"
    }
   ],
   "source": [
    "ovid <- Corpus(  DirSource(txt),  readerControl=list(language='lat')  )\n",
    "ovid"
   ]
  },
  {
   "cell_type": "code",
   "execution_count": 12,
   "metadata": {
    "collapsed": false
   },
   "outputs": [
    {
     "data": {
      "text/plain": [
       "<<PlainTextDocument>>\n",
       "Metadata:  7\n",
       "Content:  chars: 676"
      ]
     },
     "execution_count": 12,
     "metadata": {},
     "output_type": "execute_result"
    }
   ],
   "source": [
    "ovid[[1]]"
   ]
  },
  {
   "cell_type": "markdown",
   "metadata": {},
   "source": [
    "- reader종류를 확인해보고 텍스트 이외에도 Word, PDF, CSV 등의 다양한 문서형식을 읽어올 수 있음."
   ]
  },
  {
   "cell_type": "code",
   "execution_count": 13,
   "metadata": {
    "collapsed": false
   },
   "outputs": [
    {
     "data": {
      "text/html": [
       "<ol class=list-inline>\n",
       "\t<li>\"readDOC\"</li>\n",
       "\t<li>\"readPDF\"</li>\n",
       "\t<li>\"readPlain\"</li>\n",
       "\t<li>\"readRCV1\"</li>\n",
       "\t<li>\"readRCV1asPlain\"</li>\n",
       "\t<li>\"readReut21578XML\"</li>\n",
       "\t<li>\"readReut21578XMLasPlain\"</li>\n",
       "\t<li>\"readTabular\"</li>\n",
       "\t<li>\"readTagged\"</li>\n",
       "\t<li>\"readXML\"</li>\n",
       "</ol>\n"
      ],
      "text/latex": [
       "\\begin{enumerate*}\n",
       "\\item \"readDOC\"\n",
       "\\item \"readPDF\"\n",
       "\\item \"readPlain\"\n",
       "\\item \"readRCV1\"\n",
       "\\item \"readRCV1asPlain\"\n",
       "\\item \"readReut21578XML\"\n",
       "\\item \"readReut21578XMLasPlain\"\n",
       "\\item \"readTabular\"\n",
       "\\item \"readTagged\"\n",
       "\\item \"readXML\"\n",
       "\\end{enumerate*}\n"
      ],
      "text/markdown": [
       "1. \"readDOC\"\n",
       "2. \"readPDF\"\n",
       "3. \"readPlain\"\n",
       "4. \"readRCV1\"\n",
       "5. \"readRCV1asPlain\"\n",
       "6. \"readReut21578XML\"\n",
       "7. \"readReut21578XMLasPlain\"\n",
       "8. \"readTabular\"\n",
       "9. \"readTagged\"\n",
       "10. \"readXML\"\n",
       "\n",
       "\n"
      ],
      "text/plain": [
       " [1] \"readDOC\"                 \"readPDF\"                \n",
       " [3] \"readPlain\"               \"readRCV1\"               \n",
       " [5] \"readRCV1asPlain\"         \"readReut21578XML\"       \n",
       " [7] \"readReut21578XMLasPlain\" \"readTabular\"            \n",
       " [9] \"readTagged\"              \"readXML\"                "
      ]
     },
     "execution_count": 13,
     "metadata": {},
     "output_type": "execute_result"
    }
   ],
   "source": [
    "getReaders()"
   ]
  },
  {
   "cell_type": "markdown",
   "metadata": {},
   "source": [
    "- 트위터에서 읽어온 bigdata.text을 corpus 형태로 변환하자"
   ]
  },
  {
   "cell_type": "code",
   "execution_count": 34,
   "metadata": {
    "collapsed": false
   },
   "outputs": [
    {
     "data": {
      "text/plain": [
       "<<VCorpus>>\n",
       "Metadata:  corpus specific: 0, document level (indexed): 0\n",
       "Content:  documents: 100"
      ]
     },
     "execution_count": 34,
     "metadata": {},
     "output_type": "execute_result"
    }
   ],
   "source": [
    "my.corpus <- Corpus( VectorSource(bigdata.text) )\n",
    "my.corpus"
   ]
  },
  {
   "cell_type": "code",
   "execution_count": 35,
   "metadata": {
    "collapsed": false
   },
   "outputs": [
    {
     "data": {
      "text/html": [
       "\"RT @faststreamtech: Which Comes First: The Role of #BigData and #IoT in #SDN\n",
       "https://t.co/0Mpq0E9IGm https://t.co/PBBfLQSfGp\""
      ],
      "text/latex": [
       "\"RT @faststreamtech: Which Comes First: The Role of #BigData and #IoT in #SDN\n",
       "https://t.co/0Mpq0E9IGm https://t.co/PBBfLQSfGp\""
      ],
      "text/markdown": [
       "\"RT @faststreamtech: Which Comes First: The Role of #BigData and #IoT in #SDN\n",
       "https://t.co/0Mpq0E9IGm https://t.co/PBBfLQSfGp\""
      ],
      "text/plain": [
       "[1] \"RT @faststreamtech: Which Comes First: The Role of #BigData and #IoT in #SDN\\nhttps://t.co/0Mpq0E9IGm https://t.co/PBBfLQSfGp\""
      ]
     },
     "execution_count": 35,
     "metadata": {},
     "output_type": "execute_result"
    }
   ],
   "source": [
    "my.corpus[[1]]$content"
   ]
  },
  {
   "cell_type": "code",
   "execution_count": 36,
   "metadata": {
    "collapsed": false
   },
   "outputs": [
    {
     "data": {
      "text/plain": [
       "<<PlainTextDocument>>\n",
       "Metadata:  7\n",
       "Content:  chars: 124"
      ]
     },
     "execution_count": 36,
     "metadata": {},
     "output_type": "execute_result"
    }
   ],
   "source": [
    "my.corpus[[1]]"
   ]
  },
  {
   "cell_type": "markdown",
   "metadata": {},
   "source": [
    "##### 2)  tm_map() 함수의 적용\n",
    "\n",
    "- Corpus의 형식의 데이터들의 변형을 위한 tm_map()함수가 제공"
   ]
  },
  {
   "cell_type": "code",
   "execution_count": 37,
   "metadata": {
    "collapsed": false
   },
   "outputs": [
    {
     "data": {
      "text/html": [
       "\"RT @faststreamtech: Which Comes First: The Role of #BigData and #IoT in #SDN https://t.co/0Mpq0E9IGm https://t.co/PBBfLQSfGp\""
      ],
      "text/latex": [
       "\"RT @faststreamtech: Which Comes First: The Role of #BigData and #IoT in #SDN https://t.co/0Mpq0E9IGm https://t.co/PBBfLQSfGp\""
      ],
      "text/markdown": [
       "\"RT @faststreamtech: Which Comes First: The Role of #BigData and #IoT in #SDN https://t.co/0Mpq0E9IGm https://t.co/PBBfLQSfGp\""
      ],
      "text/plain": [
       "[1] \"RT @faststreamtech: Which Comes First: The Role of #BigData and #IoT in #SDN https://t.co/0Mpq0E9IGm https://t.co/PBBfLQSfGp\""
      ]
     },
     "execution_count": 37,
     "metadata": {},
     "output_type": "execute_result"
    }
   ],
   "source": [
    "my.corpus.new <- tm_map( my.corpus, stripWhitespace )\n",
    "my.corpus.new[[1]]$content"
   ]
  },
  {
   "cell_type": "markdown",
   "metadata": {},
   "source": [
    "- 특정 패턴을 가지는 단어를 제거하거나 다른 단어로 대체"
   ]
  },
  {
   "cell_type": "code",
   "execution_count": 38,
   "metadata": {
    "collapsed": false
   },
   "outputs": [
    {
     "data": {
      "text/html": [
       "\"RT  Which Comes First: The Role of #BigData and #IoT in #SDN https://t.co/0Mpq0E9IGm https://t.co/PBBfLQSfGp\""
      ],
      "text/latex": [
       "\"RT  Which Comes First: The Role of #BigData and #IoT in #SDN https://t.co/0Mpq0E9IGm https://t.co/PBBfLQSfGp\""
      ],
      "text/markdown": [
       "\"RT  Which Comes First: The Role of #BigData and #IoT in #SDN https://t.co/0Mpq0E9IGm https://t.co/PBBfLQSfGp\""
      ],
      "text/plain": [
       "[1] \"RT  Which Comes First: The Role of #BigData and #IoT in #SDN https://t.co/0Mpq0E9IGm https://t.co/PBBfLQSfGp\""
      ]
     },
     "execution_count": 38,
     "metadata": {},
     "output_type": "execute_result"
    }
   ],
   "source": [
    "my.corpus.new <- tm_map( my.corpus.new, content_transformer(gsub),  pattern='@\\\\S*', replacement='' )\n",
    "my.corpus.new[[1]]$content"
   ]
  },
  {
   "cell_type": "code",
   "execution_count": 39,
   "metadata": {
    "collapsed": false
   },
   "outputs": [
    {
     "data": {
      "text/html": [
       "\"RT  Which Comes First: The Role of #BigData and #IoT in #SDN  \""
      ],
      "text/latex": [
       "\"RT  Which Comes First: The Role of #BigData and #IoT in #SDN  \""
      ],
      "text/markdown": [
       "\"RT  Which Comes First: The Role of #BigData and #IoT in #SDN  \""
      ],
      "text/plain": [
       "[1] \"RT  Which Comes First: The Role of #BigData and #IoT in #SDN  \""
      ]
     },
     "execution_count": 39,
     "metadata": {},
     "output_type": "execute_result"
    }
   ],
   "source": [
    "my.corpus.new <- tm_map( my.corpus.new, content_transformer(gsub),  pattern='http\\\\S*', replacement='' )\n",
    "my.corpus.new[[1]]$content"
   ]
  },
  {
   "cell_type": "markdown",
   "metadata": {},
   "source": [
    "- 문장 부호 및 구두점 제거"
   ]
  },
  {
   "cell_type": "code",
   "execution_count": 40,
   "metadata": {
    "collapsed": false
   },
   "outputs": [
    {
     "data": {
      "text/html": [
       "\"RT  Which Comes First The Role of BigData and IoT in SDN  \""
      ],
      "text/latex": [
       "\"RT  Which Comes First The Role of BigData and IoT in SDN  \""
      ],
      "text/markdown": [
       "\"RT  Which Comes First The Role of BigData and IoT in SDN  \""
      ],
      "text/plain": [
       "[1] \"RT  Which Comes First The Role of BigData and IoT in SDN  \""
      ]
     },
     "execution_count": 40,
     "metadata": {},
     "output_type": "execute_result"
    }
   ],
   "source": [
    "my.corpus.new <- tm_map( my.corpus.new, removePunctuation )\n",
    "my.corpus.new[[1]]$content"
   ]
  },
  {
   "cell_type": "markdown",
   "metadata": {},
   "source": [
    "- 대문자를 소문자로 변환"
   ]
  },
  {
   "cell_type": "code",
   "execution_count": 41,
   "metadata": {
    "collapsed": false
   },
   "outputs": [
    {
     "data": {
      "text/html": [
       "\"rt  which comes first the role of bigdata and iot in sdn  \""
      ],
      "text/latex": [
       "\"rt  which comes first the role of bigdata and iot in sdn  \""
      ],
      "text/markdown": [
       "\"rt  which comes first the role of bigdata and iot in sdn  \""
      ],
      "text/plain": [
       "[1] \"rt  which comes first the role of bigdata and iot in sdn  \""
      ]
     },
     "execution_count": 41,
     "metadata": {},
     "output_type": "execute_result"
    }
   ],
   "source": [
    "my.corpus.new <- tm_map( my.corpus.new, content_transformer(tolower)  )\n",
    "my.corpus.new[[1]]$content"
   ]
  },
  {
   "cell_type": "markdown",
   "metadata": {},
   "source": [
    "- 분석에 필요없는 특정 단어를 제거,  stop word라고 하며  불용어라고 함."
   ]
  },
  {
   "cell_type": "code",
   "execution_count": 42,
   "metadata": {
    "collapsed": false
   },
   "outputs": [
    {
     "data": {
      "text/html": [
       "<ol class=list-inline>\n",
       "\t<li>\"i\"</li>\n",
       "\t<li>\"me\"</li>\n",
       "\t<li>\"my\"</li>\n",
       "\t<li>\"myself\"</li>\n",
       "\t<li>\"we\"</li>\n",
       "\t<li>\"our\"</li>\n",
       "\t<li>\"ours\"</li>\n",
       "\t<li>\"ourselves\"</li>\n",
       "\t<li>\"you\"</li>\n",
       "\t<li>\"your\"</li>\n",
       "\t<li>\"yours\"</li>\n",
       "\t<li>\"yourself\"</li>\n",
       "\t<li>\"yourselves\"</li>\n",
       "\t<li>\"he\"</li>\n",
       "\t<li>\"him\"</li>\n",
       "\t<li>\"his\"</li>\n",
       "\t<li>\"himself\"</li>\n",
       "\t<li>\"she\"</li>\n",
       "\t<li>\"her\"</li>\n",
       "\t<li>\"hers\"</li>\n",
       "\t<li>\"herself\"</li>\n",
       "\t<li>\"it\"</li>\n",
       "\t<li>\"its\"</li>\n",
       "\t<li>\"itself\"</li>\n",
       "\t<li>\"they\"</li>\n",
       "\t<li>\"them\"</li>\n",
       "\t<li>\"their\"</li>\n",
       "\t<li>\"theirs\"</li>\n",
       "\t<li>\"themselves\"</li>\n",
       "\t<li>\"what\"</li>\n",
       "\t<li>\"which\"</li>\n",
       "\t<li>\"who\"</li>\n",
       "\t<li>\"whom\"</li>\n",
       "\t<li>\"this\"</li>\n",
       "\t<li>\"that\"</li>\n",
       "\t<li>\"these\"</li>\n",
       "\t<li>\"those\"</li>\n",
       "\t<li>\"am\"</li>\n",
       "\t<li>\"is\"</li>\n",
       "\t<li>\"are\"</li>\n",
       "\t<li>\"was\"</li>\n",
       "\t<li>\"were\"</li>\n",
       "\t<li>\"be\"</li>\n",
       "\t<li>\"been\"</li>\n",
       "\t<li>\"being\"</li>\n",
       "\t<li>\"have\"</li>\n",
       "\t<li>\"has\"</li>\n",
       "\t<li>\"had\"</li>\n",
       "\t<li>\"having\"</li>\n",
       "\t<li>\"do\"</li>\n",
       "\t<li>\"does\"</li>\n",
       "\t<li>\"did\"</li>\n",
       "\t<li>\"doing\"</li>\n",
       "\t<li>\"would\"</li>\n",
       "\t<li>\"should\"</li>\n",
       "\t<li>\"could\"</li>\n",
       "\t<li>\"ought\"</li>\n",
       "\t<li>\"i'm\"</li>\n",
       "\t<li>\"you're\"</li>\n",
       "\t<li>\"he's\"</li>\n",
       "\t<li>\"she's\"</li>\n",
       "\t<li>\"it's\"</li>\n",
       "\t<li>\"we're\"</li>\n",
       "\t<li>\"they're\"</li>\n",
       "\t<li>\"i've\"</li>\n",
       "\t<li>\"you've\"</li>\n",
       "\t<li>\"we've\"</li>\n",
       "\t<li>\"they've\"</li>\n",
       "\t<li>\"i'd\"</li>\n",
       "\t<li>\"you'd\"</li>\n",
       "\t<li>\"he'd\"</li>\n",
       "\t<li>\"she'd\"</li>\n",
       "\t<li>\"we'd\"</li>\n",
       "\t<li>\"they'd\"</li>\n",
       "\t<li>\"i'll\"</li>\n",
       "\t<li>\"you'll\"</li>\n",
       "\t<li>\"he'll\"</li>\n",
       "\t<li>\"she'll\"</li>\n",
       "\t<li>\"we'll\"</li>\n",
       "\t<li>\"they'll\"</li>\n",
       "\t<li>\"isn't\"</li>\n",
       "\t<li>\"aren't\"</li>\n",
       "\t<li>\"wasn't\"</li>\n",
       "\t<li>\"weren't\"</li>\n",
       "\t<li>\"hasn't\"</li>\n",
       "\t<li>\"haven't\"</li>\n",
       "\t<li>\"hadn't\"</li>\n",
       "\t<li>\"doesn't\"</li>\n",
       "\t<li>\"don't\"</li>\n",
       "\t<li>\"didn't\"</li>\n",
       "\t<li>\"won't\"</li>\n",
       "\t<li>\"wouldn't\"</li>\n",
       "\t<li>\"shan't\"</li>\n",
       "\t<li>\"shouldn't\"</li>\n",
       "\t<li>\"can't\"</li>\n",
       "\t<li>\"cannot\"</li>\n",
       "\t<li>\"couldn't\"</li>\n",
       "\t<li>\"mustn't\"</li>\n",
       "\t<li>\"let's\"</li>\n",
       "\t<li>\"that's\"</li>\n",
       "\t<li>\"who's\"</li>\n",
       "\t<li>\"what's\"</li>\n",
       "\t<li>\"here's\"</li>\n",
       "\t<li>\"there's\"</li>\n",
       "\t<li>\"when's\"</li>\n",
       "\t<li>\"where's\"</li>\n",
       "\t<li>\"why's\"</li>\n",
       "\t<li>\"how's\"</li>\n",
       "\t<li>\"a\"</li>\n",
       "\t<li>\"an\"</li>\n",
       "\t<li>\"the\"</li>\n",
       "\t<li>\"and\"</li>\n",
       "\t<li>\"but\"</li>\n",
       "\t<li>\"if\"</li>\n",
       "\t<li>\"or\"</li>\n",
       "\t<li>\"because\"</li>\n",
       "\t<li>\"as\"</li>\n",
       "\t<li>\"until\"</li>\n",
       "\t<li>\"while\"</li>\n",
       "\t<li>\"of\"</li>\n",
       "\t<li>\"at\"</li>\n",
       "\t<li>\"by\"</li>\n",
       "\t<li>\"for\"</li>\n",
       "\t<li>\"with\"</li>\n",
       "\t<li>\"about\"</li>\n",
       "\t<li>\"against\"</li>\n",
       "\t<li>\"between\"</li>\n",
       "\t<li>\"into\"</li>\n",
       "\t<li>\"through\"</li>\n",
       "\t<li>\"during\"</li>\n",
       "\t<li>\"before\"</li>\n",
       "\t<li>\"after\"</li>\n",
       "\t<li>\"above\"</li>\n",
       "\t<li>\"below\"</li>\n",
       "\t<li>\"to\"</li>\n",
       "\t<li>\"from\"</li>\n",
       "\t<li>\"up\"</li>\n",
       "\t<li>\"down\"</li>\n",
       "\t<li>\"in\"</li>\n",
       "\t<li>\"out\"</li>\n",
       "\t<li>\"on\"</li>\n",
       "\t<li>\"off\"</li>\n",
       "\t<li>\"over\"</li>\n",
       "\t<li>\"under\"</li>\n",
       "\t<li>\"again\"</li>\n",
       "\t<li>\"further\"</li>\n",
       "\t<li>\"then\"</li>\n",
       "\t<li>\"once\"</li>\n",
       "\t<li>\"here\"</li>\n",
       "\t<li>\"there\"</li>\n",
       "\t<li>\"when\"</li>\n",
       "\t<li>\"where\"</li>\n",
       "\t<li>\"why\"</li>\n",
       "\t<li>\"how\"</li>\n",
       "\t<li>\"all\"</li>\n",
       "\t<li>\"any\"</li>\n",
       "\t<li>\"both\"</li>\n",
       "\t<li>\"each\"</li>\n",
       "\t<li>\"few\"</li>\n",
       "\t<li>\"more\"</li>\n",
       "\t<li>\"most\"</li>\n",
       "\t<li>\"other\"</li>\n",
       "\t<li>\"some\"</li>\n",
       "\t<li>\"such\"</li>\n",
       "\t<li>\"no\"</li>\n",
       "\t<li>\"nor\"</li>\n",
       "\t<li>\"not\"</li>\n",
       "\t<li>\"only\"</li>\n",
       "\t<li>\"own\"</li>\n",
       "\t<li>\"same\"</li>\n",
       "\t<li>\"so\"</li>\n",
       "\t<li>\"than\"</li>\n",
       "\t<li>\"too\"</li>\n",
       "\t<li>\"very\"</li>\n",
       "</ol>\n"
      ],
      "text/latex": [
       "\\begin{enumerate*}\n",
       "\\item \"i\"\n",
       "\\item \"me\"\n",
       "\\item \"my\"\n",
       "\\item \"myself\"\n",
       "\\item \"we\"\n",
       "\\item \"our\"\n",
       "\\item \"ours\"\n",
       "\\item \"ourselves\"\n",
       "\\item \"you\"\n",
       "\\item \"your\"\n",
       "\\item \"yours\"\n",
       "\\item \"yourself\"\n",
       "\\item \"yourselves\"\n",
       "\\item \"he\"\n",
       "\\item \"him\"\n",
       "\\item \"his\"\n",
       "\\item \"himself\"\n",
       "\\item \"she\"\n",
       "\\item \"her\"\n",
       "\\item \"hers\"\n",
       "\\item \"herself\"\n",
       "\\item \"it\"\n",
       "\\item \"its\"\n",
       "\\item \"itself\"\n",
       "\\item \"they\"\n",
       "\\item \"them\"\n",
       "\\item \"their\"\n",
       "\\item \"theirs\"\n",
       "\\item \"themselves\"\n",
       "\\item \"what\"\n",
       "\\item \"which\"\n",
       "\\item \"who\"\n",
       "\\item \"whom\"\n",
       "\\item \"this\"\n",
       "\\item \"that\"\n",
       "\\item \"these\"\n",
       "\\item \"those\"\n",
       "\\item \"am\"\n",
       "\\item \"is\"\n",
       "\\item \"are\"\n",
       "\\item \"was\"\n",
       "\\item \"were\"\n",
       "\\item \"be\"\n",
       "\\item \"been\"\n",
       "\\item \"being\"\n",
       "\\item \"have\"\n",
       "\\item \"has\"\n",
       "\\item \"had\"\n",
       "\\item \"having\"\n",
       "\\item \"do\"\n",
       "\\item \"does\"\n",
       "\\item \"did\"\n",
       "\\item \"doing\"\n",
       "\\item \"would\"\n",
       "\\item \"should\"\n",
       "\\item \"could\"\n",
       "\\item \"ought\"\n",
       "\\item \"i'm\"\n",
       "\\item \"you're\"\n",
       "\\item \"he's\"\n",
       "\\item \"she's\"\n",
       "\\item \"it's\"\n",
       "\\item \"we're\"\n",
       "\\item \"they're\"\n",
       "\\item \"i've\"\n",
       "\\item \"you've\"\n",
       "\\item \"we've\"\n",
       "\\item \"they've\"\n",
       "\\item \"i'd\"\n",
       "\\item \"you'd\"\n",
       "\\item \"he'd\"\n",
       "\\item \"she'd\"\n",
       "\\item \"we'd\"\n",
       "\\item \"they'd\"\n",
       "\\item \"i'll\"\n",
       "\\item \"you'll\"\n",
       "\\item \"he'll\"\n",
       "\\item \"she'll\"\n",
       "\\item \"we'll\"\n",
       "\\item \"they'll\"\n",
       "\\item \"isn't\"\n",
       "\\item \"aren't\"\n",
       "\\item \"wasn't\"\n",
       "\\item \"weren't\"\n",
       "\\item \"hasn't\"\n",
       "\\item \"haven't\"\n",
       "\\item \"hadn't\"\n",
       "\\item \"doesn't\"\n",
       "\\item \"don't\"\n",
       "\\item \"didn't\"\n",
       "\\item \"won't\"\n",
       "\\item \"wouldn't\"\n",
       "\\item \"shan't\"\n",
       "\\item \"shouldn't\"\n",
       "\\item \"can't\"\n",
       "\\item \"cannot\"\n",
       "\\item \"couldn't\"\n",
       "\\item \"mustn't\"\n",
       "\\item \"let's\"\n",
       "\\item \"that's\"\n",
       "\\item \"who's\"\n",
       "\\item \"what's\"\n",
       "\\item \"here's\"\n",
       "\\item \"there's\"\n",
       "\\item \"when's\"\n",
       "\\item \"where's\"\n",
       "\\item \"why's\"\n",
       "\\item \"how's\"\n",
       "\\item \"a\"\n",
       "\\item \"an\"\n",
       "\\item \"the\"\n",
       "\\item \"and\"\n",
       "\\item \"but\"\n",
       "\\item \"if\"\n",
       "\\item \"or\"\n",
       "\\item \"because\"\n",
       "\\item \"as\"\n",
       "\\item \"until\"\n",
       "\\item \"while\"\n",
       "\\item \"of\"\n",
       "\\item \"at\"\n",
       "\\item \"by\"\n",
       "\\item \"for\"\n",
       "\\item \"with\"\n",
       "\\item \"about\"\n",
       "\\item \"against\"\n",
       "\\item \"between\"\n",
       "\\item \"into\"\n",
       "\\item \"through\"\n",
       "\\item \"during\"\n",
       "\\item \"before\"\n",
       "\\item \"after\"\n",
       "\\item \"above\"\n",
       "\\item \"below\"\n",
       "\\item \"to\"\n",
       "\\item \"from\"\n",
       "\\item \"up\"\n",
       "\\item \"down\"\n",
       "\\item \"in\"\n",
       "\\item \"out\"\n",
       "\\item \"on\"\n",
       "\\item \"off\"\n",
       "\\item \"over\"\n",
       "\\item \"under\"\n",
       "\\item \"again\"\n",
       "\\item \"further\"\n",
       "\\item \"then\"\n",
       "\\item \"once\"\n",
       "\\item \"here\"\n",
       "\\item \"there\"\n",
       "\\item \"when\"\n",
       "\\item \"where\"\n",
       "\\item \"why\"\n",
       "\\item \"how\"\n",
       "\\item \"all\"\n",
       "\\item \"any\"\n",
       "\\item \"both\"\n",
       "\\item \"each\"\n",
       "\\item \"few\"\n",
       "\\item \"more\"\n",
       "\\item \"most\"\n",
       "\\item \"other\"\n",
       "\\item \"some\"\n",
       "\\item \"such\"\n",
       "\\item \"no\"\n",
       "\\item \"nor\"\n",
       "\\item \"not\"\n",
       "\\item \"only\"\n",
       "\\item \"own\"\n",
       "\\item \"same\"\n",
       "\\item \"so\"\n",
       "\\item \"than\"\n",
       "\\item \"too\"\n",
       "\\item \"very\"\n",
       "\\end{enumerate*}\n"
      ],
      "text/markdown": [
       "1. \"i\"\n",
       "2. \"me\"\n",
       "3. \"my\"\n",
       "4. \"myself\"\n",
       "5. \"we\"\n",
       "6. \"our\"\n",
       "7. \"ours\"\n",
       "8. \"ourselves\"\n",
       "9. \"you\"\n",
       "10. \"your\"\n",
       "11. \"yours\"\n",
       "12. \"yourself\"\n",
       "13. \"yourselves\"\n",
       "14. \"he\"\n",
       "15. \"him\"\n",
       "16. \"his\"\n",
       "17. \"himself\"\n",
       "18. \"she\"\n",
       "19. \"her\"\n",
       "20. \"hers\"\n",
       "21. \"herself\"\n",
       "22. \"it\"\n",
       "23. \"its\"\n",
       "24. \"itself\"\n",
       "25. \"they\"\n",
       "26. \"them\"\n",
       "27. \"their\"\n",
       "28. \"theirs\"\n",
       "29. \"themselves\"\n",
       "30. \"what\"\n",
       "31. \"which\"\n",
       "32. \"who\"\n",
       "33. \"whom\"\n",
       "34. \"this\"\n",
       "35. \"that\"\n",
       "36. \"these\"\n",
       "37. \"those\"\n",
       "38. \"am\"\n",
       "39. \"is\"\n",
       "40. \"are\"\n",
       "41. \"was\"\n",
       "42. \"were\"\n",
       "43. \"be\"\n",
       "44. \"been\"\n",
       "45. \"being\"\n",
       "46. \"have\"\n",
       "47. \"has\"\n",
       "48. \"had\"\n",
       "49. \"having\"\n",
       "50. \"do\"\n",
       "51. \"does\"\n",
       "52. \"did\"\n",
       "53. \"doing\"\n",
       "54. \"would\"\n",
       "55. \"should\"\n",
       "56. \"could\"\n",
       "57. \"ought\"\n",
       "58. \"i'm\"\n",
       "59. \"you're\"\n",
       "60. \"he's\"\n",
       "61. \"she's\"\n",
       "62. \"it's\"\n",
       "63. \"we're\"\n",
       "64. \"they're\"\n",
       "65. \"i've\"\n",
       "66. \"you've\"\n",
       "67. \"we've\"\n",
       "68. \"they've\"\n",
       "69. \"i'd\"\n",
       "70. \"you'd\"\n",
       "71. \"he'd\"\n",
       "72. \"she'd\"\n",
       "73. \"we'd\"\n",
       "74. \"they'd\"\n",
       "75. \"i'll\"\n",
       "76. \"you'll\"\n",
       "77. \"he'll\"\n",
       "78. \"she'll\"\n",
       "79. \"we'll\"\n",
       "80. \"they'll\"\n",
       "81. \"isn't\"\n",
       "82. \"aren't\"\n",
       "83. \"wasn't\"\n",
       "84. \"weren't\"\n",
       "85. \"hasn't\"\n",
       "86. \"haven't\"\n",
       "87. \"hadn't\"\n",
       "88. \"doesn't\"\n",
       "89. \"don't\"\n",
       "90. \"didn't\"\n",
       "91. \"won't\"\n",
       "92. \"wouldn't\"\n",
       "93. \"shan't\"\n",
       "94. \"shouldn't\"\n",
       "95. \"can't\"\n",
       "96. \"cannot\"\n",
       "97. \"couldn't\"\n",
       "98. \"mustn't\"\n",
       "99. \"let's\"\n",
       "100. \"that's\"\n",
       "101. \"who's\"\n",
       "102. \"what's\"\n",
       "103. \"here's\"\n",
       "104. \"there's\"\n",
       "105. \"when's\"\n",
       "106. \"where's\"\n",
       "107. \"why's\"\n",
       "108. \"how's\"\n",
       "109. \"a\"\n",
       "110. \"an\"\n",
       "111. \"the\"\n",
       "112. \"and\"\n",
       "113. \"but\"\n",
       "114. \"if\"\n",
       "115. \"or\"\n",
       "116. \"because\"\n",
       "117. \"as\"\n",
       "118. \"until\"\n",
       "119. \"while\"\n",
       "120. \"of\"\n",
       "121. \"at\"\n",
       "122. \"by\"\n",
       "123. \"for\"\n",
       "124. \"with\"\n",
       "125. \"about\"\n",
       "126. \"against\"\n",
       "127. \"between\"\n",
       "128. \"into\"\n",
       "129. \"through\"\n",
       "130. \"during\"\n",
       "131. \"before\"\n",
       "132. \"after\"\n",
       "133. \"above\"\n",
       "134. \"below\"\n",
       "135. \"to\"\n",
       "136. \"from\"\n",
       "137. \"up\"\n",
       "138. \"down\"\n",
       "139. \"in\"\n",
       "140. \"out\"\n",
       "141. \"on\"\n",
       "142. \"off\"\n",
       "143. \"over\"\n",
       "144. \"under\"\n",
       "145. \"again\"\n",
       "146. \"further\"\n",
       "147. \"then\"\n",
       "148. \"once\"\n",
       "149. \"here\"\n",
       "150. \"there\"\n",
       "151. \"when\"\n",
       "152. \"where\"\n",
       "153. \"why\"\n",
       "154. \"how\"\n",
       "155. \"all\"\n",
       "156. \"any\"\n",
       "157. \"both\"\n",
       "158. \"each\"\n",
       "159. \"few\"\n",
       "160. \"more\"\n",
       "161. \"most\"\n",
       "162. \"other\"\n",
       "163. \"some\"\n",
       "164. \"such\"\n",
       "165. \"no\"\n",
       "166. \"nor\"\n",
       "167. \"not\"\n",
       "168. \"only\"\n",
       "169. \"own\"\n",
       "170. \"same\"\n",
       "171. \"so\"\n",
       "172. \"than\"\n",
       "173. \"too\"\n",
       "174. \"very\"\n",
       "\n",
       "\n"
      ],
      "text/plain": [
       "  [1] \"i\"          \"me\"         \"my\"         \"myself\"     \"we\"        \n",
       "  [6] \"our\"        \"ours\"       \"ourselves\"  \"you\"        \"your\"      \n",
       " [11] \"yours\"      \"yourself\"   \"yourselves\" \"he\"         \"him\"       \n",
       " [16] \"his\"        \"himself\"    \"she\"        \"her\"        \"hers\"      \n",
       " [21] \"herself\"    \"it\"         \"its\"        \"itself\"     \"they\"      \n",
       " [26] \"them\"       \"their\"      \"theirs\"     \"themselves\" \"what\"      \n",
       " [31] \"which\"      \"who\"        \"whom\"       \"this\"       \"that\"      \n",
       " [36] \"these\"      \"those\"      \"am\"         \"is\"         \"are\"       \n",
       " [41] \"was\"        \"were\"       \"be\"         \"been\"       \"being\"     \n",
       " [46] \"have\"       \"has\"        \"had\"        \"having\"     \"do\"        \n",
       " [51] \"does\"       \"did\"        \"doing\"      \"would\"      \"should\"    \n",
       " [56] \"could\"      \"ought\"      \"i'm\"        \"you're\"     \"he's\"      \n",
       " [61] \"she's\"      \"it's\"       \"we're\"      \"they're\"    \"i've\"      \n",
       " [66] \"you've\"     \"we've\"      \"they've\"    \"i'd\"        \"you'd\"     \n",
       " [71] \"he'd\"       \"she'd\"      \"we'd\"       \"they'd\"     \"i'll\"      \n",
       " [76] \"you'll\"     \"he'll\"      \"she'll\"     \"we'll\"      \"they'll\"   \n",
       " [81] \"isn't\"      \"aren't\"     \"wasn't\"     \"weren't\"    \"hasn't\"    \n",
       " [86] \"haven't\"    \"hadn't\"     \"doesn't\"    \"don't\"      \"didn't\"    \n",
       " [91] \"won't\"      \"wouldn't\"   \"shan't\"     \"shouldn't\"  \"can't\"     \n",
       " [96] \"cannot\"     \"couldn't\"   \"mustn't\"    \"let's\"      \"that's\"    \n",
       "[101] \"who's\"      \"what's\"     \"here's\"     \"there's\"    \"when's\"    \n",
       "[106] \"where's\"    \"why's\"      \"how's\"      \"a\"          \"an\"        \n",
       "[111] \"the\"        \"and\"        \"but\"        \"if\"         \"or\"        \n",
       "[116] \"because\"    \"as\"         \"until\"      \"while\"      \"of\"        \n",
       "[121] \"at\"         \"by\"         \"for\"        \"with\"       \"about\"     \n",
       "[126] \"against\"    \"between\"    \"into\"       \"through\"    \"during\"    \n",
       "[131] \"before\"     \"after\"      \"above\"      \"below\"      \"to\"        \n",
       "[136] \"from\"       \"up\"         \"down\"       \"in\"         \"out\"       \n",
       "[141] \"on\"         \"off\"        \"over\"       \"under\"      \"again\"     \n",
       "[146] \"further\"    \"then\"       \"once\"       \"here\"       \"there\"     \n",
       "[151] \"when\"       \"where\"      \"why\"        \"how\"        \"all\"       \n",
       "[156] \"any\"        \"both\"       \"each\"       \"few\"        \"more\"      \n",
       "[161] \"most\"       \"other\"      \"some\"       \"such\"       \"no\"        \n",
       "[166] \"nor\"        \"not\"        \"only\"       \"own\"        \"same\"      \n",
       "[171] \"so\"         \"than\"       \"too\"        \"very\"      "
      ]
     },
     "execution_count": 42,
     "metadata": {},
     "output_type": "execute_result"
    }
   ],
   "source": [
    "stopwords('en')"
   ]
  },
  {
   "cell_type": "code",
   "execution_count": 43,
   "metadata": {
    "collapsed": false
   },
   "outputs": [
    {
     "data": {
      "text/html": [
       "\"rt   comes first  role  bigdata  iot  sdn  \""
      ],
      "text/latex": [
       "\"rt   comes first  role  bigdata  iot  sdn  \""
      ],
      "text/markdown": [
       "\"rt   comes first  role  bigdata  iot  sdn  \""
      ],
      "text/plain": [
       "[1] \"rt   comes first  role  bigdata  iot  sdn  \""
      ]
     },
     "execution_count": 43,
     "metadata": {},
     "output_type": "execute_result"
    }
   ],
   "source": [
    "my.corpus.new <- tm_map( my.corpus.new, removeWords, stopwords('en') )\n",
    "my.corpus.new[[1]]$content"
   ]
  },
  {
   "cell_type": "markdown",
   "metadata": {},
   "source": [
    "- 기본적인 stop word 이외에 분석에 있어 의미가 없는 단어를 추가해서 제거할 수 있음"
   ]
  },
  {
   "cell_type": "code",
   "execution_count": 44,
   "metadata": {
    "collapsed": false
   },
   "outputs": [
    {
     "data": {
      "text/html": [
       "\"   comes first  role  bigdata  iot  sdn  \""
      ],
      "text/latex": [
       "\"   comes first  role  bigdata  iot  sdn  \""
      ],
      "text/markdown": [
       "\"   comes first  role  bigdata  iot  sdn  \""
      ],
      "text/plain": [
       "[1] \"   comes first  role  bigdata  iot  sdn  \""
      ]
     },
     "execution_count": 44,
     "metadata": {},
     "output_type": "execute_result"
    }
   ],
   "source": [
    "mystopword <- c( stopwords('en'), 'rt', 'via', 'even' )\n",
    "my.corpus.new <- tm_map( my.corpus.new, removeWords, mystopword )\n",
    "my.corpus.new[[1]]$content"
   ]
  },
  {
   "cell_type": "markdown",
   "metadata": {},
   "source": [
    "- 트위터에서는  RT 라는 단어는  Re-Twitter의 줄임말로  등장 빈도가 높지만 분석에는 의미가 없음."
   ]
  },
  {
   "cell_type": "markdown",
   "metadata": {},
   "source": [
    "#### 나. 자연어 처리\n",
    "\n",
    "##### 1) stemming\n",
    "\n",
    "- 과거형, 현재형, 미래형 동사 등을 현재형으로 변경,\n",
    "- 공통 어간을 가지는 단어를 묶음 처리"
   ]
  },
  {
   "cell_type": "code",
   "execution_count": 24,
   "metadata": {
    "collapsed": false
   },
   "outputs": [
    {
     "name": "stdout",
     "output_type": "stream",
     "text": [
      "package 'SnowballC' successfully unpacked and MD5 sums checked\n",
      "\n",
      "The downloaded binary packages are in\n",
      "\tC:\\Users\\Y.G JI\\AppData\\Local\\Temp\\Rtmpkjsrvb\\downloaded_packages\n"
     ]
    }
   ],
   "source": [
    "install.packages(\"SnowballC\" ,  repo=\"http://cran.nexr.com\")"
   ]
  },
  {
   "cell_type": "code",
   "execution_count": 25,
   "metadata": {
    "collapsed": false
   },
   "outputs": [
    {
     "name": "stderr",
     "output_type": "stream",
     "text": [
      "Warning message:\n",
      ": package 'SnowballC' was built under R version 3.3.2"
     ]
    }
   ],
   "source": [
    "library(SnowballC)"
   ]
  },
  {
   "cell_type": "code",
   "execution_count": 45,
   "metadata": {
    "collapsed": false
   },
   "outputs": [
    {
     "data": {
      "text/html": [
       "\"   come first  role  bigdata  iot  sdn \""
      ],
      "text/latex": [
       "\"   come first  role  bigdata  iot  sdn \""
      ],
      "text/markdown": [
       "\"   come first  role  bigdata  iot  sdn \""
      ],
      "text/plain": [
       "[1] \"   come first  role  bigdata  iot  sdn \""
      ]
     },
     "execution_count": 45,
     "metadata": {},
     "output_type": "execute_result"
    }
   ],
   "source": [
    "dic.corpus <- my.corpus.new \n",
    "my.corpus.new  <- tm_map( my.corpus.new, stemDocument )\n",
    "my.corpus.new[[1]]$content"
   ]
  },
  {
   "cell_type": "markdown",
   "metadata": {},
   "source": [
    "- stemDocument()함수는 공통어간으로 변환해주어 단어가 완전하지 못함.\n",
    "- stemCompletion()함수를 사용하고, stemCompletion를 잘못하면 모든 값이 NA가 되기 때문에 이를 방지하기 위해서 아래와 같은 함수를 만들고 처리함."
   ]
  },
  {
   "cell_type": "code",
   "execution_count": 31,
   "metadata": {
    "collapsed": false
   },
   "outputs": [
    {
     "data": {
      "text/html": [
       "\"comes comes comes comes first comes role comes bigdata comes iot comes sdn comes\""
      ],
      "text/latex": [
       "\"comes comes comes comes first comes role comes bigdata comes iot comes sdn comes\""
      ],
      "text/markdown": [
       "\"comes comes comes comes first comes role comes bigdata comes iot comes sdn comes\""
      ],
      "text/plain": [
       "[1] \"comes comes comes comes first comes role comes bigdata comes iot comes sdn comes\""
      ]
     },
     "execution_count": 31,
     "metadata": {},
     "output_type": "execute_result"
    }
   ],
   "source": [
    "stemCompletion_mod <- function(x, dict) {\n",
    "     PlainTextDocument(stripWhitespace(paste(stemCompletion(unlist(strsplit(as.character(x),\" \")),dictionary=dict, type=\"first\"),sep=\"\", collapse=\" \")))\n",
    "}\n",
    "\n",
    "my.corpus.new <- dic.corpus\n",
    "my.corpus.new  <- lapply(my.corpus.new, stemCompletion_mod, dict=dic.corpus )\n",
    "my.corpus.new[[1]]$content"
   ]
  },
  {
   "cell_type": "markdown",
   "metadata": {
    "collapsed": true
   },
   "source": [
    "##### 2) 한글처리\n",
    "\n",
    "- KoNLP 라는 패키지를 사용해서 처리함."
   ]
  },
  {
   "cell_type": "code",
   "execution_count": 33,
   "metadata": {
    "collapsed": false
   },
   "outputs": [
    {
     "name": "stderr",
     "output_type": "stream",
     "text": [
      "also installing the dependencies 'DBI', 'memoise', 'Rcpp', 'plogr', 'whisker', 'rstudioapi', 'git2r', 'withr', 'stringr', 'hash', 'tau', 'Sejong', 'RSQLite', 'devtools'\n",
      "\n"
     ]
    },
    {
     "name": "stdout",
     "output_type": "stream",
     "text": [
      "package 'DBI' successfully unpacked and MD5 sums checked\n",
      "package 'memoise' successfully unpacked and MD5 sums checked\n",
      "package 'Rcpp' successfully unpacked and MD5 sums checked\n",
      "package 'plogr' successfully unpacked and MD5 sums checked\n",
      "package 'whisker' successfully unpacked and MD5 sums checked\n",
      "package 'rstudioapi' successfully unpacked and MD5 sums checked\n",
      "package 'git2r' successfully unpacked and MD5 sums checked\n",
      "package 'withr' successfully unpacked and MD5 sums checked\n",
      "package 'stringr' successfully unpacked and MD5 sums checked\n",
      "package 'hash' successfully unpacked and MD5 sums checked\n",
      "package 'tau' successfully unpacked and MD5 sums checked\n",
      "package 'Sejong' successfully unpacked and MD5 sums checked\n",
      "package 'RSQLite' successfully unpacked and MD5 sums checked\n",
      "package 'devtools' successfully unpacked and MD5 sums checked\n",
      "package 'KoNLP' successfully unpacked and MD5 sums checked\n",
      "\n",
      "The downloaded binary packages are in\n",
      "\tC:\\Users\\Y.G JI\\AppData\\Local\\Temp\\Rtmpkjsrvb\\downloaded_packages\n"
     ]
    }
   ],
   "source": [
    "install.packages(\"KoNLP\" ,  repo=\"http://cran.nexr.com\")"
   ]
  },
  {
   "cell_type": "code",
   "execution_count": 1,
   "metadata": {
    "collapsed": false
   },
   "outputs": [
    {
     "name": "stderr",
     "output_type": "stream",
     "text": [
      "Warning message:\n",
      ": package 'KoNLP' was built under R version 3.3.2Checking user defined dictionary!\n",
      "\n"
     ]
    }
   ],
   "source": [
    "library(KoNLP)"
   ]
  },
  {
   "cell_type": "code",
   "execution_count": 2,
   "metadata": {
    "collapsed": false
   },
   "outputs": [
    {
     "name": "stdout",
     "output_type": "stream",
     "text": [
      "Backup was just finished!\n"
     ]
    },
    {
     "name": "stderr",
     "output_type": "stream",
     "text": [
      "Downloading package from url: https://github.com/haven-jeon/NIADic/releases/download/0.0.1/NIADic_0.0.1.tar.gz\n"
     ]
    },
    {
     "ename": "ERROR",
     "evalue": "Error in curl::curl_fetch_memory(url, handle = handle): Failure when receiving data from the peer\n",
     "output_type": "error",
     "traceback": [
      "Error in curl::curl_fetch_memory(url, handle = handle): Failure when receiving data from the peer\n"
     ]
    },
    {
     "ename": "ERROR",
     "evalue": "Error in tryCatch({: can't install NIADic package!\n Please refer 'https://github.com/haven-jeon/NIADic' to install.\n",
     "output_type": "error",
     "traceback": [
      "Error in tryCatch({: can't install NIADic package!\n Please refer 'https://github.com/haven-jeon/NIADic' to install.\n"
     ]
    }
   ],
   "source": [
    "useSejongDic()"
   ]
  },
  {
   "cell_type": "code",
   "execution_count": 2,
   "metadata": {
    "collapsed": false
   },
   "outputs": [
    {
     "name": "stdout",
     "output_type": "stream",
     "text": [
      "package 'rJava' successfully unpacked and MD5 sums checked\n",
      "\n",
      "The downloaded binary packages are in\n",
      "\tC:\\Users\\Y.G JI\\AppData\\Local\\Temp\\Rtmp2d5HTj\\downloaded_packages\n"
     ]
    }
   ],
   "source": [
    "install.packages(\"rJava\" ,  repo=\"http://cran.nexr.com\")"
   ]
  },
  {
   "cell_type": "code",
   "execution_count": 4,
   "metadata": {
    "collapsed": false
   },
   "outputs": [],
   "source": [
    "library(rJava)"
   ]
  },
  {
   "cell_type": "code",
   "execution_count": 5,
   "metadata": {
    "collapsed": false
   },
   "outputs": [],
   "source": [
    "Sys.setenv( JAVA_HOME='D:/DOWNLOAD/JAVA/jdk7' )"
   ]
  },
  {
   "cell_type": "code",
   "execution_count": null,
   "metadata": {
    "collapsed": true
   },
   "outputs": [],
   "source": [
    "extractNoun( '연습을 해보고자 한다. 명사가 잘 추출되는지 보자. 빨간색으로 글씨를 쓰고 있다.')"
   ]
  },
  {
   "cell_type": "markdown",
   "metadata": {
    "collapsed": true
   },
   "source": [
    "#### 라. TDM 구축\n",
    "\n",
    "- 전처리된 텍스트 데이터에서 각 문서와 단어간의 사용 여부를 이용해 만들어진 matrix가 TDM( Term-Document Matrix )임.\n",
    "- TDM에서 단어의 빈도수를 보면 문서의 특성을 알 수 있음."
   ]
  },
  {
   "cell_type": "markdown",
   "metadata": {},
   "source": [
    "##### 1) 모든 단어\n",
    "\n",
    "- TermDocumentMatrix()함수를 실행하면, 행은 각 단어를 나타내고, 열은 트워터 메시지(문서)를 나타냄"
   ]
  },
  {
   "cell_type": "code",
   "execution_count": 46,
   "metadata": {
    "collapsed": false
   },
   "outputs": [],
   "source": [
    "my.TDM <- TermDocumentMatrix( my.corpus.new )"
   ]
  },
  {
   "cell_type": "code",
   "execution_count": 47,
   "metadata": {
    "collapsed": false
   },
   "outputs": [
    {
     "data": {
      "text/html": [
       "<ol class=list-inline>\n",
       "\t<li>352</li>\n",
       "\t<li>100</li>\n",
       "</ol>\n"
      ],
      "text/latex": [
       "\\begin{enumerate*}\n",
       "\\item 352\n",
       "\\item 100\n",
       "\\end{enumerate*}\n"
      ],
      "text/markdown": [
       "1. 352\n",
       "2. 100\n",
       "\n",
       "\n"
      ],
      "text/plain": [
       "[1] 352 100"
      ]
     },
     "execution_count": 47,
     "metadata": {},
     "output_type": "execute_result"
    }
   ],
   "source": [
    "dim(my.TDM)"
   ]
  },
  {
   "cell_type": "code",
   "execution_count": 49,
   "metadata": {
    "collapsed": false
   },
   "outputs": [
    {
     "name": "stdout",
     "output_type": "stream",
     "text": [
      "<<TermDocumentMatrix (terms: 6, documents: 10)>>\n",
      "Non-/sparse entries: 5/55\n",
      "Sparsity           : 92%\n",
      "Maximal term length: 10\n",
      "Weighting          : term frequency (tf)\n",
      "\n",
      "            Docs\n",
      "Terms        1 2 3 4 5 6 7 8 9 10\n",
      "  cloud      0 0 1 0 0 0 0 0 0  0\n",
      "  clouddevop 0 0 0 0 0 0 0 0 0  0\n",
      "  cloudexpo  0 0 0 1 0 0 0 0 0  0\n",
      "  code       0 0 0 0 0 0 0 0 0  0\n",
      "  come       1 0 0 1 0 0 0 0 0  0\n",
      "  compani    0 0 0 0 0 0 0 1 0  0\n"
     ]
    }
   ],
   "source": [
    "inspect(  my.TDM[ 55:60, 1:10 ] )"
   ]
  },
  {
   "cell_type": "code",
   "execution_count": null,
   "metadata": {
    "collapsed": true
   },
   "outputs": [],
   "source": []
  }
 ],
 "metadata": {
  "kernelspec": {
   "display_name": "R",
   "language": "R",
   "name": "ir"
  },
  "language_info": {
   "codemirror_mode": "r",
   "file_extension": ".r",
   "mimetype": "text/x-r-source",
   "name": "R",
   "pygments_lexer": "r",
   "version": "3.3.1"
  }
 },
 "nbformat": 4,
 "nbformat_minor": 0
}

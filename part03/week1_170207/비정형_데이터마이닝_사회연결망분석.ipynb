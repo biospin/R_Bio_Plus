{
 "cells": [
  {
   "cell_type": "markdown",
   "metadata": {},
   "source": [
    "# 제4장 비정형 데이터 마이닝"
   ]
  },
  {
   "cell_type": "markdown",
   "metadata": {},
   "source": [
    "## 제 2절 사회연결망 분석"
   ]
  },
  {
   "cell_type": "markdown",
   "metadata": {},
   "source": [
    "### 1. 사회연결망 분석 정의\n",
    "#### 가. SNA 정의\n",
    "\n",
    "- 사회연결망 분석( Social network analysis )은 개인과 집단들 간의 관계를 노드와 링크로서 모델링해 그것의 위상구조와 확산 및 진화과정을 계량적으로 분석하는 방법론 \n",
    "- 사화연결망 분석방법에는 \n",
    "    - 집합론적인 방법\n",
    "    - 그래프 이론에 의한 방법\n",
    "    - 행렬을 이용한 방법"
   ]
  },
  {
   "cell_type": "markdown",
   "metadata": {},
   "source": [
    "##### 1) 집합론적 방법\n",
    "\n",
    "- 객체들의 집합에서 각 객체들 간의 관계를 다음과 같이 관계 쌍을 표현"
   ]
  },
  {
   "cell_type": "markdown",
   "metadata": {},
   "source": [
    "##### 2) 그래프 이론을 이용한 방법 \n",
    "\n",
    "![](data_03.jpg)"
   ]
  },
  {
   "cell_type": "markdown",
   "metadata": {},
   "source": [
    "##### 3) 행렬을 이용한 방법\n",
    "\n",
    "![](data_04.jpg)"
   ]
  },
  {
   "cell_type": "code",
   "execution_count": null,
   "metadata": {
    "collapsed": true
   },
   "outputs": [],
   "source": []
  }
 ],
 "metadata": {
  "kernelspec": {
   "display_name": "R",
   "language": "R",
   "name": "ir"
  },
  "language_info": {
   "codemirror_mode": "r",
   "file_extension": ".r",
   "mimetype": "text/x-r-source",
   "name": "R",
   "pygments_lexer": "r",
   "version": "3.3.1"
  }
 },
 "nbformat": 4,
 "nbformat_minor": 0
}

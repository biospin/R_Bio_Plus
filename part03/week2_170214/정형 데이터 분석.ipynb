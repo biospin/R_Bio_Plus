{
 "cells": [
  {
   "cell_type": "markdown",
   "metadata": {
    "deletable": true,
    "editable": true
   },
   "source": [
    "## 제 1절 - 데이터 마이닝 개요\n",
    "\n",
    "### 1. 데이터 마이닝의 종류\n",
    "\n",
    "분류: 기존에 분류되어 있는 모델들 에서 새롭게 일어난 현상을 분류하고, 기존에 정의된 집합에 배정합니다. Decision Tree, Memory Based Learning 등이 사용됩니다.\n",
    "\n",
    "추정: 분류가 '예' 혹은 '아니요'와 같이 결과물을 분류하는데 사용된다면, 추정은 수입, 수준, 신용카드 잔고 등 연속된 변수의 값을 추정합니다. 요즘 4차 산업혁명이다 해서 많이 화두되고 있는 인공신경망 모형을 사용합니다.\n",
    "\n",
    "예측: 예측합니다, 분류와 추정 기능이 잘 되어있느 확인할때 사용하기도 하고, 장바구니 분석에도 사용합니다. 여기서는 장바구니 분석, 의사결정나무, 신경망 등이 예측에 사용할수 있는 기술들입니다. \n",
    "\n",
    "연관분석: '같이 팔리는 물건'과 같이 아이템의 연관성을 파악하는 데에 사용합니다. 귀저귀와 맥주를 같이 놓으면 잘 팔린다는 것을 이 분석을 통해서 알아낸 것처럼 말이죠. \n",
    "\n",
    "군집: 군집은 하나의 모집단에서 동질성을 지닌 그룹 별로 묶어내는 것을 말합니다. 데이터 선별 과정에 주로 사용되며 사람들의 생활패턴에 따른 판촉방법을 계획하여 효과적으로 판촉하는 것도 이 방법에 해당되는 것 입니다.\n",
    "\n",
    "기술: 데이터 마이닝의 목적은 사람, 상품 등에 대한 이해도를 증가시키기 위한 것으로 데이터가 가지고 있은 의미를 단순하고 이해가 쉽도록 설명하는 것이 중요합니다. 데이터가 아무리 좋아도 사람이 이해를 못한다면 안 되니까 말이죠.\n",
    "\n",
    "### 2. 데이터 마이닝의 과정\n",
    "\n",
    "목적을 정의합니다: 내가 뭘 하고싶은가? 를 구체적으로 하고 데이터에 대한 이해가 있어야 효과적으로 분석을 할 수 있기 때문에, 전문가의 자문을 구하거나, 관련 배경지식을 쌓습니다.\n",
    "\n",
    "데이터를 준비합니다: 마이닝 수행에 필요한 데이터를 준비합니다, 수집 과정에서 컴퓨터의 자원이 많이 소모될수 있도록 컴퓨터의 성능에 대한 확인이 필요합니다.\n",
    "\n",
    "데이터를 가공합니다: 데이터를 컴퓨터가 인식할 수 있도록 가공합니다.\n",
    "\n",
    "알고리즘을 사용하여 데이터를 분석합니다: 데이터가 뭐고, 원하는 아웃풋이 뭔지에 따라서 적절한 기법을 선택하여 사용합니다.\n",
    "\n",
    "그리고: 데이터가 자기가 원하는 데로 잘 분석되었는지 확인합니다, 자신의 데이터가 과적합이 되지 않았는지 머신러닝/딥러닝에서 확인하는 것처럼 말이죠.\n",
    "\n",
    "## 제2절 - 분류분석\n",
    "\n",
    "선형 회귀분석과 달리, 결과 변수가 범주형 데이터인 경우에 사용하는 기법입니다. 선형 회귀분석은 수치형 데이터 (키, 수입, 시험 성적 등)을 분석할때 사용하지만, 로지스틱 회귀분석은 수치화 하기 힘든 변수를 예측할때 사용합니다. 예를 들어서 어떤 고객이 부도를 낼 것인가와 학생의 최종 학력 같은걸 말이죠. \n",
    "\n",
    "회귀분석이기 때문에 Supervised Learning 에 들어갑니다, 위키피디아에 따르면 \"지도 학습은 훈련 데이터로부터 하나의 함수를 유츄해내기 위한 기계학습의 한 방법이다\" 라고 설명하고 있고, \"유추된 함수중 연속적인 값을 출력하는 것을 회귀분석이라 하고 주어진 입력 벡터가 어떤 종류의 값인지 표식하는 것을 분류라 한다\" 라고 하고 있습니다. \n",
    "\n",
    "아래 첫 코드는 우리가 그윽히 들었던 붗꽃 데이터인 아이리스 데이터를 로드하여 스트럭쳐를 보여주는 코드입니다, 이 데이터는 R안에 들어가 있으므로 다른 것을 추가로 설치할 필요가 없습니다."
   ]
  },
  {
   "cell_type": "code",
   "execution_count": 1,
   "metadata": {
    "collapsed": true,
    "deletable": true,
    "editable": true
   },
   "outputs": [],
   "source": [
    "data(iris)"
   ]
  },
  {
   "cell_type": "code",
   "execution_count": 1,
   "metadata": {
    "collapsed": false,
    "deletable": true,
    "editable": true
   },
   "outputs": [
    {
     "name": "stdout",
     "output_type": "stream",
     "text": [
      "'data.frame':\t100 obs. of  5 variables:\n",
      " $ Sepal.Length: num  5.1 4.9 4.7 4.6 5 5.4 4.6 5 4.4 4.9 ...\n",
      " $ Sepal.Width : num  3.5 3 3.2 3.1 3.6 3.9 3.4 3.4 2.9 3.1 ...\n",
      " $ Petal.Length: num  1.4 1.4 1.3 1.5 1.4 1.7 1.4 1.5 1.4 1.5 ...\n",
      " $ Petal.Width : num  0.2 0.2 0.2 0.2 0.2 0.4 0.3 0.2 0.2 0.1 ...\n",
      " $ Species     : Factor w/ 2 levels \"setosa\",\"versicolor\": 1 1 1 1 1 1 1 1 1 1 ...\n"
     ]
    }
   ],
   "source": [
    "a <- subset(iris, Species == \"setosa\" | Species == \"versicolor\") \n",
    "# setosa 종과 versicolor 종을 불러와서 하나의 그룹으로 만들어 a에 넣기\n",
    "a$Species <- factor(a$Species) #벡터를 팩터로 바꾸기\n",
    "str(a) #스트럭쳐 보여주기"
   ]
  },
  {
   "cell_type": "markdown",
   "metadata": {
    "deletable": true,
    "editable": true
   },
   "source": [
    "데이터가 정상적으로 출력되었습니다, 여기서 주의할 점이 있는데 Species항목의 값을 보면 2레벨인걸 알 수가 있는데, 로지스틱회귀를 적용할 때에 모형화 하는 과정에서 해석의 유의를 해야 할 필요가 있다고 합니다.\n",
    "\n",
    "그럼 이제 glm함수를 사용하여 회귀분석을 실행하여 보도록 하겠습니다, 뭐 그렇게 유의할 것은 없으나, family에서의 타입을 알아두면 요긴하게 사용할 수 있습니다. \n",
    "\n",
    "Family|Default Link Function|뜻\n",
    "---|---|---\n",
    "binomial|(link=\"logit\")|로지스틱\n",
    "gaussian|(link=\"identity\")|가우시안\n",
    "gamma|(link=\"inverse\")|감마\n",
    "\n",
    "아래는 그 회귀를 하는 코드입니다"
   ]
  },
  {
   "cell_type": "code",
   "execution_count": 2,
   "metadata": {
    "collapsed": false,
    "deletable": true,
    "editable": true
   },
   "outputs": [
    {
     "data": {
      "text/plain": [
       "\n",
       "Call:\n",
       "glm(formula = Species ~ Sepal.Length, family = binomial, data = a)\n",
       "\n",
       "Deviance Residuals: \n",
       "     Min        1Q    Median        3Q       Max  \n",
       "-2.05501  -0.47395  -0.02829   0.39788   2.32915  \n",
       "\n",
       "Coefficients:\n",
       "             Estimate Std. Error z value Pr(>|z|)    \n",
       "(Intercept)   -27.831      5.434  -5.122 3.02e-07 ***\n",
       "Sepal.Length    5.140      1.007   5.107 3.28e-07 ***\n",
       "---\n",
       "Signif. codes:  0 '***' 0.001 '**' 0.01 '*' 0.05 '.' 0.1 ' ' 1\n",
       "\n",
       "(Dispersion parameter for binomial family taken to be 1)\n",
       "\n",
       "    Null deviance: 138.629  on 99  degrees of freedom\n",
       "Residual deviance:  64.211  on 98  degrees of freedom\n",
       "AIC: 68.211\n",
       "\n",
       "Number of Fisher Scoring iterations: 6\n"
      ]
     },
     "metadata": {},
     "output_type": "display_data"
    }
   ],
   "source": [
    "b <- glm(Species~Sepal.Length, data=a, family=binomial)\n",
    "#glm함수를 사용하여 로지스틱 리그레션 시작\n",
    "summary(b) # summary() 함수를 사용하여 출력"
   ]
  },
  {
   "cell_type": "markdown",
   "metadata": {
    "deletable": true,
    "editable": true
   },
   "source": [
    "### summary 결과\n",
    "\n",
    "```\n",
    "Call: 함수 콜 한것을 출력\n",
    "glm(formula = Species ~ Sepal.Length, family = binomial, data = a)\n",
    "\n",
    "Deviance Residuals: \n",
    "     Min        1Q    Median        3Q       Max\n",
    "     최소       1Q      중간        3Q      최대\n",
    "-2.05501  -0.47395  -0.02829   0.39788   2.32915  \n",
    "\n",
    "Coefficients:\n",
    "             Estimate Std. Error z value Pr(>|z|)\n",
    "                 추정계수   오차     Z값      P값\n",
    "(Intercept)   -27.831      5.434  -5.122 3.02e-07 ***\n",
    "Sepal.Length    5.140      1.007   5.107 3.28e-07 ***\n",
    "# P값: 귀무가설이 맞다고 가정할때 이걸 증명해주는 수, 이 수가 일정 이상 낮으면 귀무가설을 기각하고 귀무가설의 반대의 가설을 맞다고 친다. \n",
    "---\n",
    "Signif. codes:  0 '***' 0.001 '**' 0.01 '*' 0.05 '.' 0.1 ' ' 1\n",
    "\n",
    "(Dispersion parameter for binomial family taken to be 1)\n",
    "\n",
    "    Null deviance: 138.629  on 99  degrees of freedom\n",
    "      Null 이탈도: 138.629  에서 99의 자유도가 있다\n",
    "Residual deviance:  64.211  on 98  degrees of freedom\n",
    "      잔차 이탈도:  64.211에서 98의 자유도가 있다\n",
    "AIC: 68.211 #AIC: 만들어진 모델에 대한 퀄리티를 알 수 있디. \n",
    "\n",
    "Number of Fisher Scoring iterations: 6\n",
    "```\n",
    "\n",
    "457 페이지의 해석을 검증해보도록 하겠습니다.\n",
    "\n",
    "![](Example8.PNG)\n",
    "\n",
    "(노란 줄을 참고하시면 됩니다)\n",
    "\n",
    "### Exp 함수는? \n",
    "\n",
    "$$e^x = 2.71828182846^x$$ \n",
    "\n",
    "특히 뉴럴 네트워크 활성함수에서 자주 사용합니다"
   ]
  },
  {
   "cell_type": "code",
   "execution_count": 5,
   "metadata": {
    "collapsed": false,
    "deletable": true,
    "editable": true
   },
   "outputs": [
    {
     "name": "stdout",
     "output_type": "stream",
     "text": [
      "추정계수 출력: "
     ]
    },
    {
     "data": {
      "text/html": [
       "<dl class=dl-horizontal>\n",
       "\t<dt>(Intercept)</dt>\n",
       "\t\t<dd>-27.8314509865048</dd>\n",
       "\t<dt>Sepal.Length</dt>\n",
       "\t\t<dd>5.1403361377918</dd>\n",
       "</dl>\n"
      ],
      "text/latex": [
       "\\begin{description*}\n",
       "\\item[(Intercept)] -27.8314509865048\n",
       "\\item[Sepal.Length] 5.1403361377918\n",
       "\\end{description*}\n"
      ],
      "text/markdown": [
       "(Intercept)\n",
       ":   -27.8314509865048Sepal.Length\n",
       ":   5.1403361377918\n",
       "\n"
      ],
      "text/plain": [
       " (Intercept) Sepal.Length \n",
       "  -27.831451     5.140336 "
      ]
     },
     "metadata": {},
     "output_type": "display_data"
    },
    {
     "name": "stdout",
     "output_type": "stream",
     "text": [
      "추정계수에서 Sepal.Length 만 뽑아서 Exp해서 출력: "
     ]
    },
    {
     "data": {
      "text/html": [
       "<strong>Sepal.Length:</strong> 170.773161988262"
      ],
      "text/latex": [
       "\\textbf{Sepal.Length:} 170.773161988262"
      ],
      "text/markdown": [
       "**Sepal.Length:** 170.773161988262"
      ],
      "text/plain": [
       "Sepal.Length \n",
       "    170.7732 "
      ]
     },
     "metadata": {},
     "output_type": "display_data"
    }
   ],
   "source": [
    "cat(\"추정계수 출력: \")\n",
    "coef(b)\n",
    "cat(\"추정계수에서 Sepal.Length 만 뽑아서 Exp해서 출력: \")\n",
    "exp(coef(b)[\"Sepal.Length\"])"
   ]
  },
  {
   "cell_type": "markdown",
   "metadata": {
    "deletable": true,
    "editable": true
   },
   "source": [
    "### 증명해보면?"
   ]
  },
  {
   "cell_type": "code",
   "execution_count": 7,
   "metadata": {
    "collapsed": false,
    "deletable": true,
    "editable": true
   },
   "outputs": [
    {
     "name": "stdout",
     "output_type": "stream",
     "text": [
      "Sepal.Length:  170.7729"
     ]
    }
   ],
   "source": [
    "cat(\"Sepal.Length: \", 2.718281**5.140336)"
   ]
  },
  {
   "cell_type": "markdown",
   "metadata": {
    "deletable": true,
    "editable": true
   },
   "source": [
    "회귀계수 $\\beta$ 와 오즈의 증가량 $exp(\\beta)$에 대한 신뢰구간은 다음과 같습니다"
   ]
  },
  {
   "cell_type": "code",
   "execution_count": 8,
   "metadata": {
    "collapsed": false,
    "deletable": true,
    "editable": true
   },
   "outputs": [
    {
     "name": "stderr",
     "output_type": "stream",
     "text": [
      "Waiting for profiling to be done...\n"
     ]
    },
    {
     "data": {
      "text/html": [
       "<dl class=dl-horizontal>\n",
       "\t<dt>2.5 %</dt>\n",
       "\t\t<dd>3.42161349390365</dd>\n",
       "\t<dt>97.5 %</dt>\n",
       "\t\t<dd>7.41550849942133</dd>\n",
       "</dl>\n"
      ],
      "text/latex": [
       "\\begin{description*}\n",
       "\\item[2.5 \\textbackslash{}\\%] 3.42161349390365\n",
       "\\item[97.5 \\textbackslash{}\\%] 7.41550849942133\n",
       "\\end{description*}\n"
      ],
      "text/markdown": [
       "2.5 %\n",
       ":   3.4216134939036597.5 %\n",
       ":   7.41550849942133\n",
       "\n"
      ],
      "text/plain": [
       "   2.5 %   97.5 % \n",
       "3.421613 7.415508 "
      ]
     },
     "metadata": {},
     "output_type": "display_data"
    }
   ],
   "source": [
    "confint(b, parm=\"Sepal.Length\")"
   ]
  },
  {
   "cell_type": "code",
   "execution_count": 9,
   "metadata": {
    "collapsed": false,
    "deletable": true,
    "editable": true
   },
   "outputs": [
    {
     "name": "stderr",
     "output_type": "stream",
     "text": [
      "Waiting for profiling to be done...\n"
     ]
    },
    {
     "data": {
      "text/html": [
       "<dl class=dl-horizontal>\n",
       "\t<dt>2.5 %</dt>\n",
       "\t\t<dd>30.6187783988701</dd>\n",
       "\t<dt>97.5 %</dt>\n",
       "\t\t<dd>1661.55385279046</dd>\n",
       "</dl>\n"
      ],
      "text/latex": [
       "\\begin{description*}\n",
       "\\item[2.5 \\textbackslash{}\\%] 30.6187783988701\n",
       "\\item[97.5 \\textbackslash{}\\%] 1661.55385279046\n",
       "\\end{description*}\n"
      ],
      "text/markdown": [
       "2.5 %\n",
       ":   30.618778398870197.5 %\n",
       ":   1661.55385279046\n",
       "\n"
      ],
      "text/plain": [
       "     2.5 %     97.5 % \n",
       "  30.61878 1661.55385 "
      ]
     },
     "metadata": {},
     "output_type": "display_data"
    }
   ],
   "source": [
    "exp(confint(b, parm=\"Sepal.Length\"))"
   ]
  },
  {
   "cell_type": "markdown",
   "metadata": {
    "deletable": true,
    "editable": true
   },
   "source": [
    "`fitted()` 함수를 통하여 적합 결과를 확인해 볼 수 있습니다, 구간은 양 끝단입니다.\n",
    "\n",
    "<img src=\"Example9.png\"></img>\n",
    "\n",
    "~~종로구 아닙니다~~"
   ]
  },
  {
   "cell_type": "code",
   "execution_count": 10,
   "metadata": {
    "collapsed": false,
    "deletable": true,
    "editable": true
   },
   "outputs": [
    {
     "data": {
      "text/html": [
       "<dl class=dl-horizontal>\n",
       "\t<dt>1</dt>\n",
       "\t\t<dd>0.165793673130114</dd>\n",
       "\t<dt>2</dt>\n",
       "\t\t<dd>0.0663719305866142</dd>\n",
       "\t<dt>3</dt>\n",
       "\t\t<dd>0.0247982535699578</dd>\n",
       "\t<dt>4</dt>\n",
       "\t\t<dd>0.014980608160991</dd>\n",
       "\t<dt>5</dt>\n",
       "\t\t<dd>0.106236800075159</dd>\n",
       "\t<dt>96</dt>\n",
       "\t\t<dd>0.812823961304028</dd>\n",
       "\t<dt>97</dt>\n",
       "\t\t<dd>0.812823961304028</dd>\n",
       "\t<dt>98</dt>\n",
       "\t\t<dd>0.982683598308999</dd>\n",
       "\t<dt>99</dt>\n",
       "\t\t<dd>0.165793673130114</dd>\n",
       "\t<dt>100</dt>\n",
       "\t\t<dd>0.812823961304028</dd>\n",
       "</dl>\n"
      ],
      "text/latex": [
       "\\begin{description*}\n",
       "\\item[1] 0.165793673130114\n",
       "\\item[2] 0.0663719305866142\n",
       "\\item[3] 0.0247982535699578\n",
       "\\item[4] 0.014980608160991\n",
       "\\item[5] 0.106236800075159\n",
       "\\item[96] 0.812823961304028\n",
       "\\item[97] 0.812823961304028\n",
       "\\item[98] 0.982683598308999\n",
       "\\item[99] 0.165793673130114\n",
       "\\item[100] 0.812823961304028\n",
       "\\end{description*}\n"
      ],
      "text/markdown": [
       "1\n",
       ":   0.1657936731301142\n",
       ":   0.06637193058661423\n",
       ":   0.02479825356995784\n",
       ":   0.0149806081609915\n",
       ":   0.10623680007515996\n",
       ":   0.81282396130402897\n",
       ":   0.81282396130402898\n",
       ":   0.98268359830899999\n",
       ":   0.165793673130114100\n",
       ":   0.812823961304028\n",
       "\n"
      ],
      "text/plain": [
       "         1          2          3          4          5         96         97 \n",
       "0.16579367 0.06637193 0.02479825 0.01498061 0.10623680 0.81282396 0.81282396 \n",
       "        98         99        100 \n",
       "0.98268360 0.16579367 0.81282396 "
      ]
     },
     "metadata": {},
     "output_type": "display_data"
    }
   ],
   "source": [
    "fitted(b)[c(1:5, 96:100)]"
   ]
  },
  {
   "cell_type": "markdown",
   "metadata": {
    "deletable": true,
    "editable": true
   },
   "source": [
    "지금까지 우리가 아이리스 데이터를 사용하여 데이터를 학습(혹은 모델을 만들고) 신뢰 구간을 추출해보거나, 적합 결과를 확인해 보았습니다.\n",
    "\n",
    "그럼 새로운 데이터가 들어갔을 때에 예측을 시행할 수 있습니다, 아래는 그 코드입니다.\n",
    "\n",
    "(여기서는 편의상 모형구축에 사용된 자료를 다시 사용합니다)"
   ]
  },
  {
   "cell_type": "code",
   "execution_count": 11,
   "metadata": {
    "collapsed": false,
    "deletable": true,
    "editable": true
   },
   "outputs": [
    {
     "data": {
      "text/html": [
       "<dl class=dl-horizontal>\n",
       "\t<dt>1</dt>\n",
       "\t\t<dd>0.165793673130114</dd>\n",
       "\t<dt>50</dt>\n",
       "\t\t<dd>0.106236800075159</dd>\n",
       "\t<dt>51</dt>\n",
       "\t\t<dd>0.99971160814976</dd>\n",
       "\t<dt>100</dt>\n",
       "\t\t<dd>0.812823961304028</dd>\n",
       "</dl>\n"
      ],
      "text/latex": [
       "\\begin{description*}\n",
       "\\item[1] 0.165793673130114\n",
       "\\item[50] 0.106236800075159\n",
       "\\item[51] 0.99971160814976\n",
       "\\item[100] 0.812823961304028\n",
       "\\end{description*}\n"
      ],
      "text/markdown": [
       "1\n",
       ":   0.16579367313011450\n",
       ":   0.10623680007515951\n",
       ":   0.99971160814976100\n",
       ":   0.812823961304028\n",
       "\n"
      ],
      "text/plain": [
       "        1        50        51       100 \n",
       "0.1657937 0.1062368 0.9997116 0.8128240 "
      ]
     },
     "metadata": {},
     "output_type": "display_data"
    }
   ],
   "source": [
    "predict(b, newdata=a [c(1, 50, 51, 100), ], type=\"response\")"
   ]
  },
  {
   "cell_type": "markdown",
   "metadata": {
    "deletable": true,
    "editable": true
   },
   "source": [
    "### `cdplot()`함수를 사용하여 로지스틱회귀 그래프 그리기\n",
    "\n",
    "cdplot() 함수를 사용하면 우리가 사용했던 `Sepal.Length`의 값의 변화에 따른 범주형 변수의 조건부 분포를 볼 수 있습니다"
   ]
  },
  {
   "cell_type": "code",
   "execution_count": 12,
   "metadata": {
    "collapsed": false,
    "deletable": true,
    "editable": true
   },
   "outputs": [
    {
     "data": {
      "image/png": "[encoded data removed]",
      "text/plain": [
       "Plot with title \"\""
      ]
     },
     "metadata": {},
     "output_type": "display_data"
    }
   ],
   "source": [
    "cdplot(Species~Sepal.Length, data=a)"
   ]
  },
  {
   "cell_type": "markdown",
   "metadata": {
    "deletable": true,
    "editable": true
   },
   "source": [
    "데이터가 나왔습니다, 위의 그래프는 Sepal.Length가 커짐에 따라 versicolor의 확률이 증가함을 보여주고 있습니다 그리고 이 함수는 로지스틱 회귀의 탐색적 분석에 유용합니다"
   ]
  },
  {
   "cell_type": "markdown",
   "metadata": {
    "deletable": true,
    "editable": true
   },
   "source": [
    "그럼 적합된 로지스틱회귀 그래프를 그려보도록 하겠습니다, 여기에서는 plot 함수를 사용하여 그려보도록 하겠습니다.\n",
    "\n",
    "plot함수와, x의 포인트를 정의해주는 변수, 그리고 선을 그리는 변수 이렇게 3개를 구성하여 그리게 됩니다."
   ]
  },
  {
   "cell_type": "code",
   "execution_count": 22,
   "metadata": {
    "collapsed": false,
    "deletable": true,
    "editable": true
   },
   "outputs": [
    {
     "name": "stdout",
     "output_type": "stream",
     "text": [
      "Sepal의 길이의 최소값 :  4.3 \n",
      "Sepal의 길이의 최대값 :  7"
     ]
    },
    {
     "data": {
      "image/png": "[encoded data removed]",
      "text/plain": [
       "plot without title"
      ]
     },
     "metadata": {},
     "output_type": "display_data"
    }
   ],
   "source": [
    "plot(a$Sepal.Length, a$Species, xlab=\"Sepal.Length\")\n",
    "#플롯 함수를 사용하여 기본적인 틀을 짜주고\n",
    "x=seq(min(a$Sepal.Length), max(a$Sepal.Length), 0.1)\n",
    "# 점의 위치를 정해준 뒤에...\n",
    "cat(\"Sepal의 길이의 최소값 : \", min(a$Sepal.Length), \"\\n\")\n",
    "cat(\"Sepal의 길이의 최대값 : \", max(a$Sepal.Length))\n",
    "lines(x, 1+(1/(1+(1/exp(-27.831+5.140*x)))), type=\"l\", col=\"red\")\n",
    "#시그모이드 라인을 그리는 계산을 해 줍니다, 타입은 라인, 색깔은 빨간색"
   ]
  },
  {
   "cell_type": "markdown",
   "metadata": {
    "deletable": true,
    "editable": true
   },
   "source": [
    "### 신경망 모형 (A - Artificial, N - Neural, N - Network)\n",
    "\n",
    "아이리스 데이터를 사용하여 신경망 모델을 이용하여 분석한 예제, 자료의 갯수는 150개이며, 입력변수의 차원은 4이며, 목표값은 3개의 범주로 출력"
   ]
  },
  {
   "cell_type": "code",
   "execution_count": 1,
   "metadata": {
    "collapsed": false,
    "deletable": true,
    "editable": true
   },
   "outputs": [
    {
     "name": "stdout",
     "output_type": "stream",
     "text": [
      "# weights:  19\n",
      "initial  value 164.694769 \n",
      "iter  10 value 34.907016\n",
      "iter  20 value 11.077879\n",
      "iter  30 value 9.334797\n",
      "iter  40 value 8.576281\n",
      "iter  50 value 8.483498\n",
      "iter  60 value 8.459007\n",
      "iter  70 value 8.425010\n",
      "iter  80 value 8.407762\n",
      "iter  90 value 7.828290\n",
      "iter 100 value 7.388560\n",
      "iter 110 value 7.060724\n",
      "iter 120 value 6.627697\n",
      "iter 130 value 6.532138\n",
      "iter 140 value 6.338988\n",
      "iter 150 value 6.311171\n",
      "iter 160 value 6.308358\n",
      "iter 170 value 6.304387\n",
      "iter 180 value 6.300033\n",
      "iter 190 value 6.298967\n",
      "final  value 6.298573 \n",
      "converged\n"
     ]
    }
   ],
   "source": [
    "data(iris)\n",
    "library(nnet)\n",
    "nn.iris <- nnet(Species~., data=iris, size=2, rang=0.1, decay=5e-4, maxit=200)"
   ]
  },
  {
   "cell_type": "markdown",
   "metadata": {
    "deletable": true,
    "editable": true
   },
   "source": [
    "### Summary"
   ]
  },
  {
   "cell_type": "code",
   "execution_count": 2,
   "metadata": {
    "collapsed": false,
    "deletable": true,
    "editable": true
   },
   "outputs": [
    {
     "data": {
      "text/plain": [
       "a 4-2-3 network with 19 weights\n",
       "options were - softmax modelling  decay=5e-04\n",
       " b->h1 i1->h1 i2->h1 i3->h1 i4->h1 \n",
       " -8.72  -0.48  -1.37   1.86   3.74 \n",
       " b->h2 i1->h2 i2->h2 i3->h2 i4->h2 \n",
       "  0.42   0.64   1.88  -3.19  -1.58 \n",
       " b->o1 h1->o1 h2->o1 \n",
       " -3.07  -3.17   9.57 \n",
       " b->o2 h1->o2 h2->o2 \n",
       "  6.15  -8.62  -8.47 \n",
       " b->o3 h1->o3 h2->o3 \n",
       " -3.08  11.79  -1.10 "
      ]
     },
     "metadata": {},
     "output_type": "display_data"
    }
   ],
   "source": [
    "summary(nn.iris)"
   ]
  },
  {
   "cell_type": "code",
   "execution_count": 6,
   "metadata": {
    "collapsed": false,
    "deletable": true,
    "editable": true
   },
   "outputs": [
    {
     "name": "stderr",
     "output_type": "stream",
     "text": [
      "SHA-1 hash of file is 399c627017d7401ec49a41ed58aeac9681f0a9cf\n",
      "Loading required package: scales\n",
      "Warning message in library(package, lib.loc = lib.loc, character.only = TRUE, logical.return = TRUE, :\n",
      "\"there is no package called 'scales'\"Loading required package: scales\n",
      "Warning message in library(package, lib.loc = lib.loc, character.only = TRUE, logical.return = TRUE, :\n",
      "\"there is no package called 'scales'\"Loading required package: reshape\n",
      "Warning message in library(package, lib.loc = lib.loc, character.only = TRUE, logical.return = TRUE, :\n",
      "\"there is no package called 'reshape'\"Loading required package: scales\n",
      "Warning message in library(package, lib.loc = lib.loc, character.only = TRUE, logical.return = TRUE, :\n",
      "\"there is no package called 'scales'\"Loading required package: reshape\n",
      "Warning message in library(package, lib.loc = lib.loc, character.only = TRUE, logical.return = TRUE, :\n",
      "\"there is no package called 'reshape'\"Loading required package: scales\n",
      "Warning message in library(package, lib.loc = lib.loc, character.only = TRUE, logical.return = TRUE, :\n",
      "\"there is no package called 'scales'\"Loading required package: reshape\n",
      "Warning message in library(package, lib.loc = lib.loc, character.only = TRUE, logical.return = TRUE, :\n",
      "\"there is no package called 'reshape'\""
     ]
    },
    {
     "ename": "ERROR",
     "evalue": "Error in nnet.vals(mod.in, nid = T, rel.rsc): 함수 \"rescale\"를 찾을 수 없습니다\n",
     "output_type": "error",
     "traceback": [
      "Error in nnet.vals(mod.in, nid = T, rel.rsc): 함수 \"rescale\"를 찾을 수 없습니다\nTraceback:\n",
      "1. plot.nnet(nn.iris)",
      "2. bias.lines(bias.x, mod.in, nid = nid, rel.rsc = rel.rsc, all.out = all.out, \n .     pos.col = alpha(pos.col, alpha.val), neg.col = alpha(neg.col, \n .         alpha.val))",
      "3. nnet.vals(mod.in, nid = T, rel.rsc)"
     ]
    },
    {
     "data": {
      "image/png": "[encoded data removed]",
      "text/plain": [
       "plot without title"
      ]
     },
     "metadata": {},
     "output_type": "display_data"
    }
   ],
   "source": [
    "library(devtools)\n",
    "source_url(\"https://gist.githubusercontent.com/fawda123/7471137/raw/f30f338ecf143c089af1b6a731edcabd0b11a79d/nnet_plot_update.r\")\n",
    "plot.nnet(nn.iris)\n",
    "# 아아아 에러가 나요"
   ]
  },
  {
   "cell_type": "markdown",
   "metadata": {
    "deletable": true,
    "editable": true
   },
   "source": [
    "### 신경망 모형에 대한 정오분류표 만들기\n",
    "\n",
    "table() 함수를 사용하여 만들어 낼 수 있습니다"
   ]
  },
  {
   "cell_type": "code",
   "execution_count": 7,
   "metadata": {
    "collapsed": false,
    "deletable": true,
    "editable": true
   },
   "outputs": [
    {
     "data": {
      "text/plain": [
       "            \n",
       "             setosa versicolor virginica\n",
       "  setosa         50          0         0\n",
       "  versicolor      0         49         1\n",
       "  virginica       0          1        49"
      ]
     },
     "metadata": {},
     "output_type": "display_data"
    }
   ],
   "source": [
    "table(iris$Species, predict(nn.iris, iris, type=\"class\"))"
   ]
  },
  {
   "cell_type": "markdown",
   "metadata": {
    "deletable": true,
    "editable": true
   },
   "source": [
    "분류된 데이터를 실제 값과 비교해보면, setosa는 50개 모두 잘 분류 되었고, versicolor은 50개 중 49개가 잘 분류되었으며 virginica는 50개중 49개가 잘 분류되었습니다\n",
    "\n",
    "아래의 데이터는 infert는 자연유산과 인공유산 후의 불이에 대한 사례-대조 연구 자료로 8개의 변수와 248개의 관측치를 가지고 있다. 반응변수는 case 변수는 (1: 사례, 2: 대조)를 나타냅니다. "
   ]
  },
  {
   "cell_type": "code",
   "execution_count": 8,
   "metadata": {
    "collapsed": false,
    "deletable": true,
    "editable": true
   },
   "outputs": [
    {
     "name": "stdout",
     "output_type": "stream",
     "text": [
      "'data.frame':\t248 obs. of  8 variables:\n",
      " $ education     : Factor w/ 3 levels \"0-5yrs\",\"6-11yrs\",..: 1 1 1 1 2 2 2 2 2 2 ...\n",
      " $ age           : num  26 42 39 34 35 36 23 32 21 28 ...\n",
      " $ parity        : num  6 1 6 4 3 4 1 2 1 2 ...\n",
      " $ induced       : num  1 1 2 2 1 2 0 0 0 0 ...\n",
      " $ case          : num  1 1 1 1 1 1 1 1 1 1 ...\n",
      " $ spontaneous   : num  2 0 0 0 1 1 0 0 1 0 ...\n",
      " $ stratum       : int  1 2 3 4 5 6 7 8 9 10 ...\n",
      " $ pooled.stratum: num  3 1 4 2 32 36 6 22 5 19 ...\n"
     ]
    }
   ],
   "source": [
    "data(infert, package=\"datasets\")\n",
    "str(infert)"
   ]
  },
  {
   "cell_type": "markdown",
   "metadata": {
    "deletable": true,
    "editable": true
   },
   "source": [
    "그러면 여기에서 뉴럴 네트웤을 임포트하여, 뉴럴 모델을 적용하고 시험하여 보도록 하겠습니다."
   ]
  },
  {
   "cell_type": "code",
   "execution_count": 13,
   "metadata": {
    "collapsed": false,
    "deletable": true,
    "editable": true
   },
   "outputs": [
    {
     "ename": "ERROR",
     "evalue": "Error in library(neuralnet): there is no package called 'neuralnet'\n",
     "output_type": "error",
     "traceback": [
      "Error in library(neuralnet): there is no package called 'neuralnet'\nTraceback:\n",
      "1. library(neuralnet)",
      "2. stop(txt, domain = NA)"
     ]
    }
   ],
   "source": [
    "#라이브러리 설치해야함\n",
    "library(neuralnet)\n",
    "#net.infert 에다가 설정값 넣어주기\n",
    "net.infert <- neuralnet(case~age+parity+induced+spontaneous, data=infert, err.fct=\"ce\", linear.output=FALCE, likeihood=TRUE)"
   ]
  },
  {
   "cell_type": "code",
   "execution_count": 14,
   "metadata": {
    "collapsed": false,
    "deletable": true,
    "editable": true
   },
   "outputs": [
    {
     "ename": "ERROR",
     "evalue": "Error in eval(expr, envir, enclos): 객체 'net.infert'를 찾을 수 없습니다\n",
     "output_type": "error",
     "traceback": [
      "Error in eval(expr, envir, enclos): 객체 'net.infert'를 찾을 수 없습니다\nTraceback:\n"
     ]
    }
   ],
   "source": [
    "#계산된 결과를 알아봅시다\n",
    "net.infert"
   ]
  },
  {
   "cell_type": "code",
   "execution_count": 15,
   "metadata": {
    "collapsed": false,
    "deletable": true,
    "editable": true
   },
   "outputs": [
    {
     "ename": "ERROR",
     "evalue": "Error in plot(net.infert): 객체 'net.infert'를 찾을 수 없습니다\n",
     "output_type": "error",
     "traceback": [
      "Error in plot(net.infert): 객체 'net.infert'를 찾을 수 없습니다\nTraceback:\n",
      "1. plot(net.infert)"
     ]
    }
   ],
   "source": [
    "#시각화해보고\n",
    "plot(net.infert)"
   ]
  },
  {
   "cell_type": "code",
   "execution_count": 16,
   "metadata": {
    "collapsed": false,
    "deletable": true,
    "editable": true
   },
   "outputs": [
    {
     "ename": "ERROR",
     "evalue": "Error in eval(expr, envir, enclos): 객체 'net.infert'를 찾을 수 없습니다\n",
     "output_type": "error",
     "traceback": [
      "Error in eval(expr, envir, enclos): 객체 'net.infert'를 찾을 수 없습니다\nTraceback:\n"
     ]
    }
   ],
   "source": [
    "#함수의 수행 결과를 알아봅시다\n",
    "names(net.infert)"
   ]
  },
  {
   "cell_type": "code",
   "execution_count": 17,
   "metadata": {
    "collapsed": false,
    "deletable": true,
    "editable": true
   },
   "outputs": [
    {
     "ename": "ERROR",
     "evalue": "Error in eval(expr, envir, enclos): 객체 'net.infert'를 찾을 수 없습니다\n",
     "output_type": "error",
     "traceback": [
      "Error in eval(expr, envir, enclos): 객체 'net.infert'를 찾을 수 없습니다\nTraceback:\n"
     ]
    }
   ],
   "source": [
    "#결과 행렬에 대한 정보는 다음을 입력하면 된다.\n",
    "net.infert$result.matrix"
   ]
  },
  {
   "cell_type": "markdown",
   "metadata": {
    "deletable": true,
    "editable": true
   },
   "source": [
    "원 자료와 함께 적합값을 출력하는 절차는 다음과 같습니다, 전체자료는 `$data`에 저장되어 있고, 사용된 자료는 `$covariate` 와 `$response`를 통해 확인가능하며, 적합값은 `$net.result`에 제공된다"
   ]
  },
  {
   "cell_type": "code",
   "execution_count": 19,
   "metadata": {
    "collapsed": false,
    "deletable": true,
    "editable": true
   },
   "outputs": [
    {
     "ename": "ERROR",
     "evalue": "Error in cbind(net.infert$covariate, net.infert$net.result[[1]]): 객체 'net.infert'를 찾을 수 없습니다\n",
     "output_type": "error",
     "traceback": [
      "Error in cbind(net.infert$covariate, net.infert$net.result[[1]]): 객체 'net.infert'를 찾을 수 없습니다\nTraceback:\n",
      "1. cbind(net.infert$covariate, net.infert$net.result[[1]])"
     ]
    }
   ],
   "source": [
    "out <- cbind(net.infert$covariate, net.infert$net.result[[1]])\n",
    "dimnames(out) <- list(NULL, c(\"Age\", \"Parity\", \"Induced\", \"Spontaneous\", \"NN-Output\"))\n",
    "head(out)"
   ]
  },
  {
   "cell_type": "markdown",
   "metadata": {
    "deletable": true,
    "editable": true
   },
   "source": [
    "결과는, `$startweights`와 `$weights`에 제공되며, 적합값의 출력 결과는 위의 그림과 동일함을 확인할 수 있다. \n",
    "\n",
    "#### 일반화가중치 출력하기"
   ]
  },
  {
   "cell_type": "code",
   "execution_count": 20,
   "metadata": {
    "collapsed": false,
    "deletable": true,
    "editable": true
   },
   "outputs": [
    {
     "ename": "ERROR",
     "evalue": "Error in head(net.infert$generalized.weights[[1]]): 객체 'net.infert'를 찾을 수 없습니다\n",
     "output_type": "error",
     "traceback": [
      "Error in head(net.infert$generalized.weights[[1]]): 객체 'net.infert'를 찾을 수 없습니다\nTraceback:\n",
      "1. head(net.infert$generalized.weights[[1]])"
     ]
    }
   ],
   "source": [
    "head(net.infert$generalized.weights[[1]])"
   ]
  },
  {
   "cell_type": "markdown",
   "metadata": {
    "deletable": true,
    "editable": true
   },
   "source": [
    "#### 시각화 수행하기"
   ]
  },
  {
   "cell_type": "code",
   "execution_count": 21,
   "metadata": {
    "collapsed": false,
    "deletable": true,
    "editable": true
   },
   "outputs": [
    {
     "ename": "ERROR",
     "evalue": "Error in eval(expr, envir, enclos): 함수 \"gwplot\"를 찾을 수 없습니다\n",
     "output_type": "error",
     "traceback": [
      "Error in eval(expr, envir, enclos): 함수 \"gwplot\"를 찾을 수 없습니다\nTraceback:\n"
     ]
    }
   ],
   "source": [
    "par(mfrow=c(2, 2))\n",
    "gwplot(net.infert, selected.covariate=\"age\", min=-2.5, max=5)\n",
    "gwplot(net.infert, selected.covariate=\"parity\", min=-2.5, max=5)\n",
    "gwplot(net.infert, selected.covariate=\"induced\", min=-2.5, max=5)\n",
    "gwplot(net.infert, selected.covariate=\"spontaneous\", min=-2.5, max=5)\n",
    "par(mfrow=c(1,1))"
   ]
  },
  {
   "cell_type": "markdown",
   "metadata": {
    "deletable": true,
    "editable": true
   },
   "source": [
    "#### 다층신경망 수행하기\n",
    "\n",
    "#### 의사결정나무 모형\n",
    "\n",
    "아이리스 데이터를 이용하여 의사결정나무 분석을 수행합니다"
   ]
  },
  {
   "cell_type": "code",
   "execution_count": 26,
   "metadata": {
    "collapsed": false,
    "deletable": true,
    "editable": true
   },
   "outputs": [],
   "source": [
    "library(rpart) #rpart 임포트하기"
   ]
  },
  {
   "cell_type": "code",
   "execution_count": 27,
   "metadata": {
    "collapsed": false,
    "deletable": true,
    "editable": true
   },
   "outputs": [
    {
     "data": {
      "text/plain": [
       "n= 150 \n",
       "\n",
       "node), split, n, loss, yval, (yprob)\n",
       "      * denotes terminal node\n",
       "\n",
       "1) root 150 100 setosa (0.33333333 0.33333333 0.33333333)  \n",
       "  2) Petal.Length< 2.45 50   0 setosa (1.00000000 0.00000000 0.00000000) *\n",
       "  3) Petal.Length>=2.45 100  50 versicolor (0.00000000 0.50000000 0.50000000)  \n",
       "    6) Petal.Width< 1.75 54   5 versicolor (0.00000000 0.90740741 0.09259259) *\n",
       "    7) Petal.Width>=1.75 46   1 virginica (0.00000000 0.02173913 0.97826087) *"
      ]
     },
     "metadata": {},
     "output_type": "display_data"
    }
   ],
   "source": [
    "c <- rpart(Species ~., data=iris)\n",
    "c"
   ]
  },
  {
   "cell_type": "markdown",
   "metadata": {
    "deletable": true,
    "editable": true
   },
   "source": [
    "#### 트리모형 시각화 수행\n",
    "\n",
    "plot 함수를 사용하고, 옵션은 T(ree), 마진은 0.3 을 주면 그래프가 생성됩니다"
   ]
  },
  {
   "cell_type": "code",
   "execution_count": 29,
   "metadata": {
    "collapsed": false,
    "deletable": true,
    "editable": true
   },
   "outputs": [
    {
     "data": {
      "image/png": "[encoded data removed]",
      "text/plain": [
       "plot without title"
      ]
     },
     "metadata": {},
     "output_type": "display_data"
    }
   ],
   "source": [
    "plot(c, compress=T, margin=0.3)\n",
    "text(c, cex=1.5)"
   ]
  },
  {
   "cell_type": "markdown",
   "metadata": {
    "deletable": true,
    "editable": true
   },
   "source": [
    "그럼 또 프리딕션을 해보도록 하겠습니다, predict 함수를 사용하여 다음에 대한 모델에 대한 예측을 수행합니다."
   ]
  },
  {
   "cell_type": "code",
   "execution_count": 31,
   "metadata": {
    "collapsed": false,
    "deletable": true,
    "editable": true
   },
   "outputs": [
    {
     "data": {
      "text/html": [
       "<dl class=dl-horizontal>\n",
       "\t<dt>1</dt>\n",
       "\t\t<dd>setosa</dd>\n",
       "\t<dt>2</dt>\n",
       "\t\t<dd>setosa</dd>\n",
       "\t<dt>3</dt>\n",
       "\t\t<dd>setosa</dd>\n",
       "\t<dt>4</dt>\n",
       "\t\t<dd>setosa</dd>\n",
       "\t<dt>5</dt>\n",
       "\t\t<dd>setosa</dd>\n",
       "\t<dt>6</dt>\n",
       "\t\t<dd>setosa</dd>\n",
       "</dl>\n"
      ],
      "text/latex": [
       "\\begin{description*}\n",
       "\\item[1] setosa\n",
       "\\item[2] setosa\n",
       "\\item[3] setosa\n",
       "\\item[4] setosa\n",
       "\\item[5] setosa\n",
       "\\item[6] setosa\n",
       "\\end{description*}\n"
      ],
      "text/markdown": [
       "1\n",
       ":   setosa2\n",
       ":   setosa3\n",
       ":   setosa4\n",
       ":   setosa5\n",
       ":   setosa6\n",
       ":   setosa\n",
       "\n"
      ],
      "text/plain": [
       "     1      2      3      4      5      6 \n",
       "setosa setosa setosa setosa setosa setosa \n",
       "Levels: setosa versicolor virginica"
      ]
     },
     "metadata": {},
     "output_type": "display_data"
    },
    {
     "data": {
      "text/html": [
       "<dl class=dl-horizontal>\n",
       "\t<dt>145</dt>\n",
       "\t\t<dd>virginica</dd>\n",
       "\t<dt>146</dt>\n",
       "\t\t<dd>virginica</dd>\n",
       "\t<dt>147</dt>\n",
       "\t\t<dd>virginica</dd>\n",
       "\t<dt>148</dt>\n",
       "\t\t<dd>virginica</dd>\n",
       "\t<dt>149</dt>\n",
       "\t\t<dd>virginica</dd>\n",
       "\t<dt>150</dt>\n",
       "\t\t<dd>virginica</dd>\n",
       "</dl>\n"
      ],
      "text/latex": [
       "\\begin{description*}\n",
       "\\item[145] virginica\n",
       "\\item[146] virginica\n",
       "\\item[147] virginica\n",
       "\\item[148] virginica\n",
       "\\item[149] virginica\n",
       "\\item[150] virginica\n",
       "\\end{description*}\n"
      ],
      "text/markdown": [
       "145\n",
       ":   virginica146\n",
       ":   virginica147\n",
       ":   virginica148\n",
       ":   virginica149\n",
       ":   virginica150\n",
       ":   virginica\n",
       "\n"
      ],
      "text/plain": [
       "      145       146       147       148       149       150 \n",
       "virginica virginica virginica virginica virginica virginica \n",
       "Levels: setosa versicolor virginica"
      ]
     },
     "metadata": {},
     "output_type": "display_data"
    }
   ],
   "source": [
    "head(predict(c, newdata=iris, type=\"class\"))\n",
    "tail(predict(c, newdata=iris, type=\"class\"))"
   ]
  },
  {
   "cell_type": "markdown",
   "metadata": {
    "deletable": true,
    "editable": true
   },
   "source": [
    "그럼 또 이걸 시각화 한 결과는 다음과 같다"
   ]
  },
  {
   "cell_type": "code",
   "execution_count": 34,
   "metadata": {
    "collapsed": false,
    "deletable": true,
    "editable": true
   },
   "outputs": [
    {
     "ename": "ERROR",
     "evalue": "Error in library(rpart.plot): there is no package called 'rpart.plot'\n",
     "output_type": "error",
     "traceback": [
      "Error in library(rpart.plot): there is no package called 'rpart.plot'\nTraceback:\n",
      "1. library(rpart.plot)",
      "2. stop(txt, domain = NA)"
     ]
    }
   ],
   "source": [
    "library(rpart.plot)\n",
    "prp(c, type=4, extra=2)"
   ]
  },
  {
   "cell_type": "markdown",
   "metadata": {
    "deletable": true,
    "editable": true
   },
   "source": [
    "다음은 전립선 암 환자의 자료입니다, 이 데이터를 이용하여 범주형의 반응변수를 예측 또는 분류합니다. \n",
    "\n",
    "일단 데이터를 불러와 보도록 하겠습니다"
   ]
  },
  {
   "cell_type": "code",
   "execution_count": 35,
   "metadata": {
    "collapsed": false,
    "deletable": true,
    "editable": true
   },
   "outputs": [
    {
     "ename": "ERROR",
     "evalue": "Error in library(party): there is no package called 'party'\n",
     "output_type": "error",
     "traceback": [
      "Error in library(party): there is no package called 'party'\nTraceback:\n",
      "1. library(party)",
      "2. stop(txt, domain = NA)"
     ]
    }
   ],
   "source": [
    "library(party)"
   ]
  },
  {
   "cell_type": "code",
   "execution_count": 36,
   "metadata": {
    "collapsed": true,
    "deletable": true,
    "editable": true
   },
   "outputs": [],
   "source": [
    "data(stagec)"
   ]
  },
  {
   "cell_type": "code",
   "execution_count": 37,
   "metadata": {
    "collapsed": false,
    "deletable": true,
    "editable": true
   },
   "outputs": [
    {
     "name": "stdout",
     "output_type": "stream",
     "text": [
      "'data.frame':\t146 obs. of  8 variables:\n",
      " $ pgtime : num  6.1 9.4 5.2 3.2 1.9 4.8 5.8 7.3 3.7 15.9 ...\n",
      " $ pgstat : int  0 0 1 1 1 0 0 0 1 0 ...\n",
      " $ age    : int  64 62 59 62 64 69 75 71 73 64 ...\n",
      " $ eet    : int  2 1 2 2 2 1 2 2 2 2 ...\n",
      " $ g2     : num  10.26 NA 9.99 3.57 22.56 ...\n",
      " $ grade  : int  2 3 3 2 4 3 2 3 3 3 ...\n",
      " $ gleason: int  4 8 7 4 8 7 NA 7 6 7 ...\n",
      " $ ploidy : Factor w/ 3 levels \"diploid\",\"tetraploid\",..: 1 3 1 1 2 1 2 3 1 2 ...\n"
     ]
    }
   ],
   "source": [
    "str(stagec)"
   ]
  },
  {
   "cell_type": "markdown",
   "metadata": {
    "deletable": true,
    "editable": true
   },
   "source": [
    "다음 코드는 결측값을 제거합니다, 결측값이란 존재하지 않는 값을 말합니다"
   ]
  },
  {
   "cell_type": "code",
   "execution_count": 38,
   "metadata": {
    "collapsed": false,
    "deletable": true,
    "editable": true
   },
   "outputs": [
    {
     "name": "stdout",
     "output_type": "stream",
     "text": [
      "'data.frame':\t134 obs. of  8 variables:\n",
      " $ pgtime : num  6.1 5.2 3.2 1.9 4.8 3.7 15.9 6.3 2.9 1.5 ...\n",
      " $ pgstat : int  0 1 1 1 0 1 0 0 1 1 ...\n",
      " $ age    : int  64 59 62 64 69 73 64 65 58 70 ...\n",
      " $ eet    : int  2 2 2 2 1 2 2 2 2 2 ...\n",
      " $ g2     : num  10.26 9.99 3.57 22.56 6.14 ...\n",
      " $ grade  : int  2 3 2 4 3 3 3 3 4 3 ...\n",
      " $ gleason: int  4 7 4 8 7 6 7 7 8 8 ...\n",
      " $ ploidy : Factor w/ 3 levels \"diploid\",\"tetraploid\",..: 1 1 1 2 1 1 2 2 2 1 ...\n"
     ]
    }
   ],
   "source": [
    "stagec1 <- subset(stagec, !is.na(g2))\n",
    "stagec2 <- subset(stagec1, !is.na(gleason))\n",
    "stagec3 <- subset(stagec2, !is.na(eet))\n",
    "str(stagec3)"
   ]
  },
  {
   "cell_type": "markdown",
   "metadata": {
    "deletable": true,
    "editable": true
   },
   "source": [
    "이제 결측값이 제거된 134개의 자료를 사용하여 모형에 적용해보도록 하겠습니다.\n",
    "\n",
    "벨리데이션 하기 위하여 데이터 70:30 검증데이터로 나누도록 하겠습니다"
   ]
  },
  {
   "cell_type": "code",
   "execution_count": 40,
   "metadata": {
    "collapsed": false,
    "deletable": true,
    "editable": true
   },
   "outputs": [],
   "source": [
    "set.seed(1234)\n",
    "ind <- sample(2, nrow(stagec3), replace=TRUE, prob=c(0.7, 0.3))"
   ]
  },
  {
   "cell_type": "markdown",
   "metadata": {
    "deletable": true,
    "editable": true
   },
   "source": [
    "모형을 만들기 전에 stagec,자료를 복원 추출 방법을 사용하여 두 개의 부분집합을 만들고, 결과의 재현성을 위해 random seed를 고정합니다."
   ]
  },
  {
   "cell_type": "code",
   "execution_count": 41,
   "metadata": {
    "collapsed": false,
    "deletable": true,
    "editable": true
   },
   "outputs": [
    {
     "data": {
      "text/html": [
       "<ol class=list-inline>\n",
       "\t<li>1</li>\n",
       "\t<li>1</li>\n",
       "\t<li>1</li>\n",
       "\t<li>1</li>\n",
       "\t<li>2</li>\n",
       "\t<li>1</li>\n",
       "\t<li>1</li>\n",
       "\t<li>1</li>\n",
       "\t<li>1</li>\n",
       "\t<li>1</li>\n",
       "\t<li>1</li>\n",
       "\t<li>1</li>\n",
       "\t<li>1</li>\n",
       "\t<li>2</li>\n",
       "\t<li>1</li>\n",
       "\t<li>2</li>\n",
       "\t<li>1</li>\n",
       "\t<li>1</li>\n",
       "\t<li>1</li>\n",
       "\t<li>1</li>\n",
       "\t<li>1</li>\n",
       "\t<li>1</li>\n",
       "\t<li>1</li>\n",
       "\t<li>1</li>\n",
       "\t<li>1</li>\n",
       "\t<li>2</li>\n",
       "\t<li>1</li>\n",
       "\t<li>2</li>\n",
       "\t<li>2</li>\n",
       "\t<li>1</li>\n",
       "\t<li>1</li>\n",
       "\t<li>1</li>\n",
       "\t<li>1</li>\n",
       "\t<li>1</li>\n",
       "\t<li>1</li>\n",
       "\t<li>2</li>\n",
       "\t<li>1</li>\n",
       "\t<li>1</li>\n",
       "\t<li>2</li>\n",
       "\t<li>2</li>\n",
       "\t<li>1</li>\n",
       "\t<li>1</li>\n",
       "\t<li>1</li>\n",
       "\t<li>1</li>\n",
       "\t<li>1</li>\n",
       "\t<li>1</li>\n",
       "\t<li>1</li>\n",
       "\t<li>1</li>\n",
       "\t<li>1</li>\n",
       "\t<li>2</li>\n",
       "\t<li>1</li>\n",
       "\t<li>1</li>\n",
       "\t<li>2</li>\n",
       "\t<li>1</li>\n",
       "\t<li>1</li>\n",
       "\t<li>1</li>\n",
       "\t<li>1</li>\n",
       "\t<li>2</li>\n",
       "\t<li>1</li>\n",
       "\t<li>2</li>\n",
       "\t<li>2</li>\n",
       "\t<li>1</li>\n",
       "\t<li>1</li>\n",
       "\t<li>1</li>\n",
       "\t<li>1</li>\n",
       "\t<li>2</li>\n",
       "\t<li>1</li>\n",
       "\t<li>1</li>\n",
       "\t<li>1</li>\n",
       "\t<li>1</li>\n",
       "\t<li>1</li>\n",
       "\t<li>2</li>\n",
       "\t<li>1</li>\n",
       "\t<li>2</li>\n",
       "\t<li>1</li>\n",
       "\t<li>1</li>\n",
       "\t<li>1</li>\n",
       "\t<li>1</li>\n",
       "\t<li>1</li>\n",
       "\t<li>1</li>\n",
       "\t<li>2</li>\n",
       "\t<li>1</li>\n",
       "\t<li>1</li>\n",
       "\t<li>1</li>\n",
       "\t<li>1</li>\n",
       "\t<li>2</li>\n",
       "\t<li>1</li>\n",
       "\t<li>1</li>\n",
       "\t<li>1</li>\n",
       "\t<li>2</li>\n",
       "\t<li>1</li>\n",
       "\t<li>2</li>\n",
       "\t<li>1</li>\n",
       "\t<li>1</li>\n",
       "\t<li>1</li>\n",
       "\t<li>1</li>\n",
       "\t<li>1</li>\n",
       "\t<li>1</li>\n",
       "\t<li>1</li>\n",
       "\t<li>2</li>\n",
       "\t<li>1</li>\n",
       "\t<li>1</li>\n",
       "\t<li>1</li>\n",
       "\t<li>1</li>\n",
       "\t<li>1</li>\n",
       "\t<li>1</li>\n",
       "\t<li>1</li>\n",
       "\t<li>1</li>\n",
       "\t<li>1</li>\n",
       "\t<li>1</li>\n",
       "\t<li>2</li>\n",
       "\t<li>1</li>\n",
       "\t<li>2</li>\n",
       "\t<li>1</li>\n",
       "\t<li>1</li>\n",
       "\t<li>2</li>\n",
       "\t<li>2</li>\n",
       "\t<li>1</li>\n",
       "\t<li>1</li>\n",
       "\t<li>2</li>\n",
       "\t<li>2</li>\n",
       "\t<li>2</li>\n",
       "\t<li>2</li>\n",
       "\t<li>2</li>\n",
       "\t<li>1</li>\n",
       "\t<li>1</li>\n",
       "\t<li>1</li>\n",
       "\t<li>1</li>\n",
       "\t<li>1</li>\n",
       "\t<li>1</li>\n",
       "\t<li>2</li>\n",
       "\t<li>1</li>\n",
       "\t<li>1</li>\n",
       "\t<li>1</li>\n",
       "</ol>\n"
      ],
      "text/latex": [
       "\\begin{enumerate*}\n",
       "\\item 1\n",
       "\\item 1\n",
       "\\item 1\n",
       "\\item 1\n",
       "\\item 2\n",
       "\\item 1\n",
       "\\item 1\n",
       "\\item 1\n",
       "\\item 1\n",
       "\\item 1\n",
       "\\item 1\n",
       "\\item 1\n",
       "\\item 1\n",
       "\\item 2\n",
       "\\item 1\n",
       "\\item 2\n",
       "\\item 1\n",
       "\\item 1\n",
       "\\item 1\n",
       "\\item 1\n",
       "\\item 1\n",
       "\\item 1\n",
       "\\item 1\n",
       "\\item 1\n",
       "\\item 1\n",
       "\\item 2\n",
       "\\item 1\n",
       "\\item 2\n",
       "\\item 2\n",
       "\\item 1\n",
       "\\item 1\n",
       "\\item 1\n",
       "\\item 1\n",
       "\\item 1\n",
       "\\item 1\n",
       "\\item 2\n",
       "\\item 1\n",
       "\\item 1\n",
       "\\item 2\n",
       "\\item 2\n",
       "\\item 1\n",
       "\\item 1\n",
       "\\item 1\n",
       "\\item 1\n",
       "\\item 1\n",
       "\\item 1\n",
       "\\item 1\n",
       "\\item 1\n",
       "\\item 1\n",
       "\\item 2\n",
       "\\item 1\n",
       "\\item 1\n",
       "\\item 2\n",
       "\\item 1\n",
       "\\item 1\n",
       "\\item 1\n",
       "\\item 1\n",
       "\\item 2\n",
       "\\item 1\n",
       "\\item 2\n",
       "\\item 2\n",
       "\\item 1\n",
       "\\item 1\n",
       "\\item 1\n",
       "\\item 1\n",
       "\\item 2\n",
       "\\item 1\n",
       "\\item 1\n",
       "\\item 1\n",
       "\\item 1\n",
       "\\item 1\n",
       "\\item 2\n",
       "\\item 1\n",
       "\\item 2\n",
       "\\item 1\n",
       "\\item 1\n",
       "\\item 1\n",
       "\\item 1\n",
       "\\item 1\n",
       "\\item 1\n",
       "\\item 2\n",
       "\\item 1\n",
       "\\item 1\n",
       "\\item 1\n",
       "\\item 1\n",
       "\\item 2\n",
       "\\item 1\n",
       "\\item 1\n",
       "\\item 1\n",
       "\\item 2\n",
       "\\item 1\n",
       "\\item 2\n",
       "\\item 1\n",
       "\\item 1\n",
       "\\item 1\n",
       "\\item 1\n",
       "\\item 1\n",
       "\\item 1\n",
       "\\item 1\n",
       "\\item 2\n",
       "\\item 1\n",
       "\\item 1\n",
       "\\item 1\n",
       "\\item 1\n",
       "\\item 1\n",
       "\\item 1\n",
       "\\item 1\n",
       "\\item 1\n",
       "\\item 1\n",
       "\\item 1\n",
       "\\item 2\n",
       "\\item 1\n",
       "\\item 2\n",
       "\\item 1\n",
       "\\item 1\n",
       "\\item 2\n",
       "\\item 2\n",
       "\\item 1\n",
       "\\item 1\n",
       "\\item 2\n",
       "\\item 2\n",
       "\\item 2\n",
       "\\item 2\n",
       "\\item 2\n",
       "\\item 1\n",
       "\\item 1\n",
       "\\item 1\n",
       "\\item 1\n",
       "\\item 1\n",
       "\\item 1\n",
       "\\item 2\n",
       "\\item 1\n",
       "\\item 1\n",
       "\\item 1\n",
       "\\end{enumerate*}\n"
      ],
      "text/markdown": [
       "1. 1\n",
       "2. 1\n",
       "3. 1\n",
       "4. 1\n",
       "5. 2\n",
       "6. 1\n",
       "7. 1\n",
       "8. 1\n",
       "9. 1\n",
       "10. 1\n",
       "11. 1\n",
       "12. 1\n",
       "13. 1\n",
       "14. 2\n",
       "15. 1\n",
       "16. 2\n",
       "17. 1\n",
       "18. 1\n",
       "19. 1\n",
       "20. 1\n",
       "21. 1\n",
       "22. 1\n",
       "23. 1\n",
       "24. 1\n",
       "25. 1\n",
       "26. 2\n",
       "27. 1\n",
       "28. 2\n",
       "29. 2\n",
       "30. 1\n",
       "31. 1\n",
       "32. 1\n",
       "33. 1\n",
       "34. 1\n",
       "35. 1\n",
       "36. 2\n",
       "37. 1\n",
       "38. 1\n",
       "39. 2\n",
       "40. 2\n",
       "41. 1\n",
       "42. 1\n",
       "43. 1\n",
       "44. 1\n",
       "45. 1\n",
       "46. 1\n",
       "47. 1\n",
       "48. 1\n",
       "49. 1\n",
       "50. 2\n",
       "51. 1\n",
       "52. 1\n",
       "53. 2\n",
       "54. 1\n",
       "55. 1\n",
       "56. 1\n",
       "57. 1\n",
       "58. 2\n",
       "59. 1\n",
       "60. 2\n",
       "61. 2\n",
       "62. 1\n",
       "63. 1\n",
       "64. 1\n",
       "65. 1\n",
       "66. 2\n",
       "67. 1\n",
       "68. 1\n",
       "69. 1\n",
       "70. 1\n",
       "71. 1\n",
       "72. 2\n",
       "73. 1\n",
       "74. 2\n",
       "75. 1\n",
       "76. 1\n",
       "77. 1\n",
       "78. 1\n",
       "79. 1\n",
       "80. 1\n",
       "81. 2\n",
       "82. 1\n",
       "83. 1\n",
       "84. 1\n",
       "85. 1\n",
       "86. 2\n",
       "87. 1\n",
       "88. 1\n",
       "89. 1\n",
       "90. 2\n",
       "91. 1\n",
       "92. 2\n",
       "93. 1\n",
       "94. 1\n",
       "95. 1\n",
       "96. 1\n",
       "97. 1\n",
       "98. 1\n",
       "99. 1\n",
       "100. 2\n",
       "101. 1\n",
       "102. 1\n",
       "103. 1\n",
       "104. 1\n",
       "105. 1\n",
       "106. 1\n",
       "107. 1\n",
       "108. 1\n",
       "109. 1\n",
       "110. 1\n",
       "111. 2\n",
       "112. 1\n",
       "113. 2\n",
       "114. 1\n",
       "115. 1\n",
       "116. 2\n",
       "117. 2\n",
       "118. 1\n",
       "119. 1\n",
       "120. 2\n",
       "121. 2\n",
       "122. 2\n",
       "123. 2\n",
       "124. 2\n",
       "125. 1\n",
       "126. 1\n",
       "127. 1\n",
       "128. 1\n",
       "129. 1\n",
       "130. 1\n",
       "131. 2\n",
       "132. 1\n",
       "133. 1\n",
       "134. 1\n",
       "\n",
       "\n"
      ],
      "text/plain": [
       "  [1] 1 1 1 1 2 1 1 1 1 1 1 1 1 2 1 2 1 1 1 1 1 1 1 1 1 2 1 2 2 1 1 1 1 1 1 2 1\n",
       " [38] 1 2 2 1 1 1 1 1 1 1 1 1 2 1 1 2 1 1 1 1 2 1 2 2 1 1 1 1 2 1 1 1 1 1 2 1 2\n",
       " [75] 1 1 1 1 1 1 2 1 1 1 1 2 1 1 1 2 1 2 1 1 1 1 1 1 1 2 1 1 1 1 1 1 1 1 1 1 2\n",
       "[112] 1 2 1 1 2 2 1 1 2 2 2 2 2 1 1 1 1 1 1 2 1 1 1"
      ]
     },
     "metadata": {},
     "output_type": "display_data"
    }
   ],
   "source": [
    "ind #일단 데이터 출력해보고\n",
    "trainData <- stagec3[ind==1, ] #102개의 학습 데이터\n",
    "testData <- stagec3[ind==2, ] #32개의 테스트 데이터"
   ]
  },
  {
   "cell_type": "markdown",
   "metadata": {
    "deletable": true,
    "editable": true
   },
   "source": [
    "#### 또 시각화 하면 이렇다"
   ]
  },
  {
   "cell_type": "code",
   "execution_count": 42,
   "metadata": {
    "collapsed": false,
    "deletable": true,
    "editable": true
   },
   "outputs": [
    {
     "ename": "ERROR",
     "evalue": "Error in eval(expr, envir, enclos): 함수 \"ctree\"를 찾을 수 없습니다\n",
     "output_type": "error",
     "traceback": [
      "Error in eval(expr, envir, enclos): 함수 \"ctree\"를 찾을 수 없습니다\nTraceback:\n"
     ]
    }
   ],
   "source": [
    "tree <- ctree(ploidy~., data=trainData)\n",
    "tree\n",
    "plot(tree)"
   ]
  },
  {
   "cell_type": "markdown",
   "metadata": {
    "deletable": true,
    "editable": true
   },
   "source": [
    "프리딕션 함수를 사용하여 검증용 자료에 적합모형을 적용하면 다음과 같습니다"
   ]
  },
  {
   "cell_type": "code",
   "execution_count": 44,
   "metadata": {
    "collapsed": false,
    "deletable": true,
    "editable": true
   },
   "outputs": [
    {
     "ename": "ERROR",
     "evalue": "Error in predict(tree, newdata = testData): 객체 'tree'를 찾을 수 없습니다\n",
     "output_type": "error",
     "traceback": [
      "Error in predict(tree, newdata = testData): 객체 'tree'를 찾을 수 없습니다\nTraceback:\n",
      "1. predict(tree, newdata = testData)"
     ]
    }
   ],
   "source": [
    "testPred = predict(tree, newdata=testData)\n",
    "table(testPred, testData$ploidy)"
   ]
  },
  {
   "cell_type": "markdown",
   "metadata": {
    "deletable": true,
    "editable": true
   },
   "source": [
    "### 앙상블 모형\n",
    "\n",
    "앙상블 모형이란 여러개의 분류모형에 대한 결과를 종합하여 분류의 정확도를 높이는 방법입니다.\n",
    "\n",
    "데이터를 모은 다음에 데이터를 가지고 하나의 분류기를 만들어내는 것이고, 배깅, 부스팅, 랜덤포레스트 방법이 있습니다. (랜덤포레스트 방법은 배깅의 개념과 feature의 임의 선택을 결합한 앙상블 기법입니다)\n",
    "\n",
    "가. 배깅\n",
    "\n",
    "배깅이란 데이터 집합에서 크기가 같은 표본을 여러번 단순 임의 복원추출하여 각 표본에 대해 분류기를 생성한 후에 그 결과를 앙상블하는 기법입니다, 반복추출 방법을 사용하기 때문에 같은 데이터가 한 표본에 여러번 추출될 수 있고, 어떤 데이터는 추출되지 않을 수도 있습니다.\n",
    "\n",
    "나. 부스팅\n",
    "\n",
    "~~레드불이 아닙니다~~\n",
    "\n",
    "부스팅은 베깅의 과정과 유사하나, 붓스트랩 표본을 구성하는 재표본 과정에서 각 자료에 동일한 확률을 부여하는 것이 아니라, 분류가 잘못된 데이터에 더 큰 가중을 주어 표본을 추출합니다.\n",
    "\n",
    "부스팅에서는 붓스트랩 표본을 추출하여 분류기를 만든 후에 , 그 분류결과를 이용하여 각 데이터가 추출될 확률을 조사한 후, 다음 붓스트랩 표본을 추출하는 과정을 반복합니다.\n",
    "\n",
    "아다부스팅(Adaboosting)은 가장 많이 사용되는 부스팅 알고리즘 입니다. \n",
    "\n",
    "다. 랜덤 포레스트\n",
    "\n",
    "랜덤 포레스트는 배깅에 랜덤 과정을 추가한 방법입니다, 각 노드마다 모든 예측변수 안에서 최적의 분할 을 선택하는 방법 대신에 예측변수들을 임의로 추출하고, 추출된 변수 내에서 최적의 분할을 만들어 나가는 방법을 사용합니다.\n",
    "\n",
    "새로운 자료에 대한 예측은 분로의 경우는 다수결로, 회귀의 경우에는 평균을 취하는 방법을 사용하며, 이는 다른 앙상블 모형과 동일합니다.\n",
    "\n",
    "아래의 코드는 가의 배깅부터 시작합니다"
   ]
  },
  {
   "cell_type": "code",
   "execution_count": 45,
   "metadata": {
    "collapsed": false,
    "deletable": true,
    "editable": true
   },
   "outputs": [
    {
     "ename": "ERROR",
     "evalue": "Error in library(adabag): there is no package called 'adabag'\n",
     "output_type": "error",
     "traceback": [
      "Error in library(adabag): there is no package called 'adabag'\nTraceback:\n",
      "1. library(adabag)",
      "2. stop(txt, domain = NA)"
     ]
    }
   ],
   "source": [
    "library(adabag)"
   ]
  },
  {
   "cell_type": "code",
   "execution_count": 46,
   "metadata": {
    "collapsed": true,
    "deletable": true,
    "editable": true
   },
   "outputs": [],
   "source": [
    "data(iris)"
   ]
  },
  {
   "cell_type": "code",
   "execution_count": 47,
   "metadata": {
    "collapsed": false,
    "deletable": true,
    "editable": true
   },
   "outputs": [
    {
     "ename": "ERROR",
     "evalue": "Error in eval(expr, envir, enclos): 함수 \"bagging\"를 찾을 수 없습니다\n",
     "output_type": "error",
     "traceback": [
      "Error in eval(expr, envir, enclos): 함수 \"bagging\"를 찾을 수 없습니다\nTraceback:\n"
     ]
    }
   ],
   "source": [
    "iris.bagging <- bagging(Species~., data=iris, mfinal=10)"
   ]
  },
  {
   "cell_type": "code",
   "execution_count": 48,
   "metadata": {
    "collapsed": false,
    "deletable": true,
    "editable": true
   },
   "outputs": [
    {
     "ename": "ERROR",
     "evalue": "Error in eval(expr, envir, enclos): 객체 'iris.bagging'를 찾을 수 없습니다\n",
     "output_type": "error",
     "traceback": [
      "Error in eval(expr, envir, enclos): 객체 'iris.bagging'를 찾을 수 없습니다\nTraceback:\n"
     ]
    }
   ],
   "source": [
    "iris.bagging$importance"
   ]
  },
  {
   "cell_type": "code",
   "execution_count": 49,
   "metadata": {
    "collapsed": false,
    "deletable": true,
    "editable": true
   },
   "outputs": [
    {
     "ename": "ERROR",
     "evalue": "Error in plot(iris.bagging$trees[[10]]): 객체 'iris.bagging'를 찾을 수 없습니다\n",
     "output_type": "error",
     "traceback": [
      "Error in plot(iris.bagging$trees[[10]]): 객체 'iris.bagging'를 찾을 수 없습니다\nTraceback:\n",
      "1. plot(iris.bagging$trees[[10]])"
     ]
    }
   ],
   "source": [
    "plot(iris.bagging$trees[[10]])\n",
    "text(iris.bagging$trees[[10]])\n",
    "# 플롯 함수를 사용하여 분류 결과를 트리 형태로 나타냅니다"
   ]
  },
  {
   "cell_type": "code",
   "execution_count": 50,
   "metadata": {
    "collapsed": false,
    "deletable": true,
    "editable": true
   },
   "outputs": [
    {
     "ename": "ERROR",
     "evalue": "Error in predict(iris.bagging, newdata = iris): 객체 'iris.bagging'를 찾을 수 없습니다\n",
     "output_type": "error",
     "traceback": [
      "Error in predict(iris.bagging, newdata = iris): 객체 'iris.bagging'를 찾을 수 없습니다\nTraceback:\n",
      "1. predict(iris.bagging, newdata = iris)"
     ]
    }
   ],
   "source": [
    "#predict 함수를 통하여 새로운 자료에 대한 예측을 수행할 수 있습니다.\n",
    "#데이터 재사용하여 분류를 수행, 결과는 다음과 같다.\n",
    "pred <- predict(iris.bagging, newdata=iris)\n",
    "table(pred$class, iris[,5])"
   ]
  },
  {
   "cell_type": "code",
   "execution_count": 51,
   "metadata": {
    "collapsed": false,
    "deletable": true,
    "editable": true
   },
   "outputs": [
    {
     "ename": "ERROR",
     "evalue": "Error in library(adabag): there is no package called 'adabag'\n",
     "output_type": "error",
     "traceback": [
      "Error in library(adabag): there is no package called 'adabag'\nTraceback:\n",
      "1. library(adabag)",
      "2. stop(txt, domain = NA)"
     ]
    }
   ],
   "source": [
    "# 부스팅 코드\n",
    "library(adabag)\n",
    "data(iris)\n",
    "boo.adabag <- boosting(Species~., data=iris, boos=TRUE, mfinal=10)\n",
    "boo.adabag$importance"
   ]
  },
  {
   "cell_type": "code",
   "execution_count": 52,
   "metadata": {
    "collapsed": false,
    "deletable": true,
    "editable": true
   },
   "outputs": [
    {
     "ename": "ERROR",
     "evalue": "Error in plot(boo.adabag$trees[[10]]): 객체 'boo.adabag'를 찾을 수 없습니다\n",
     "output_type": "error",
     "traceback": [
      "Error in plot(boo.adabag$trees[[10]]): 객체 'boo.adabag'를 찾을 수 없습니다\nTraceback:\n",
      "1. plot(boo.adabag$trees[[10]])"
     ]
    }
   ],
   "source": [
    "## 분류수행하 후에 결과 플롯으로 추출하기\n",
    "plot(boo.adabag$trees[[10]])\n",
    "text(boo.adabag$trees[[10]])"
   ]
  },
  {
   "cell_type": "code",
   "execution_count": 53,
   "metadata": {
    "collapsed": false,
    "deletable": true,
    "editable": true
   },
   "outputs": [
    {
     "ename": "ERROR",
     "evalue": "Error in predict(boo.adabag, netdata = iris): 객체 'boo.adabag'를 찾을 수 없습니다\n",
     "output_type": "error",
     "traceback": [
      "Error in predict(boo.adabag, netdata = iris): 객체 'boo.adabag'를 찾을 수 없습니다\nTraceback:\n",
      "1. predict(boo.adabag, netdata = iris)"
     ]
    }
   ],
   "source": [
    "## 다시 또 코드 재사용하여 재분류를 시행하였을때의 결과는 다음과 같음\n",
    "pred <- predict(boo.adabag, netdata=iris)\n",
    "tb <- table(pred$class, iris[,5])\n",
    "tb"
   ]
  },
  {
   "cell_type": "code",
   "execution_count": 54,
   "metadata": {
    "collapsed": false,
    "deletable": true,
    "editable": true
   },
   "outputs": [
    {
     "ename": "ERROR",
     "evalue": "Error in diag(tb): 객체 'tb'를 찾을 수 없습니다\n",
     "output_type": "error",
     "traceback": [
      "Error in diag(tb): 객체 'tb'를 찾을 수 없습니다\nTraceback:\n",
      "1. diag(tb)"
     ]
    }
   ],
   "source": [
    "## 오류분율 계산\n",
    "error.rpart <- 1-(sum(diag(tb))/sum(tb))\n",
    "error.rpart"
   ]
  },
  {
   "cell_type": "code",
   "execution_count": 55,
   "metadata": {
    "collapsed": false,
    "deletable": true,
    "editable": true
   },
   "outputs": [
    {
     "ename": "ERROR",
     "evalue": "Error in library(ada): there is no package called 'ada'\n",
     "output_type": "error",
     "traceback": [
      "Error in library(ada): there is no package called 'ada'\nTraceback:\n",
      "1. library(ada)",
      "2. stop(txt, domain = NA)"
     ]
    }
   ],
   "source": [
    "## 이번 코드는 아다 라이브러리를 사용하여, 아다부스팅을 시행한 예이다\n",
    "library(ada)\n",
    "data(iris)\n",
    "iris[iris$Species!=\"setosa\", ] -> iris # setosa 50개 외 자료는 제외한다\n",
    "n <- dim(iris)[1]"
   ]
  },
  {
   "cell_type": "code",
   "execution_count": 57,
   "metadata": {
    "collapsed": false,
    "deletable": true,
    "editable": true
   },
   "outputs": [
    {
     "ename": "ERROR",
     "evalue": "Error in sample(1:n, floor(0.6 * n), FALSE): 객체 'n'를 찾을 수 없습니다\n",
     "output_type": "error",
     "traceback": [
      "Error in sample(1:n, floor(0.6 * n), FALSE): 객체 'n'를 찾을 수 없습니다\nTraceback:\n",
      "1. sample(1:n, floor(0.6 * n), FALSE)"
     ]
    }
   ],
   "source": [
    "#100개의 자료 중 훈련 60 검증 40 으로 해서 나눈다\n",
    "trind <- sample(1:n, floor(.6*n), FALSE)\n",
    "teind <- setdiff(1:n, trind)\n",
    "iris[, 5]<- as.factor((levels(iris[, 5])[2:3])[as.numeric(iris[, 5])-1])"
   ]
  },
  {
   "cell_type": "markdown",
   "metadata": {
    "deletable": true,
    "editable": true
   },
   "source": [
    "훈련 데이터를 이용하여 부스팅 방법으로 묘형을 구축한 뒤에, 검증용 자료에 대해 분류를 실시하였다, 그 결과 검증용 자료에 대한 정분류율이 백프로로 나타난다"
   ]
  },
  {
   "cell_type": "code",
   "execution_count": 59,
   "metadata": {
    "collapsed": false,
    "deletable": true,
    "editable": true
   },
   "outputs": [
    {
     "ename": "ERROR",
     "evalue": "Error in eval(expr, envir, enclos): 함수 \"ada\"를 찾을 수 없습니다\n",
     "output_type": "error",
     "traceback": [
      "Error in eval(expr, envir, enclos): 함수 \"ada\"를 찾을 수 없습니다\nTraceback:\n"
     ]
    }
   ],
   "source": [
    "gdis <- ada(Species~., data=iris[trind, ], iter=20, nu=1, type=\"discrete\")\n",
    "gdis <- addtest(gdis, iris[teind, -5], iris[teind, 5])\n",
    "gdis"
   ]
  },
  {
   "cell_type": "code",
   "execution_count": 60,
   "metadata": {
    "collapsed": false,
    "deletable": true,
    "editable": true
   },
   "outputs": [
    {
     "ename": "ERROR",
     "evalue": "Error in plot(gdis, TRUE, TRUE): 객체 'gdis'를 찾을 수 없습니다\n",
     "output_type": "error",
     "traceback": [
      "Error in plot(gdis, TRUE, TRUE): 객체 'gdis'를 찾을 수 없습니다\nTraceback:\n",
      "1. plot(gdis, TRUE, TRUE)"
     ]
    }
   ],
   "source": [
    "# 이제 또 시각화를 해보면...\n",
    "plot(gdis, TRUE, TRUE)"
   ]
  },
  {
   "cell_type": "code",
   "execution_count": 61,
   "metadata": {
    "collapsed": false,
    "deletable": true,
    "editable": true
   },
   "outputs": [
    {
     "ename": "ERROR",
     "evalue": "Error in eval(expr, envir, enclos): 함수 \"varplot\"를 찾을 수 없습니다\n",
     "output_type": "error",
     "traceback": [
      "Error in eval(expr, envir, enclos): 함수 \"varplot\"를 찾을 수 없습니다\nTraceback:\n"
     ]
    }
   ],
   "source": [
    "# 바플롯 함수는 변수의 중요도를 나타내는 그림을 제공한다, Speal.Length 변수가 분류에\n",
    "# 가장 중요한 변수로 사용되었음을 보여준다\n",
    "varplot(gdis)"
   ]
  },
  {
   "cell_type": "markdown",
   "metadata": {
    "deletable": true,
    "editable": true
   },
   "source": [
    "### 랜덤 포레스트\n",
    "\n",
    "의사결정나무에서 사용되었던 코드를 가지고 랜덤포레스트 분류를 시행합니다\n",
    "\n",
    "아래 결과는 정보분류표와 함께, 오류율에 대한 OOB 추정치를 제공합니다, 랜덤포레스트에서는 별도의 검증용 데이터를 사용하지 않더라도 붓스트랩 샘플과정에서 제외된 자료를 사용하여 검증을 실시할 수 있습니다."
   ]
  },
  {
   "cell_type": "code",
   "execution_count": 63,
   "metadata": {
    "collapsed": false,
    "deletable": true,
    "editable": true
   },
   "outputs": [
    {
     "ename": "ERROR",
     "evalue": "Error in library(randomForest): there is no package called 'randomForest'\n",
     "output_type": "error",
     "traceback": [
      "Error in library(randomForest): there is no package called 'randomForest'\nTraceback:\n",
      "1. library(randomForest)",
      "2. stop(txt, domain = NA)"
     ]
    }
   ],
   "source": [
    "library(randomForest)\n",
    "library(rpart)\n",
    "data(stagec)\n",
    "stage3 <- stagec[complete,cases(stagec),]\n",
    "set.seed(1234)\n",
    "ind <- sample(2, nrow(stagec3), replace=TRUE, prob=c(0.7, 0.3))\n",
    "trainData <- stagec3[ind==1,]\n",
    "testData <- stagec3[ind==2, ]\n",
    "rf <- randomForest(ploidy~., data=trainData, ntree=100, proximity=TRUE)\n",
    "table(predict(rf), trainData$ploidy)\n",
    "print(rf)"
   ]
  },
  {
   "cell_type": "code",
   "execution_count": 64,
   "metadata": {
    "collapsed": false,
    "deletable": true,
    "editable": true
   },
   "outputs": [
    {
     "ename": "ERROR",
     "evalue": "Error in x(x): 기본값이 없는 인수 \"df1\"가 누락되어 있습니다\n",
     "output_type": "error",
     "traceback": [
      "Error in x(x): 기본값이 없는 인수 \"df1\"가 누락되어 있습니다\nTraceback:\n",
      "1. plot(rf)",
      "2. plot.function(rf)",
      "3. curve(expr = x, from = from, to = to, xlim = xlim, ylab = ylab, \n .     ...)",
      "4. eval(expr, envir = ll, enclos = parent.frame())",
      "5. eval(expr, envir, enclos)",
      "6. x(x)"
     ]
    }
   ],
   "source": [
    "## 이 코드는 오류율을 나타내는 함수입니다\n",
    "plot(rf)"
   ]
  },
  {
   "cell_type": "code",
   "execution_count": 65,
   "metadata": {
    "collapsed": false,
    "deletable": true,
    "editable": true
   },
   "outputs": [
    {
     "ename": "ERROR",
     "evalue": "Error in eval(expr, envir, enclos): 함수 \"importance\"를 찾을 수 없습니다\n",
     "output_type": "error",
     "traceback": [
      "Error in eval(expr, envir, enclos): 함수 \"importance\"를 찾을 수 없습니다\nTraceback:\n"
     ]
    }
   ],
   "source": [
    "importance(rf) ## 이 함수를 사용하여 변수의 중요성을 알아볼 수 있다\n",
    "varImpPlot(rf) ## 그래프로 출력해 줄 것임"
   ]
  },
  {
   "cell_type": "markdown",
   "metadata": {
    "deletable": true,
    "editable": true
   },
   "source": [
    "위 그림은 각 변수의 중요도를 나타내는 그림으로 해당 변수로부터 분할이 일어날 때 불순도의 감소가 얼마나 일어나는지를 나타내는 값이다. \n",
    "\n",
    "아래의 코드는 테스트 자료에 대해 예측을 수행한 결과입니다"
   ]
  },
  {
   "cell_type": "code",
   "execution_count": 68,
   "metadata": {
    "collapsed": false,
    "deletable": true,
    "editable": true
   },
   "outputs": [
    {
     "ename": "ERROR",
     "evalue": "Error in predict(tf, newdata = testData): 객체 'tf'를 찾을 수 없습니다\n",
     "output_type": "error",
     "traceback": [
      "Error in predict(tf, newdata = testData): 객체 'tf'를 찾을 수 없습니다\nTraceback:\n",
      "1. predict(tf, newdata = testData)"
     ]
    }
   ],
   "source": [
    "rf.pred <- predict(tf, newdata=testData)\n",
    "table(tf.pred, testData$ploidy)"
   ]
  },
  {
   "cell_type": "markdown",
   "metadata": {
    "deletable": true,
    "editable": true
   },
   "source": [
    "아래의 자료는 훈련용 자료값의 마진을 나타냅니다, 마진은 랜덤포레스트의 분류기 가운데 정분류를 수행한 비율에서 다른 클래스로 분류한 비율의 최대치를 뺀 값을 나타냅니다.\n",
    "\n",
    "즉 양의 마진은 정확한 분류를 의미하며, 음은 그 반대입니다"
   ]
  },
  {
   "cell_type": "code",
   "execution_count": 69,
   "metadata": {
    "collapsed": false,
    "deletable": true,
    "editable": true
   },
   "outputs": [
    {
     "ename": "ERROR",
     "evalue": "Error in plot(margin(rf)): 함수 \"margin\"를 찾을 수 없습니다\n",
     "output_type": "error",
     "traceback": [
      "Error in plot(margin(rf)): 함수 \"margin\"를 찾을 수 없습니다\nTraceback:\n",
      "1. plot(margin(rf))"
     ]
    }
   ],
   "source": [
    "plot(margin(rf))"
   ]
  },
  {
   "cell_type": "markdown",
   "metadata": {
    "deletable": true,
    "editable": true
   },
   "source": [
    "랜덤포레스트는 다음과 같이 R패키지 party의 cforest함수를 이용할 수도 있다."
   ]
  },
  {
   "cell_type": "code",
   "execution_count": 70,
   "metadata": {
    "collapsed": false,
    "deletable": true,
    "editable": true
   },
   "outputs": [
    {
     "ename": "ERROR",
     "evalue": "Error in eval(expr, envir, enclos): 함수 \"cforest\"를 찾을 수 없습니다\n",
     "output_type": "error",
     "traceback": [
      "Error in eval(expr, envir, enclos): 함수 \"cforest\"를 찾을 수 없습니다\nTraceback:\n"
     ]
    }
   ],
   "source": [
    "set.seed(1234)\n",
    "cf <- cforest(ploidy ~., data=trainData)\n",
    "cf.pred <- predict(cf, newdata=testData, OOB=TRUE, type=\"response\")"
   ]
  },
  {
   "cell_type": "markdown",
   "metadata": {
    "deletable": true,
    "editable": true
   },
   "source": [
    "### 제3절, 군집분석\n",
    "\n",
    "군집분석은 이상값탐지(Fraud Detection), 심리학, 사회학, 경영학, 생물학 등 다양한 분야에 이용됩니다.\n",
    "\n",
    "군집분석은 각 개체에 대해 관측된 여러 개의 변수값들로부터 n개의 재체를 유사한 성격을 가지는 몇 개의 군집으로 집단화하고 형성된 군집들의 특성을 파악하여 군집들 사이의 관계를 분석하는 다변량분석 기법입니다.\n",
    "\n",
    "군집화의 방법에는 계층적 군집, 분리군집, 밀도-기반군집, 모형-기반군집, 격자-기반군집, 커널-기반군집, SOM(Self-Organizing Map) 방법 등이 있습니다. \n",
    "\n",
    "계층적 군집을 형성하는 방법에는 작은 군집으로부터 출발하여 군집을 병합해 나가는 병합적 방법과, 큰 군집으로부터 출발하여 군집을 분리해 나가는 분할적 방법이 있습니다. \n",
    "\n",
    "다음 그림은 병합적 방법으로 계층적군집을 형성해 나가는 과정을 보여줍니다, 한 개의 항목으로 시작하여 군집을 형성해 나가는 매 단계 마다 모든 그룹 쌍 간의 거리를 계산하여 가까운 순으로 병합을 수행합니다.\n",
    "\n",
    "![](Capture1.PNG)\n",
    "\n",
    "이 과정을 한 개 그룹만 남을 때 까지 혹은 종료의 조건이 될 때 까지 반복합니다, 여기에서 그룹 혹은 항목간의 상대적 거리가 가까울수록 유사성이 높다고 말할 수 있습니다.\n",
    "\n",
    "계층적 군집의 결과는 다음과 같이 덴드로그램의 형태로 표현합니다, 이 그림을 통해 군집간의 구조적 관계를 쉽게 살표볼 수 있습니다, 이 구조를 통해서 항목간의 거리, 군집간의 거리를 알 수 있고, 군집 내의 항목 간 유사정도를 파악함으로써 군집의 견고성을 해석할 수 있습니다. \n",
    "\n",
    "![](Capture2.PNG)\n",
    "\n",
    "계층적군집을 수행할 때 두 군집간의 거리를 측정하는 방법에 따라, 병합방법이 달라집니다, 거리측정 또는 병합에 따른 방법에는 최단연결법, 최장연결법, 중심연결법, 평균연결법, 와드연결법이 있습니다.\n",
    "\n",
    "최단연결법은 두 군집 사이의 거리를 각 군집에서 하나씩 관측값을 뽑았을때 나타날 수 있는 거리의 최소값으로 측정합니다, 최단거리를 사용할 때 사슬 모양으로 생길 수 있으며, 고립된 군집을 찾는데 중점을 둔 방법입니다.\n",
    "\n",
    "최장연결법은 두 군집 사이의 거리를 각 군집에서 하나씩 관측 값을 뽑았을 때 나타날 수 있는 거리의 최대값으로 측정합니다, 같은 군집에 속하는 관측치는 알려진 최대 거리보다 짧으며, 군집들의 내부 응집성의 중점을 둔 방법입니다\n",
    "\n",
    "중심연결법은 두 군집의 중심 간에 거리를 측정합니다, 두 군집이 결합될 때 새로운 군집의 평균은 가중평균을 통해 구해집니다.\n",
    "\n",
    "평균연결법은 두 군집의 중심 간의 거리를 측정합니다, 두 군집이 결합될 때 새로운 군집의 평균은 가중평균을 통해 구해집니다\n",
    "\n",
    "마지막으로 와드연결법은 군집간의 거리에 기반하는 다른 연결법과는 달리 군집내의 오차제곱합에 기초하여 군집을 수해합니다, 보통 두 군집이 합해지면 병합된 군집의 오차제곱합은 병합 이전 각 군집의 오차제곱합의 합 보다 커지게 되는데, 그 증가량이 가장 작아지는 방향으로 군집을 형성해 나가는 방법입니다. 와드연결법은 크기가 비슷한 군집끼리 병합하는 경향이 있습니다. \n",
    "\n",
    "아래 코드부터 차례로 계층적군집~와드연결법을 수행합니다\n",
    "\n",
    "데이터는 미국에서 1973년에 벌어진 범죄사건들의 데이터셋입니다"
   ]
  },
  {
   "cell_type": "code",
   "execution_count": 71,
   "metadata": {
    "collapsed": true,
    "deletable": true,
    "editable": true
   },
   "outputs": [],
   "source": [
    "data(USArrests)"
   ]
  },
  {
   "cell_type": "code",
   "execution_count": 72,
   "metadata": {
    "collapsed": false,
    "deletable": true,
    "editable": true
   },
   "outputs": [
    {
     "name": "stdout",
     "output_type": "stream",
     "text": [
      "'data.frame':\t50 obs. of  4 variables:\n",
      " $ Murder  : num  13.2 10 8.1 8.8 9 7.9 3.3 5.9 15.4 17.4 ...\n",
      " $ Assault : int  236 263 294 190 276 204 110 238 335 211 ...\n",
      " $ UrbanPop: int  58 48 80 50 91 78 77 72 80 60 ...\n",
      " $ Rape    : num  21.2 44.5 31 19.5 40.6 38.7 11.1 15.8 31.9 25.8 ...\n"
     ]
    }
   ],
   "source": [
    "str(USArrests)"
   ]
  },
  {
   "cell_type": "markdown",
   "metadata": {
    "deletable": true,
    "editable": true
   },
   "source": [
    "dist()는 거리 행렬을 제공하는 함수로 method=옵션을 통하여 다양한 방식으로 거리를 정의할 수 있습니다, 함수의 메소드 옵션에는 유클리디언 멕시멈 맨하탄 바이너리 민코우스키 등이 있습니다, hclust() 함수는 계층적 군집 분석을 수행하는 함수로 메소드 옵션을 통하여 병합 또는 연결 방법을 지정할 수 있습니다. hclust() 함수의 메소드 옵션에는 와드 싱글 컴플리트 에버리지 센트로이드 등이 있습니다"
   ]
  },
  {
   "cell_type": "code",
   "execution_count": 73,
   "metadata": {
    "collapsed": true,
    "deletable": true,
    "editable": true
   },
   "outputs": [],
   "source": [
    "d <- dist(USArrests, method=\"euclidean\")"
   ]
  },
  {
   "cell_type": "code",
   "execution_count": 74,
   "metadata": {
    "collapsed": true,
    "deletable": true,
    "editable": true
   },
   "outputs": [],
   "source": [
    "fit <- hclust(d, method=\"ave\")"
   ]
  },
  {
   "cell_type": "markdown",
   "metadata": {
    "deletable": true,
    "editable": true
   },
   "source": [
    "계층적군집 분석의 결과는 플롯 함수를 통해 덴드로그램으로 시각화 할 수 있습니다"
   ]
  },
  {
   "cell_type": "code",
   "execution_count": 75,
   "metadata": {
    "collapsed": false,
    "deletable": true,
    "editable": true
   },
   "outputs": [
    {
     "data": {
      "image/png": "[encoded data removed]",
      "text/plain": [
       "Plot with title \"Cluster Dendrogram\""
      ]
     },
     "metadata": {},
     "output_type": "display_data"
    }
   ],
   "source": [
    "par(mfrow = c(1, 2))\n",
    "plot(fit)\n",
    "plot(fit, hang = -1)\n",
    "par(mfrow=c(1, 1))"
   ]
  },
  {
   "cell_type": "markdown",
   "metadata": {
    "deletable": true,
    "editable": true
   },
   "source": [
    "cutree()는 계층적군집의 결과를 이용하여 트리의 높이나 그룹의 수를 옵션으로 지정하여 원하는 수의 그룹으로 나눌 수 있습니다"
   ]
  },
  {
   "cell_type": "code",
   "execution_count": 76,
   "metadata": {
    "collapsed": true,
    "deletable": true,
    "editable": true
   },
   "outputs": [],
   "source": [
    "groups <- cutree(fit, k=6)"
   ]
  },
  {
   "cell_type": "code",
   "execution_count": 77,
   "metadata": {
    "collapsed": false,
    "deletable": true,
    "editable": true
   },
   "outputs": [
    {
     "data": {
      "text/html": [
       "<dl class=dl-horizontal>\n",
       "\t<dt>Alabama</dt>\n",
       "\t\t<dd>1</dd>\n",
       "\t<dt>Alaska</dt>\n",
       "\t\t<dd>1</dd>\n",
       "\t<dt>Arizona</dt>\n",
       "\t\t<dd>1</dd>\n",
       "\t<dt>Arkansas</dt>\n",
       "\t\t<dd>2</dd>\n",
       "\t<dt>California</dt>\n",
       "\t\t<dd>1</dd>\n",
       "\t<dt>Colorado</dt>\n",
       "\t\t<dd>2</dd>\n",
       "\t<dt>Connecticut</dt>\n",
       "\t\t<dd>3</dd>\n",
       "\t<dt>Delaware</dt>\n",
       "\t\t<dd>1</dd>\n",
       "\t<dt>Florida</dt>\n",
       "\t\t<dd>4</dd>\n",
       "\t<dt>Georgia</dt>\n",
       "\t\t<dd>2</dd>\n",
       "\t<dt>Hawaii</dt>\n",
       "\t\t<dd>5</dd>\n",
       "\t<dt>Idaho</dt>\n",
       "\t\t<dd>3</dd>\n",
       "\t<dt>Illinois</dt>\n",
       "\t\t<dd>1</dd>\n",
       "\t<dt>Indiana</dt>\n",
       "\t\t<dd>3</dd>\n",
       "\t<dt>Iowa</dt>\n",
       "\t\t<dd>5</dd>\n",
       "\t<dt>Kansas</dt>\n",
       "\t\t<dd>3</dd>\n",
       "\t<dt>Kentucky</dt>\n",
       "\t\t<dd>3</dd>\n",
       "\t<dt>Louisiana</dt>\n",
       "\t\t<dd>1</dd>\n",
       "\t<dt>Maine</dt>\n",
       "\t\t<dd>5</dd>\n",
       "\t<dt>Maryland</dt>\n",
       "\t\t<dd>1</dd>\n",
       "\t<dt>Massachusetts</dt>\n",
       "\t\t<dd>6</dd>\n",
       "\t<dt>Michigan</dt>\n",
       "\t\t<dd>1</dd>\n",
       "\t<dt>Minnesota</dt>\n",
       "\t\t<dd>5</dd>\n",
       "\t<dt>Mississippi</dt>\n",
       "\t\t<dd>1</dd>\n",
       "\t<dt>Missouri</dt>\n",
       "\t\t<dd>2</dd>\n",
       "\t<dt>Montana</dt>\n",
       "\t\t<dd>3</dd>\n",
       "\t<dt>Nebraska</dt>\n",
       "\t\t<dd>3</dd>\n",
       "\t<dt>Nevada</dt>\n",
       "\t\t<dd>1</dd>\n",
       "\t<dt>New Hampshire</dt>\n",
       "\t\t<dd>5</dd>\n",
       "\t<dt>New Jersey</dt>\n",
       "\t\t<dd>6</dd>\n",
       "\t<dt>New Mexico</dt>\n",
       "\t\t<dd>1</dd>\n",
       "\t<dt>New York</dt>\n",
       "\t\t<dd>1</dd>\n",
       "\t<dt>North Carolina</dt>\n",
       "\t\t<dd>4</dd>\n",
       "\t<dt>North Dakota</dt>\n",
       "\t\t<dd>5</dd>\n",
       "\t<dt>Ohio</dt>\n",
       "\t\t<dd>3</dd>\n",
       "\t<dt>Oklahoma</dt>\n",
       "\t\t<dd>6</dd>\n",
       "\t<dt>Oregon</dt>\n",
       "\t\t<dd>6</dd>\n",
       "\t<dt>Pennsylvania</dt>\n",
       "\t\t<dd>3</dd>\n",
       "\t<dt>Rhode Island</dt>\n",
       "\t\t<dd>6</dd>\n",
       "\t<dt>South Carolina</dt>\n",
       "\t\t<dd>1</dd>\n",
       "\t<dt>South Dakota</dt>\n",
       "\t\t<dd>5</dd>\n",
       "\t<dt>Tennessee</dt>\n",
       "\t\t<dd>2</dd>\n",
       "\t<dt>Texas</dt>\n",
       "\t\t<dd>2</dd>\n",
       "\t<dt>Utah</dt>\n",
       "\t\t<dd>3</dd>\n",
       "\t<dt>Vermont</dt>\n",
       "\t\t<dd>5</dd>\n",
       "\t<dt>Virginia</dt>\n",
       "\t\t<dd>6</dd>\n",
       "\t<dt>Washington</dt>\n",
       "\t\t<dd>6</dd>\n",
       "\t<dt>West Virginia</dt>\n",
       "\t\t<dd>5</dd>\n",
       "\t<dt>Wisconsin</dt>\n",
       "\t\t<dd>5</dd>\n",
       "\t<dt>Wyoming</dt>\n",
       "\t\t<dd>6</dd>\n",
       "</dl>\n"
      ],
      "text/latex": [
       "\\begin{description*}\n",
       "\\item[Alabama] 1\n",
       "\\item[Alaska] 1\n",
       "\\item[Arizona] 1\n",
       "\\item[Arkansas] 2\n",
       "\\item[California] 1\n",
       "\\item[Colorado] 2\n",
       "\\item[Connecticut] 3\n",
       "\\item[Delaware] 1\n",
       "\\item[Florida] 4\n",
       "\\item[Georgia] 2\n",
       "\\item[Hawaii] 5\n",
       "\\item[Idaho] 3\n",
       "\\item[Illinois] 1\n",
       "\\item[Indiana] 3\n",
       "\\item[Iowa] 5\n",
       "\\item[Kansas] 3\n",
       "\\item[Kentucky] 3\n",
       "\\item[Louisiana] 1\n",
       "\\item[Maine] 5\n",
       "\\item[Maryland] 1\n",
       "\\item[Massachusetts] 6\n",
       "\\item[Michigan] 1\n",
       "\\item[Minnesota] 5\n",
       "\\item[Mississippi] 1\n",
       "\\item[Missouri] 2\n",
       "\\item[Montana] 3\n",
       "\\item[Nebraska] 3\n",
       "\\item[Nevada] 1\n",
       "\\item[New Hampshire] 5\n",
       "\\item[New Jersey] 6\n",
       "\\item[New Mexico] 1\n",
       "\\item[New York] 1\n",
       "\\item[North Carolina] 4\n",
       "\\item[North Dakota] 5\n",
       "\\item[Ohio] 3\n",
       "\\item[Oklahoma] 6\n",
       "\\item[Oregon] 6\n",
       "\\item[Pennsylvania] 3\n",
       "\\item[Rhode Island] 6\n",
       "\\item[South Carolina] 1\n",
       "\\item[South Dakota] 5\n",
       "\\item[Tennessee] 2\n",
       "\\item[Texas] 2\n",
       "\\item[Utah] 3\n",
       "\\item[Vermont] 5\n",
       "\\item[Virginia] 6\n",
       "\\item[Washington] 6\n",
       "\\item[West Virginia] 5\n",
       "\\item[Wisconsin] 5\n",
       "\\item[Wyoming] 6\n",
       "\\end{description*}\n"
      ],
      "text/markdown": [
       "Alabama\n",
       ":   1Alaska\n",
       ":   1Arizona\n",
       ":   1Arkansas\n",
       ":   2California\n",
       ":   1Colorado\n",
       ":   2Connecticut\n",
       ":   3Delaware\n",
       ":   1Florida\n",
       ":   4Georgia\n",
       ":   2Hawaii\n",
       ":   5Idaho\n",
       ":   3Illinois\n",
       ":   1Indiana\n",
       ":   3Iowa\n",
       ":   5Kansas\n",
       ":   3Kentucky\n",
       ":   3Louisiana\n",
       ":   1Maine\n",
       ":   5Maryland\n",
       ":   1Massachusetts\n",
       ":   6Michigan\n",
       ":   1Minnesota\n",
       ":   5Mississippi\n",
       ":   1Missouri\n",
       ":   2Montana\n",
       ":   3Nebraska\n",
       ":   3Nevada\n",
       ":   1New Hampshire\n",
       ":   5New Jersey\n",
       ":   6New Mexico\n",
       ":   1New York\n",
       ":   1North Carolina\n",
       ":   4North Dakota\n",
       ":   5Ohio\n",
       ":   3Oklahoma\n",
       ":   6Oregon\n",
       ":   6Pennsylvania\n",
       ":   3Rhode Island\n",
       ":   6South Carolina\n",
       ":   1South Dakota\n",
       ":   5Tennessee\n",
       ":   2Texas\n",
       ":   2Utah\n",
       ":   3Vermont\n",
       ":   5Virginia\n",
       ":   6Washington\n",
       ":   6West Virginia\n",
       ":   5Wisconsin\n",
       ":   5Wyoming\n",
       ":   6\n",
       "\n"
      ],
      "text/plain": [
       "       Alabama         Alaska        Arizona       Arkansas     California \n",
       "             1              1              1              2              1 \n",
       "      Colorado    Connecticut       Delaware        Florida        Georgia \n",
       "             2              3              1              4              2 \n",
       "        Hawaii          Idaho       Illinois        Indiana           Iowa \n",
       "             5              3              1              3              5 \n",
       "        Kansas       Kentucky      Louisiana          Maine       Maryland \n",
       "             3              3              1              5              1 \n",
       " Massachusetts       Michigan      Minnesota    Mississippi       Missouri \n",
       "             6              1              5              1              2 \n",
       "       Montana       Nebraska         Nevada  New Hampshire     New Jersey \n",
       "             3              3              1              5              6 \n",
       "    New Mexico       New York North Carolina   North Dakota           Ohio \n",
       "             1              1              4              5              3 \n",
       "      Oklahoma         Oregon   Pennsylvania   Rhode Island South Carolina \n",
       "             6              6              3              6              1 \n",
       "  South Dakota      Tennessee          Texas           Utah        Vermont \n",
       "             5              2              2              3              5 \n",
       "      Virginia     Washington  West Virginia      Wisconsin        Wyoming \n",
       "             6              6              5              5              6 "
      ]
     },
     "metadata": {},
     "output_type": "display_data"
    }
   ],
   "source": [
    "groups"
   ]
  },
  {
   "cell_type": "markdown",
   "metadata": {
    "deletable": true,
    "editable": true
   },
   "source": [
    "덴드로그램은 플롯 함수와 rect.hclust() 함수를 사용하여 각각의 그룹을 사각형으로 구분지어 나타낼 수 있습니다, 위에서 cutree() 함수로 나누어진 그룹가 동일하게 표시되었음을 확인 할 수 있습니다"
   ]
  },
  {
   "cell_type": "code",
   "execution_count": 78,
   "metadata": {
    "collapsed": false,
    "deletable": true,
    "editable": true
   },
   "outputs": [
    {
     "data": {
      "image/png": "[encoded data removed]",
      "text/plain": [
       "Plot with title \"Cluster Dendrogram\""
      ]
     },
     "metadata": {},
     "output_type": "display_data"
    }
   ],
   "source": [
    "plot(fit)\n",
    "rect.hclust(fit, k=6, border=\"red\")"
   ]
  },
  {
   "cell_type": "markdown",
   "metadata": {
    "deletable": true,
    "editable": true
   },
   "source": [
    "rect.hclust() 함수는 그룹수(k)를 이용하여 그룹을 시각화 할 뿐만 아니라, 트리의 높이와 위치를 이용하여 그룹의 전체 또는 일부를 나타낼 수 있습니다."
   ]
  },
  {
   "cell_type": "code",
   "execution_count": 79,
   "metadata": {
    "collapsed": false,
    "deletable": true,
    "editable": true
   },
   "outputs": [
    {
     "data": {
      "image/png": "[encoded data removed]",
      "text/plain": [
       "Plot with title \"Cluster Dendrogram\""
      ]
     },
     "metadata": {},
     "output_type": "display_data"
    }
   ],
   "source": [
    "hca <- hclust(dist(USArrests))\n",
    "plot(hca)\n",
    "rect.hclust(hca, k=3, border = \"red\")\n",
    "rect.hclust(hca, h=50, which=c(2, 7), border=3:4)"
   ]
  },
  {
   "cell_type": "markdown",
   "metadata": {
    "deletable": true,
    "editable": true
   },
   "source": [
    "R패키지 클러스터의 agnes 함수는 계층적 군집방법 중 병합적 방법을 이용하여 분석합니다, 여기서 메트릭 옵션을 통해 유클리디언 맨하탄 등의 거리를 지정할 수 있으며, 메소드 옵션을 통해 병합(또는 연결) 방법을 지정할 수 있습니다. 메트릭 옵션을 이용하지 않고 daisy() 함수를 이용하여 거리를 계산할 수도 있습니다. daisy() 함수는 데이터 관측치 사이의 거리를 계산해 주며, 자료의 형태가 수치형을 필요가 없다는 점에서 앞서 소개한 dist() 함수보다 유연합니다. daisy() 함수의 옵션에는 유클리디언 맨하탄 고워 등이 있습니다"
   ]
  },
  {
   "cell_type": "code",
   "execution_count": 81,
   "metadata": {
    "collapsed": false,
    "deletable": true,
    "editable": true
   },
   "outputs": [
    {
     "data": {
      "text/plain": [
       "Call:\t agnes(x = USArrests, metric = \"manhattan\", stand = TRUE) \n",
       "Agglomerative coefficient:  0.7584535 \n",
       "Order of objects:\n",
       " [1] Alabama        Tennessee      Georgia        Louisiana      Mississippi   \n",
       " [6] South Carolina North Carolina Alaska         Arizona        Maryland      \n",
       "[11] New Mexico     Michigan       Illinois       New York       Texas         \n",
       "[16] Florida        California     Colorado       Nevada         Arkansas      \n",
       "[21] Idaho          Nebraska       Kentucky       Montana        Indiana       \n",
       "[26] Kansas         Oklahoma       Ohio           Pennsylvania   Virginia      \n",
       "[31] Wyoming        Delaware       Missouri       Oregon         Washington    \n",
       "[36] Connecticut    Utah           Hawaii         Massachusetts  New Jersey    \n",
       "[41] Rhode Island   Iowa           New Hampshire  Maine          Minnesota     \n",
       "[46] Wisconsin      North Dakota   Vermont        South Dakota   West Virginia \n",
       "Height (summary):\n",
       "   Min. 1st Qu.  Median    Mean 3rd Qu.    Max. \n",
       " 0.3718  1.5670  2.0340  2.3770  2.9200  7.3160 \n",
       "\n",
       "Available components:\n",
       "[1] \"order\"     \"height\"    \"ac\"        \"merge\"     \"diss\"      \"call\"     \n",
       "[7] \"method\"    \"order.lab\" \"data\"     "
      ]
     },
     "metadata": {},
     "output_type": "display_data"
    },
    {
     "data": {
      "image/png": "[encoded data removed]",
      "text/plain": [
       "Plot with title \"Dendrogram of  agnes(x = USArrests, metric = \"manhattan\", stand = TRUE)\""
      ]
     },
     "metadata": {},
     "output_type": "display_data"
    }
   ],
   "source": [
    "## agnes 함수를 사용하여 계층적 군집을 수행합니다.\n",
    "\n",
    "library(cluster)\n",
    "agn1 <- agnes(USArrests, metric=\"manhattan\", stand=TRUE)\n",
    "agn1\n",
    "par(mfrow=c(1, 2))\n",
    "plot(agn1)"
   ]
  },
  {
   "cell_type": "code",
   "execution_count": 82,
   "metadata": {
    "collapsed": false,
    "deletable": true,
    "editable": true
   },
   "outputs": [
    {
     "data": {
      "image/png": "[encoded data removed]",
      "text/plain": [
       "Plot with title \"Banner of  agnes(x = daisy(USArrests), diss = TRUE, method =\n",
       "       \"complete\")\""
      ]
     },
     "metadata": {},
     "output_type": "display_data"
    },
    {
     "data": {
      "image/png": "[encoded data removed]",
      "text/plain": [
       "Plot with title \"Dendrogram of  agnes(x = daisy(USArrests), diss = TRUE, method =\n",
       "       \"complete\")\""
      ]
     },
     "metadata": {},
     "output_type": "display_data"
    }
   ],
   "source": [
    "agn2 <- agnes(daisy(USArrests), diss=TRUE, method=\"complete\")\n",
    "plot(agn2)"
   ]
  },
  {
   "cell_type": "code",
   "execution_count": 83,
   "metadata": {
    "collapsed": false,
    "deletable": true,
    "editable": true
   },
   "outputs": [
    {
     "data": {
      "image/png": "[encoded data removed]",
      "text/plain": [
       "Plot with title \"Banner of  agnes(x = USArrests, method = \"flexible\", par.method = 0.6)\""
      ]
     },
     "metadata": {},
     "output_type": "display_data"
    },
    {
     "data": {
      "image/png": "[encoded data removed]",
      "text/plain": [
       "Plot with title \"Dendrogram of  agnes(x = USArrests, method = \"flexible\", par.method = 0.6)\""
      ]
     },
     "metadata": {},
     "output_type": "display_data"
    }
   ],
   "source": [
    "agn3 <- agnes(USArrests, method=\"flexible\", par.meth=0.6)\n",
    "plot(agn3)\n",
    "par(mfrow=c(1,1))"
   ]
  },
  {
   "cell_type": "markdown",
   "metadata": {
    "deletable": true,
    "editable": true
   },
   "source": [
    "계층적 군집 모형의 특징은 다음과 같습니다, 계층적군집 방법은 군집을 형성하는 매 단계에서 지역적 최적화를 수행해 나가는 방법을 사용하므로 그 결과가 전역적인 최적해라고 볼 수는 없습니다 병합적 방법에서 한번 군집이 형성되면 군집에 속한 개체는 다른 군집으로 이동할 수 없습니다. 중심연결법, 와드연결법 등에서는 군집의 크기에 가중을 두어 병합을 시도하므로 크기가 큰 군집과의 병합이 유도될 수 있습니다."
   ]
  },
  {
   "cell_type": "code",
   "execution_count": null,
   "metadata": {
    "collapsed": true,
    "deletable": true,
    "editable": true
   },
   "outputs": [],
   "source": []
  }
 ],
 "metadata": {
  "kernelspec": {
   "display_name": "R",
   "language": "R",
   "name": "ir"
  },
  "language_info": {
   "codemirror_mode": "r",
   "file_extension": ".r",
   "mimetype": "text/x-r-source",
   "name": "R",
   "pygments_lexer": "r",
   "version": "3.3.2"
  }
 },
 "nbformat": 4,
 "nbformat_minor": 2
}

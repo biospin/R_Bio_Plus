{
 "cells": [
  {
   "cell_type": "markdown",
   "metadata": {},
   "source": [
    "# TensorBoard: Graph Visualization"
   ]
  },
  {
   "cell_type": "markdown",
   "metadata": {},
   "source": [
    "TensorFlow graphs( TensorFlow의 연산과정을 나타내는 그래프)는 강력하지만, 복잡하다.  \n",
    "\n",
    "이 그래프 시각화는 연산과정을 이해하고 디버깅하는데 많은 도움이 됨.\n",
    "\n",
    "\n",
    "![](https://rstudio.github.io/tensorflow/images/graph_vis_animation.gif)"
   ]
  },
  {
   "cell_type": "markdown",
   "metadata": {},
   "source": [
    "## Name scoping and nodes\n",
    "\n",
    "TensorFlow graphs는 한번에 어려울 정도로 아주 많은 노드를 포함하고 있고, 그래프 도구를 이용해서 볼 수 있음. \n",
    "\n",
    "Variable names으로 유효한 범위를 지정할 수 있고, 시각화는  그래프에 포함된 노드들의 계층구조 정보를 보여줌.\n",
    "\n",
    "아래 예제는 tf$name_scope은 사용해서 hidden이라는 이름 아래 3가지 값들을 넣는 것을 보여줌.\n"
   ]
  },
  {
   "cell_type": "code",
   "execution_count": null,
   "metadata": {
    "collapsed": true
   },
   "outputs": [],
   "source": [
    "with(tf$name_scope(\"hidden\") %as% scope, {\n",
    "  a <- tf$constant(5L, name=\"alpha\")\n",
    "  W <- tf$Variable(tf$random_uniform(shape(1L, 2L), -1.0, 1.0), name=\"weights\")\n",
    "  b <- tf$Variable(tf$zeros(shape(1L), name=\"biases\")) \n",
    "})"
   ]
  },
  {
   "cell_type": "markdown",
   "metadata": {},
   "source": [
    "결과는 아래와 같음.\n",
    "\n",
    "- hidden/alpha\n",
    "- hidden/weights\n",
    "- hidden/biases\n",
    "\n",
    "hidden 아래에 있는 3가지의 정보는 접혀있고, + 기호를 더블클릭하면 노드 정보가 확장되고 알파벳순으로 서브 노드를 볼 수 있음.\n",
    "이름 범위로 노드들 그룹화를 잘 하면, 그래프를 읽기 쉽음.\n",
    "\n",
    "|![](https://rstudio.github.io/tensorflow/images/pool1_collapsed.png)   | ![](https://rstudio.github.io/tensorflow/images/pool1_expanded.png)\n",
    "|----------------------------------------------------------------------|----------------------------------------------\n",
    "| 접혀져 있는 상태                                                       | pool_1 이름영역을 확장된 상태\n",
    "\n",
    "\n",
    "TensorFlow graphs는 데이터 종속성과 제어 종속성이라는 2가지 연결을 보여줌.\n",
    "\n",
    "- 데이터 종속성은 두 연산 사이의 텐서 흐름을 보여 주며 실선 화살표로 표시\n",
    "- 제어 종속성은 점선을 사용\n"
   ]
  },
  {
   "cell_type": "markdown",
   "metadata": {},
   "source": [
    "---\n",
    "TensorFlow graphs는 모든 연결을 다 보여주면 복잡함.\n",
    "\n",
    "그래서 혼란을 줄이기 위해서 모든 상위 노드에서 오른쪽의 보조영역으로 분리하고 연결선은 그리지 않음.\n",
    "\n",
    "연결선 대신에 작은 노드 아이콘을 그려서 연결을 나타냄.\n",
    "\n",
    "| ![](https://rstudio.github.io/tensorflow/images/conv_1.png)  | ![](https://rstudio.github.io/tensorflow/images/save.png)\n",
    "|--------------------------------------------------------------|----------------------------------------------\n",
    "| conv_1 노드는 Save와 연결되어짐.                                | save 는 상위 노드이고 보조영역을 갖음."
   ]
  },
  {
   "cell_type": "markdown",
   "metadata": {},
   "source": [
    "---\n",
    "TensorFlow graphs는 시리즈 축소는 기능을 제공함.\n",
    "\n",
    "순차적 모티프 (즉, 이름이 끝에 숫자만큼 다르며 동질 구조를 갖는 노드)는 아래에 표시된 것처럼 단일 노드 스택으로 축소됩니다.\n",
    "\n",
    "| ![](https://rstudio.github.io/tensorflow/images/series.png) | ![](https://rstudio.github.io/tensorflow/images/series_expanded.png)\n",
    "|--------------------------------------------------------------|----------------------------------------------\n",
    "| 이름 끝의 숫자만 다른 노드들을 축소상태                            | 더블 클릭하면, 모든 노드가 확장됨."
   ]
  },
  {
   "cell_type": "markdown",
   "metadata": {},
   "source": [
    "---\n",
    "마지막으로, 상수 및 요약 노드에 대한 특수 아이콘을 사용함.\n",
    "\n",
    "\n",
    "|  Symbol\t                                                         | Meaning\n",
    "|--------------------------------------------------------------------|----------------------------------------------\n",
    "|![](https://rstudio.github.io/tensorflow/images/namespace_node.png) | 이름 범위를 나타내는 상위 수준 노드, 더블클릭하면 확장됨.\n",
    "|![](https://rstudio.github.io/tensorflow/images/horizontal_stack.png) | 이름 끝의 숫자만 다른 연결되지 않은 노드들\n",
    "|![](https://rstudio.github.io/tensorflow/images/vertical_stack.png) | 이름 끝의 숫자만 다른 연결된 노드들\n",
    "|![](https://rstudio.github.io/tensorflow/images/op_node.png) | 개별 작업 노드 \n",
    "|![](https://rstudio.github.io/tensorflow/images/constant.png) | 상수 노드 \n",
    "|![](https://rstudio.github.io/tensorflow/images/summary.png) | 요약 노드 \n",
    "|![](https://rstudio.github.io/tensorflow/images/dataflow_edge.png) | 작업간의 데이터의 흐름을 보여주는 연결선\n",
    "|![](https://rstudio.github.io/tensorflow/images/control_edge.png) | 작업간의 제어 종속성을 보여주는 연결선 \n",
    "|![](https://rstudio.github.io/tensorflow/images/reference_edge.png) | 출력 연산 노드가 입력 tensor를 변경할 수 있음을 보여주는 참조 연결선 \n",
    "\n"
   ]
  },
  {
   "cell_type": "markdown",
   "metadata": {},
   "source": [
    "## Interaction "
   ]
  },
  {
   "cell_type": "markdown",
   "metadata": {},
   "source": [
    "이동 및 확대/축소를 하면서 TensorFlow graphs를 탐색할 수 있음.\n",
    "\n",
    "더블클릭 또는 + 버튼을 클릭하면 이름범위가 확장,  - 버튼을 클릭하면 이름범위가 축소\n",
    "\n",
    "|![](https://rstudio.github.io/tensorflow/images/infocard.png) |![](https://rstudio.github.io/tensorflow/images/infocard_op.png)\n",
    "|--------------------------------------------------------------|----------------------------------------------\n",
    "| conv2 의 이름영역에 대한 상세 정보                               | DecodeRaw 라는 연산 노드에 대한 상세 정보"
   ]
  },
  {
   "cell_type": "markdown",
   "metadata": {
    "collapsed": true
   },
   "source": [
    "## Tensor shape information\n",
    "\n",
    "GraphDef은  tensor을 도형으로 표시하고, graph visualizer는 tensor 차원(예, 784x500)을 표시함. \n",
    "\n",
    "연결선의 두께는 전체 tensor 사이지를 반영함.\n",
    "\n",
    "GraphDef에 tensor을 보여주기 위해서는 tf$summary$FileWriter로 데이터를 저장해야함.\n",
    "\n",
    "아래는 CIFAR-10 model을 보여줌.\n",
    "\n",
    "![](https://rstudio.github.io/tensorflow/images/tensor_shapes.png)"
   ]
  },
  {
   "cell_type": "markdown",
   "metadata": {},
   "source": [
    "## Runtime statistics\n",
    "\n",
    "총 메모리 사용량, 전체 계산 시간 및 노드의 텐서 형태와 같이 실행에 대한 런타임 메타 데이터를 수집하는 것이 필요함.\n",
    "\n",
    "아래의 코드 예제는 간단한 MNIST 튜토리얼을 요약 및 런타임 통계를 기록하도록 한 코드임."
   ]
  },
  {
   "cell_type": "code",
   "execution_count": null,
   "metadata": {
    "collapsed": true
   },
   "outputs": [],
   "source": [
    " Train the model, and also write summaries.\n",
    "# Every 10th step, measure test-set accuracy, and write test summaries\n",
    "# All other steps, run train_step on training data, & add training summaries\n",
    "\n",
    "# Make a TensorFlow feed_dict: maps data onto Tensor placeholders.\n",
    "feed_dict <- function(train) {\n",
    "  if (train || FLAGS$fake_data) {\n",
    "    batch <- mnist$train$next_batch(100L, fake_data = FLAGS$fake_data)\n",
    "    xs <- batch[[1]]\n",
    "    ys <- batch[[2]]\n",
    "    k <- FLAGS$dropout\n",
    "  } else {\n",
    "    xs <- mnist$test$images\n",
    "    ys <- mnist$test$labels\n",
    "    k <- 1.0\n",
    "  }\n",
    "  dict(x = xs,\n",
    "       y_ = ys,\n",
    "       keep_prob = k)\n",
    "}\n",
    "\n",
    "for (i in 1:FLAGS$max_steps) {\n",
    "  if (i %% 10 == 0) { # Record summaries and test-set accuracy\n",
    "    result <- sess$run(list(merged, accuracy), feed_dict = feed_dict(FALSE))\n",
    "    summary <- result[[1]]\n",
    "    acc <- result[[2]]\n",
    "    test_writer$add_summary(summary, i)\n",
    "  } else {  # Record train set summaries, and train\n",
    "    if (i %% 100 == 99) { # Record execution stats\n",
    "      run_options <- tf$RunOptions(trace_level = tf$RunOptions()$FULL_TRACE)\n",
    "      run_metadata <- tf$RunMetadata()\n",
    "      result <- sess$run(list(merged, train_step),\n",
    "                         feed_dict = feed_dict(TRUE),\n",
    "                         options = run_options,\n",
    "                         run_metadata = run_metadata)\n",
    "      summary <- result[[1]]\n",
    "      train_writer$add_run_metadata(run_metadata, sprintf(\"step%03d\", i))\n",
    "      train_writer$add_summary(summary, i)\n",
    "      cat(\"Adding run metadata for \", i, \"\\n\")\n",
    "    } else {  # Record a summary\n",
    "      result <- sess$run(list(merged, train_step), feed_dict = feed_dict(TRUE))\n",
    "      summary <- result[[1]]\n",
    "      train_writer$add_summary(summary, i)\n",
    "    }\n",
    "  }\n",
    "}"
   ]
  },
  {
   "cell_type": "markdown",
   "metadata": {},
   "source": [
    "tensorboard를 실행하고 Graph 탭으로 이동하면 \"Session runs\"아래에 메타 데이터가 추가 된 단계에 해당하는 옵션이 표시\n",
    "\n",
    "왼쪽의 컨트롤에서 총 메모리 또는 전체 계산 시간으로 노드를 색이 변함.\n",
    "\n",
    "노드를 클릭하면 정확한 총 메모리, 계산 시간 및 텐서 출력 크기가 표시"
   ]
  },
  {
   "cell_type": "code",
   "execution_count": null,
   "metadata": {
    "collapsed": true
   },
   "outputs": [],
   "source": []
  }
 ],
 "metadata": {
  "kernelspec": {
   "display_name": "Python 2",
   "language": "python",
   "name": "python2"
  },
  "language_info": {
   "codemirror_mode": {
    "name": "ipython",
    "version": 2
   },
   "file_extension": ".py",
   "mimetype": "text/x-python",
   "name": "python",
   "nbconvert_exporter": "python",
   "pygments_lexer": "ipython2",
   "version": "2.7.11"
  }
 },
 "nbformat": 4,
 "nbformat_minor": 0
}
